{
 "cells": [
  {
   "cell_type": "markdown",
   "metadata": {
    "deletable": true,
    "editable": true
   },
   "source": [
    "# Session 2\n",
    "## Experiment 0\n",
    "###  Lab"
   ]
  },
  {
   "cell_type": "markdown",
   "metadata": {
    "deletable": true,
    "editable": true
   },
   "source": [
    "#### Objectives\n",
    "\n",
    "To understand the following concepts:\n",
    "  * Recap Visualization \n",
    "  * Visualization of higher dimensional data in lower dimensions\n",
    "  * Visualizing linear classifiers"
   ]
  },
  {
   "cell_type": "markdown",
   "metadata": {
    "deletable": true,
    "editable": true
   },
   "source": [
    "We have a modified version of the fruits data. This time there are three attributes and 1 Label \n",
    "  1. Weight in grams\n",
    "  2. Colour encoded as before (1 = RED ... )\n",
    "  3. Number of seeds\n",
    "  4. \"A\" or \"B\"\n",
    "  \n",
    "There are three files:\n",
    "  * 01-fruits-labelled.csv\n",
    "    - which has all four fields: Weight, Colour, Seeds, Label\n",
    "  * 01-fruits.csv\n",
    "    - which has: Weight, Colour, Seeds\n",
    "  * 01-fruits-labels.csv\n",
    "    - which has just the labels"
   ]
  },
  {
   "cell_type": "markdown",
   "metadata": {
    "deletable": true,
    "editable": true
   },
   "source": [
    "## numpy notes\n",
    "M.T is the Transpose of matrix M\n",
    "\n",
    "dot(x, y) is a function that computes the dot product of two vectors a and b. Of course the dimensions must be appropriate."
   ]
  },
  {
   "cell_type": "code",
   "execution_count": 1,
   "metadata": {
    "collapsed": false,
    "deletable": true,
    "editable": true
   },
   "outputs": [
    {
     "data": {
      "text/html": [
       "<div>\n",
       "<table border=\"1\" class=\"dataframe\">\n",
       "  <thead>\n",
       "    <tr style=\"text-align: right;\">\n",
       "      <th></th>\n",
       "      <th>Weight</th>\n",
       "      <th>Colour</th>\n",
       "      <th>Seeds</th>\n",
       "    </tr>\n",
       "  </thead>\n",
       "  <tbody>\n",
       "    <tr>\n",
       "      <th>0</th>\n",
       "      <td>303</td>\n",
       "      <td>3</td>\n",
       "      <td>1</td>\n",
       "    </tr>\n",
       "    <tr>\n",
       "      <th>1</th>\n",
       "      <td>370</td>\n",
       "      <td>1</td>\n",
       "      <td>2</td>\n",
       "    </tr>\n",
       "    <tr>\n",
       "      <th>2</th>\n",
       "      <td>298</td>\n",
       "      <td>3</td>\n",
       "      <td>1</td>\n",
       "    </tr>\n",
       "    <tr>\n",
       "      <th>3</th>\n",
       "      <td>277</td>\n",
       "      <td>3</td>\n",
       "      <td>1</td>\n",
       "    </tr>\n",
       "    <tr>\n",
       "      <th>4</th>\n",
       "      <td>377</td>\n",
       "      <td>4</td>\n",
       "      <td>2</td>\n",
       "    </tr>\n",
       "    <tr>\n",
       "      <th>5</th>\n",
       "      <td>299</td>\n",
       "      <td>3</td>\n",
       "      <td>1</td>\n",
       "    </tr>\n",
       "    <tr>\n",
       "      <th>6</th>\n",
       "      <td>382</td>\n",
       "      <td>1</td>\n",
       "      <td>2</td>\n",
       "    </tr>\n",
       "    <tr>\n",
       "      <th>7</th>\n",
       "      <td>374</td>\n",
       "      <td>4</td>\n",
       "      <td>6</td>\n",
       "    </tr>\n",
       "    <tr>\n",
       "      <th>8</th>\n",
       "      <td>303</td>\n",
       "      <td>4</td>\n",
       "      <td>1</td>\n",
       "    </tr>\n",
       "    <tr>\n",
       "      <th>9</th>\n",
       "      <td>309</td>\n",
       "      <td>3</td>\n",
       "      <td>1</td>\n",
       "    </tr>\n",
       "    <tr>\n",
       "      <th>10</th>\n",
       "      <td>359</td>\n",
       "      <td>1</td>\n",
       "      <td>2</td>\n",
       "    </tr>\n",
       "    <tr>\n",
       "      <th>11</th>\n",
       "      <td>366</td>\n",
       "      <td>1</td>\n",
       "      <td>4</td>\n",
       "    </tr>\n",
       "    <tr>\n",
       "      <th>12</th>\n",
       "      <td>311</td>\n",
       "      <td>3</td>\n",
       "      <td>1</td>\n",
       "    </tr>\n",
       "    <tr>\n",
       "      <th>13</th>\n",
       "      <td>302</td>\n",
       "      <td>3</td>\n",
       "      <td>1</td>\n",
       "    </tr>\n",
       "    <tr>\n",
       "      <th>14</th>\n",
       "      <td>373</td>\n",
       "      <td>4</td>\n",
       "      <td>4</td>\n",
       "    </tr>\n",
       "    <tr>\n",
       "      <th>15</th>\n",
       "      <td>305</td>\n",
       "      <td>3</td>\n",
       "      <td>1</td>\n",
       "    </tr>\n",
       "    <tr>\n",
       "      <th>16</th>\n",
       "      <td>371</td>\n",
       "      <td>3</td>\n",
       "      <td>6</td>\n",
       "    </tr>\n",
       "  </tbody>\n",
       "</table>\n",
       "</div>"
      ],
      "text/plain": [
       "    Weight  Colour  Seeds\n",
       "0      303       3      1\n",
       "1      370       1      2\n",
       "2      298       3      1\n",
       "3      277       3      1\n",
       "4      377       4      2\n",
       "5      299       3      1\n",
       "6      382       1      2\n",
       "7      374       4      6\n",
       "8      303       4      1\n",
       "9      309       3      1\n",
       "10     359       1      2\n",
       "11     366       1      4\n",
       "12     311       3      1\n",
       "13     302       3      1\n",
       "14     373       4      4\n",
       "15     305       3      1\n",
       "16     371       3      6"
      ]
     },
     "execution_count": 1,
     "metadata": {},
     "output_type": "execute_result"
    }
   ],
   "source": [
    "import pandas as pd\n",
    "data = pd.read_csv(\"01-fruits.csv\")\n",
    "data"
   ]
  },
  {
   "cell_type": "code",
   "execution_count": 2,
   "metadata": {
    "collapsed": false,
    "deletable": true,
    "editable": true
   },
   "outputs": [
    {
     "data": {
      "text/plain": [
       "array(['B', 'A', 'B', 'B', 'A', 'B', 'A', 'A', 'B', 'B', 'A', 'A', 'B',\n",
       "       'B', 'A', 'B', 'A'], dtype=object)"
      ]
     },
     "execution_count": 2,
     "metadata": {},
     "output_type": "execute_result"
    }
   ],
   "source": [
    "labels = pd.read_csv(\"01-fruits-labels.csv\").values.flatten()\n",
    "labels"
   ]
  },
  {
   "cell_type": "markdown",
   "metadata": {
    "deletable": true,
    "editable": true
   },
   "source": [
    "Each fruit is a point in 3-dimensional space. Let us switch to a notation that is easier when dealing with many dimensions. That is an n-dimensional vector $\\nu_n$ is $(x_1, x_2, ... x_n)$ \n",
    "\n",
    "Recall the discussions about classification being the same as finding a line that cleanly divides the data into the classes. In 3-dimensions we are looking for a 2-dimensional plane and in $n$-dimensions we are looking for a $n-1$ dimensional *hyperplane* that divides the points into two classes.\n",
    "\n",
    "An equation of a plane is of the form $ax + by +cz = d$; \n",
    "\n",
    "or in a more formal notation: \n",
    "\n",
    "$a_0x_0 + a_1x_1 + a_2x_2 - c = 0$\n",
    "\n",
    "This plane can be represented vectorially as $w = (a_0, a_1, a_2, -c)$\n",
    "\n",
    "Now each point $p$ is represented by $(p_0, p_1, p_2)$ weight, colour and seeds respectively.\n",
    "\n",
    "Now we can multiply $w$ and $p$ (after transposing w) and get a scalar value. We assert that, this scalar value identifies the class of this data: if it is less than 0 it is one class else it belongs to the other class.\n",
    "\n",
    "**So the $w$ is a classifier** \n",
    "\n",
    "But $w$ is a $4 \\times 1$ matrix and $p$ is a $3 \\times 1$ matrix (vector). Mathematically it is conveneient to add a dimension to $p$ to make it  $(p_0, p_1, p_2, 1)$, transpose $w$ and multiply the two vectors."
   ]
  },
  {
   "cell_type": "code",
   "execution_count": 3,
   "metadata": {
    "collapsed": false,
    "deletable": true,
    "editable": true
   },
   "outputs": [
    {
     "data": {
      "text/plain": [
       "-35"
      ]
     },
     "execution_count": 3,
     "metadata": {},
     "output_type": "execute_result"
    }
   ],
   "source": [
    "import numpy as np\n",
    "# For example, taking the first fruit (277, 3, 1) \n",
    "# we get (277,3,1,1) and taking w as (1,0,0,-312) and taking the dot product: \n",
    "w = np.array([1,0,0,-312])\n",
    "f1 = (277,3,1,1)\n",
    "np.dot(f1, w.T)"
   ]
  },
  {
   "cell_type": "code",
   "execution_count": 4,
   "metadata": {
    "collapsed": false,
    "deletable": true,
    "editable": true
   },
   "outputs": [
    {
     "data": {
      "text/plain": [
       "58"
      ]
     },
     "execution_count": 4,
     "metadata": {},
     "output_type": "execute_result"
    }
   ],
   "source": [
    "f2 = (370,1,2,1)\n",
    "np.dot(f2, w.T)"
   ]
  },
  {
   "cell_type": "markdown",
   "metadata": {
    "deletable": true,
    "editable": true
   },
   "source": [
    "Let us use a different w, say (0.5, 15, -5, -200) and see how it works out."
   ]
  },
  {
   "cell_type": "code",
   "execution_count": 5,
   "metadata": {
    "collapsed": false,
    "deletable": true,
    "editable": true
   },
   "outputs": [
    {
     "data": {
      "text/plain": [
       "(-21.5, -10.0)"
      ]
     },
     "execution_count": 5,
     "metadata": {},
     "output_type": "execute_result"
    }
   ],
   "source": [
    "w2 = np.array([0.5,15,-5,-200])\n",
    "np.dot(f1, w2.T), np.dot(f2, w2.T)"
   ]
  },
  {
   "cell_type": "markdown",
   "metadata": {
    "deletable": true,
    "editable": true
   },
   "source": [
    "So this w2 does not seem to do well. Let us try out each of these w's on the complete data. We first add a column of 1's to the data, instead of manually typing a 1 as the 4th element."
   ]
  },
  {
   "cell_type": "code",
   "execution_count": 6,
   "metadata": {
    "collapsed": false,
    "deletable": true,
    "editable": true
   },
   "outputs": [
    {
     "data": {
      "text/plain": [
       "array([[ 303.,    3.,    1.,    1.],\n",
       "       [ 370.,    1.,    2.,    1.],\n",
       "       [ 298.,    3.,    1.,    1.],\n",
       "       [ 277.,    3.,    1.,    1.],\n",
       "       [ 377.,    4.,    2.,    1.],\n",
       "       [ 299.,    3.,    1.,    1.],\n",
       "       [ 382.,    1.,    2.,    1.],\n",
       "       [ 374.,    4.,    6.,    1.],\n",
       "       [ 303.,    4.,    1.,    1.],\n",
       "       [ 309.,    3.,    1.,    1.],\n",
       "       [ 359.,    1.,    2.,    1.],\n",
       "       [ 366.,    1.,    4.,    1.],\n",
       "       [ 311.,    3.,    1.,    1.],\n",
       "       [ 302.,    3.,    1.,    1.],\n",
       "       [ 373.,    4.,    4.,    1.],\n",
       "       [ 305.,    3.,    1.,    1.],\n",
       "       [ 371.,    3.,    6.,    1.]])"
      ]
     },
     "execution_count": 6,
     "metadata": {},
     "output_type": "execute_result"
    }
   ],
   "source": [
    "import numpy as np\n",
    "data_aug = np.hstack([data.values, np.ones((data.shape[0],1))])\n",
    "data_aug"
   ]
  },
  {
   "cell_type": "code",
   "execution_count": 7,
   "metadata": {
    "collapsed": false,
    "deletable": true,
    "editable": true
   },
   "outputs": [
    {
     "data": {
      "text/plain": [
       "array([ -9.,  58., -14., -35.,  65., -13.,  70.,  62.,  -9.,  -3.,  47.,\n",
       "        54.,  -1., -10.,  61.,  -7.,  59.])"
      ]
     },
     "execution_count": 7,
     "metadata": {},
     "output_type": "execute_result"
    }
   ],
   "source": [
    "np.dot(data_aug, w.T)"
   ]
  },
  {
   "cell_type": "code",
   "execution_count": 8,
   "metadata": {
    "collapsed": false,
    "deletable": true,
    "editable": true
   },
   "outputs": [
    {
     "data": {
      "text/plain": [
       "[(-9.0, 'B'),\n",
       " (58.0, 'A'),\n",
       " (-14.0, 'B'),\n",
       " (-35.0, 'B'),\n",
       " (65.0, 'A'),\n",
       " (-13.0, 'B'),\n",
       " (70.0, 'A'),\n",
       " (62.0, 'A'),\n",
       " (-9.0, 'B'),\n",
       " (-3.0, 'B'),\n",
       " (47.0, 'A'),\n",
       " (54.0, 'A'),\n",
       " (-1.0, 'B'),\n",
       " (-10.0, 'B'),\n",
       " (61.0, 'A'),\n",
       " (-7.0, 'B'),\n",
       " (59.0, 'A')]"
      ]
     },
     "execution_count": 8,
     "metadata": {},
     "output_type": "execute_result"
    }
   ],
   "source": [
    "list(zip(np.dot(data_aug, w.T), labels))"
   ]
  },
  {
   "cell_type": "code",
   "execution_count": 9,
   "metadata": {
    "collapsed": true,
    "deletable": true,
    "editable": true
   },
   "outputs": [],
   "source": [
    "def classify(w, v):\n",
    "    if np.dot(v, w.T) > 0:\n",
    "        return \"A\"\n",
    "    else:\n",
    "        return \"B\""
   ]
  },
  {
   "cell_type": "code",
   "execution_count": 10,
   "metadata": {
    "collapsed": false,
    "deletable": true,
    "editable": true
   },
   "outputs": [
    {
     "data": {
      "text/plain": [
       "[('B', 'B'),\n",
       " ('A', 'A'),\n",
       " ('B', 'B'),\n",
       " ('B', 'B'),\n",
       " ('A', 'A'),\n",
       " ('B', 'B'),\n",
       " ('A', 'A'),\n",
       " ('A', 'A'),\n",
       " ('B', 'B'),\n",
       " ('B', 'B'),\n",
       " ('A', 'A'),\n",
       " ('A', 'A'),\n",
       " ('B', 'B'),\n",
       " ('B', 'B'),\n",
       " ('A', 'A'),\n",
       " ('B', 'B'),\n",
       " ('A', 'A')]"
      ]
     },
     "execution_count": 10,
     "metadata": {},
     "output_type": "execute_result"
    }
   ],
   "source": [
    "list(zip([classify(w, a) for a in data_aug], labels))"
   ]
  },
  {
   "cell_type": "markdown",
   "metadata": {
    "deletable": true,
    "editable": true
   },
   "source": [
    "Let us try the same with the other classifier, w2."
   ]
  },
  {
   "cell_type": "code",
   "execution_count": 11,
   "metadata": {
    "collapsed": false,
    "deletable": true,
    "editable": true
   },
   "outputs": [
    {
     "name": "stdout",
     "output_type": "stream",
     "text": [
      "[('B', 'B'), ('B', 'A'), ('B', 'B'), ('B', 'B'), ('A', 'A'), ('B', 'B'), ('B', 'A'), ('A', 'A'), ('A', 'B'), ('B', 'B'), ('B', 'A'), ('B', 'A'), ('B', 'B'), ('B', 'B'), ('A', 'A'), ('B', 'B'), ('A', 'A')]\n",
      "70.6\n"
     ]
    }
   ],
   "source": [
    "w2 = np.array([0.5, 15, -5, -200])\n",
    "data_aug = np.hstack([data.values, np.ones((data.shape[0],1))])\n",
    "prediction_vs_label = zip([classify(w2, a) for a in data_aug], labels)\n",
    "print(list(prediction_vs_label))\n",
    "accuracy = [p == l for p, l in zip([classify(w2, a) for a in data_aug], labels)].count(True)/len(data_aug) \n",
    "print(round(accuracy * 100, 1))"
   ]
  },
  {
   "cell_type": "markdown",
   "metadata": {
    "deletable": true,
    "editable": true
   },
   "source": [
    "As you can see the classifier $(1,0,0,-312)$ is 100% accurate, while the classifier $(0.5, 15, -5, -200)$ is ~70% accurate"
   ]
  },
  {
   "cell_type": "code",
   "execution_count": 12,
   "metadata": {
    "collapsed": true,
    "deletable": true,
    "editable": true
   },
   "outputs": [],
   "source": [
    "ldata = pd.read_csv(\"01-fruits-labelled.csv\")\n",
    "apples = ldata[ldata.Label == \"A\"]\n",
    "bananas = ldata[ldata.Label == \"B\"]"
   ]
  },
  {
   "cell_type": "code",
   "execution_count": 13,
   "metadata": {
    "collapsed": false,
    "deletable": true,
    "editable": true
   },
   "outputs": [
    {
     "data": {
      "application/javascript": [
       "/* Put everything inside the global mpl namespace */\n",
       "window.mpl = {};\n",
       "\n",
       "\n",
       "mpl.get_websocket_type = function() {\n",
       "    if (typeof(WebSocket) !== 'undefined') {\n",
       "        return WebSocket;\n",
       "    } else if (typeof(MozWebSocket) !== 'undefined') {\n",
       "        return MozWebSocket;\n",
       "    } else {\n",
       "        alert('Your browser does not have WebSocket support.' +\n",
       "              'Please try Chrome, Safari or Firefox ≥ 6. ' +\n",
       "              'Firefox 4 and 5 are also supported but you ' +\n",
       "              'have to enable WebSockets in about:config.');\n",
       "    };\n",
       "}\n",
       "\n",
       "mpl.figure = function(figure_id, websocket, ondownload, parent_element) {\n",
       "    this.id = figure_id;\n",
       "\n",
       "    this.ws = websocket;\n",
       "\n",
       "    this.supports_binary = (this.ws.binaryType != undefined);\n",
       "\n",
       "    if (!this.supports_binary) {\n",
       "        var warnings = document.getElementById(\"mpl-warnings\");\n",
       "        if (warnings) {\n",
       "            warnings.style.display = 'block';\n",
       "            warnings.textContent = (\n",
       "                \"This browser does not support binary websocket messages. \" +\n",
       "                    \"Performance may be slow.\");\n",
       "        }\n",
       "    }\n",
       "\n",
       "    this.imageObj = new Image();\n",
       "\n",
       "    this.context = undefined;\n",
       "    this.message = undefined;\n",
       "    this.canvas = undefined;\n",
       "    this.rubberband_canvas = undefined;\n",
       "    this.rubberband_context = undefined;\n",
       "    this.format_dropdown = undefined;\n",
       "\n",
       "    this.image_mode = 'full';\n",
       "\n",
       "    this.root = $('<div/>');\n",
       "    this._root_extra_style(this.root)\n",
       "    this.root.attr('style', 'display: inline-block');\n",
       "\n",
       "    $(parent_element).append(this.root);\n",
       "\n",
       "    this._init_header(this);\n",
       "    this._init_canvas(this);\n",
       "    this._init_toolbar(this);\n",
       "\n",
       "    var fig = this;\n",
       "\n",
       "    this.waiting = false;\n",
       "\n",
       "    this.ws.onopen =  function () {\n",
       "            fig.send_message(\"supports_binary\", {value: fig.supports_binary});\n",
       "            fig.send_message(\"send_image_mode\", {});\n",
       "            if (mpl.ratio != 1) {\n",
       "                fig.send_message(\"set_dpi_ratio\", {'dpi_ratio': mpl.ratio});\n",
       "            }\n",
       "            fig.send_message(\"refresh\", {});\n",
       "        }\n",
       "\n",
       "    this.imageObj.onload = function() {\n",
       "            if (fig.image_mode == 'full') {\n",
       "                // Full images could contain transparency (where diff images\n",
       "                // almost always do), so we need to clear the canvas so that\n",
       "                // there is no ghosting.\n",
       "                fig.context.clearRect(0, 0, fig.canvas.width, fig.canvas.height);\n",
       "            }\n",
       "            fig.context.drawImage(fig.imageObj, 0, 0);\n",
       "        };\n",
       "\n",
       "    this.imageObj.onunload = function() {\n",
       "        this.ws.close();\n",
       "    }\n",
       "\n",
       "    this.ws.onmessage = this._make_on_message_function(this);\n",
       "\n",
       "    this.ondownload = ondownload;\n",
       "}\n",
       "\n",
       "mpl.figure.prototype._init_header = function() {\n",
       "    var titlebar = $(\n",
       "        '<div class=\"ui-dialog-titlebar ui-widget-header ui-corner-all ' +\n",
       "        'ui-helper-clearfix\"/>');\n",
       "    var titletext = $(\n",
       "        '<div class=\"ui-dialog-title\" style=\"width: 100%; ' +\n",
       "        'text-align: center; padding: 3px;\"/>');\n",
       "    titlebar.append(titletext)\n",
       "    this.root.append(titlebar);\n",
       "    this.header = titletext[0];\n",
       "}\n",
       "\n",
       "\n",
       "\n",
       "mpl.figure.prototype._canvas_extra_style = function(canvas_div) {\n",
       "\n",
       "}\n",
       "\n",
       "\n",
       "mpl.figure.prototype._root_extra_style = function(canvas_div) {\n",
       "\n",
       "}\n",
       "\n",
       "mpl.figure.prototype._init_canvas = function() {\n",
       "    var fig = this;\n",
       "\n",
       "    var canvas_div = $('<div/>');\n",
       "\n",
       "    canvas_div.attr('style', 'position: relative; clear: both; outline: 0');\n",
       "\n",
       "    function canvas_keyboard_event(event) {\n",
       "        return fig.key_event(event, event['data']);\n",
       "    }\n",
       "\n",
       "    canvas_div.keydown('key_press', canvas_keyboard_event);\n",
       "    canvas_div.keyup('key_release', canvas_keyboard_event);\n",
       "    this.canvas_div = canvas_div\n",
       "    this._canvas_extra_style(canvas_div)\n",
       "    this.root.append(canvas_div);\n",
       "\n",
       "    var canvas = $('<canvas/>');\n",
       "    canvas.addClass('mpl-canvas');\n",
       "    canvas.attr('style', \"left: 0; top: 0; z-index: 0; outline: 0\")\n",
       "\n",
       "    this.canvas = canvas[0];\n",
       "    this.context = canvas[0].getContext(\"2d\");\n",
       "\n",
       "    var backingStore = this.context.backingStorePixelRatio ||\n",
       "\tthis.context.webkitBackingStorePixelRatio ||\n",
       "\tthis.context.mozBackingStorePixelRatio ||\n",
       "\tthis.context.msBackingStorePixelRatio ||\n",
       "\tthis.context.oBackingStorePixelRatio ||\n",
       "\tthis.context.backingStorePixelRatio || 1;\n",
       "\n",
       "    mpl.ratio = (window.devicePixelRatio || 1) / backingStore;\n",
       "\n",
       "    var rubberband = $('<canvas/>');\n",
       "    rubberband.attr('style', \"position: absolute; left: 0; top: 0; z-index: 1;\")\n",
       "\n",
       "    var pass_mouse_events = true;\n",
       "\n",
       "    canvas_div.resizable({\n",
       "        start: function(event, ui) {\n",
       "            pass_mouse_events = false;\n",
       "        },\n",
       "        resize: function(event, ui) {\n",
       "            fig.request_resize(ui.size.width, ui.size.height);\n",
       "        },\n",
       "        stop: function(event, ui) {\n",
       "            pass_mouse_events = true;\n",
       "            fig.request_resize(ui.size.width, ui.size.height);\n",
       "        },\n",
       "    });\n",
       "\n",
       "    function mouse_event_fn(event) {\n",
       "        if (pass_mouse_events)\n",
       "            return fig.mouse_event(event, event['data']);\n",
       "    }\n",
       "\n",
       "    rubberband.mousedown('button_press', mouse_event_fn);\n",
       "    rubberband.mouseup('button_release', mouse_event_fn);\n",
       "    // Throttle sequential mouse events to 1 every 20ms.\n",
       "    rubberband.mousemove('motion_notify', mouse_event_fn);\n",
       "\n",
       "    rubberband.mouseenter('figure_enter', mouse_event_fn);\n",
       "    rubberband.mouseleave('figure_leave', mouse_event_fn);\n",
       "\n",
       "    canvas_div.on(\"wheel\", function (event) {\n",
       "        event = event.originalEvent;\n",
       "        event['data'] = 'scroll'\n",
       "        if (event.deltaY < 0) {\n",
       "            event.step = 1;\n",
       "        } else {\n",
       "            event.step = -1;\n",
       "        }\n",
       "        mouse_event_fn(event);\n",
       "    });\n",
       "\n",
       "    canvas_div.append(canvas);\n",
       "    canvas_div.append(rubberband);\n",
       "\n",
       "    this.rubberband = rubberband;\n",
       "    this.rubberband_canvas = rubberband[0];\n",
       "    this.rubberband_context = rubberband[0].getContext(\"2d\");\n",
       "    this.rubberband_context.strokeStyle = \"#000000\";\n",
       "\n",
       "    this._resize_canvas = function(width, height) {\n",
       "        // Keep the size of the canvas, canvas container, and rubber band\n",
       "        // canvas in synch.\n",
       "        canvas_div.css('width', width)\n",
       "        canvas_div.css('height', height)\n",
       "\n",
       "        canvas.attr('width', width * mpl.ratio);\n",
       "        canvas.attr('height', height * mpl.ratio);\n",
       "        canvas.attr('style', 'width: ' + width + 'px; height: ' + height + 'px;');\n",
       "\n",
       "        rubberband.attr('width', width);\n",
       "        rubberband.attr('height', height);\n",
       "    }\n",
       "\n",
       "    // Set the figure to an initial 600x600px, this will subsequently be updated\n",
       "    // upon first draw.\n",
       "    this._resize_canvas(600, 600);\n",
       "\n",
       "    // Disable right mouse context menu.\n",
       "    $(this.rubberband_canvas).bind(\"contextmenu\",function(e){\n",
       "        return false;\n",
       "    });\n",
       "\n",
       "    function set_focus () {\n",
       "        canvas.focus();\n",
       "        canvas_div.focus();\n",
       "    }\n",
       "\n",
       "    window.setTimeout(set_focus, 100);\n",
       "}\n",
       "\n",
       "mpl.figure.prototype._init_toolbar = function() {\n",
       "    var fig = this;\n",
       "\n",
       "    var nav_element = $('<div/>')\n",
       "    nav_element.attr('style', 'width: 100%');\n",
       "    this.root.append(nav_element);\n",
       "\n",
       "    // Define a callback function for later on.\n",
       "    function toolbar_event(event) {\n",
       "        return fig.toolbar_button_onclick(event['data']);\n",
       "    }\n",
       "    function toolbar_mouse_event(event) {\n",
       "        return fig.toolbar_button_onmouseover(event['data']);\n",
       "    }\n",
       "\n",
       "    for(var toolbar_ind in mpl.toolbar_items) {\n",
       "        var name = mpl.toolbar_items[toolbar_ind][0];\n",
       "        var tooltip = mpl.toolbar_items[toolbar_ind][1];\n",
       "        var image = mpl.toolbar_items[toolbar_ind][2];\n",
       "        var method_name = mpl.toolbar_items[toolbar_ind][3];\n",
       "\n",
       "        if (!name) {\n",
       "            // put a spacer in here.\n",
       "            continue;\n",
       "        }\n",
       "        var button = $('<button/>');\n",
       "        button.addClass('ui-button ui-widget ui-state-default ui-corner-all ' +\n",
       "                        'ui-button-icon-only');\n",
       "        button.attr('role', 'button');\n",
       "        button.attr('aria-disabled', 'false');\n",
       "        button.click(method_name, toolbar_event);\n",
       "        button.mouseover(tooltip, toolbar_mouse_event);\n",
       "\n",
       "        var icon_img = $('<span/>');\n",
       "        icon_img.addClass('ui-button-icon-primary ui-icon');\n",
       "        icon_img.addClass(image);\n",
       "        icon_img.addClass('ui-corner-all');\n",
       "\n",
       "        var tooltip_span = $('<span/>');\n",
       "        tooltip_span.addClass('ui-button-text');\n",
       "        tooltip_span.html(tooltip);\n",
       "\n",
       "        button.append(icon_img);\n",
       "        button.append(tooltip_span);\n",
       "\n",
       "        nav_element.append(button);\n",
       "    }\n",
       "\n",
       "    var fmt_picker_span = $('<span/>');\n",
       "\n",
       "    var fmt_picker = $('<select/>');\n",
       "    fmt_picker.addClass('mpl-toolbar-option ui-widget ui-widget-content');\n",
       "    fmt_picker_span.append(fmt_picker);\n",
       "    nav_element.append(fmt_picker_span);\n",
       "    this.format_dropdown = fmt_picker[0];\n",
       "\n",
       "    for (var ind in mpl.extensions) {\n",
       "        var fmt = mpl.extensions[ind];\n",
       "        var option = $(\n",
       "            '<option/>', {selected: fmt === mpl.default_extension}).html(fmt);\n",
       "        fmt_picker.append(option)\n",
       "    }\n",
       "\n",
       "    // Add hover states to the ui-buttons\n",
       "    $( \".ui-button\" ).hover(\n",
       "        function() { $(this).addClass(\"ui-state-hover\");},\n",
       "        function() { $(this).removeClass(\"ui-state-hover\");}\n",
       "    );\n",
       "\n",
       "    var status_bar = $('<span class=\"mpl-message\"/>');\n",
       "    nav_element.append(status_bar);\n",
       "    this.message = status_bar[0];\n",
       "}\n",
       "\n",
       "mpl.figure.prototype.request_resize = function(x_pixels, y_pixels) {\n",
       "    // Request matplotlib to resize the figure. Matplotlib will then trigger a resize in the client,\n",
       "    // which will in turn request a refresh of the image.\n",
       "    this.send_message('resize', {'width': x_pixels, 'height': y_pixels});\n",
       "}\n",
       "\n",
       "mpl.figure.prototype.send_message = function(type, properties) {\n",
       "    properties['type'] = type;\n",
       "    properties['figure_id'] = this.id;\n",
       "    this.ws.send(JSON.stringify(properties));\n",
       "}\n",
       "\n",
       "mpl.figure.prototype.send_draw_message = function() {\n",
       "    if (!this.waiting) {\n",
       "        this.waiting = true;\n",
       "        this.ws.send(JSON.stringify({type: \"draw\", figure_id: this.id}));\n",
       "    }\n",
       "}\n",
       "\n",
       "\n",
       "mpl.figure.prototype.handle_save = function(fig, msg) {\n",
       "    var format_dropdown = fig.format_dropdown;\n",
       "    var format = format_dropdown.options[format_dropdown.selectedIndex].value;\n",
       "    fig.ondownload(fig, format);\n",
       "}\n",
       "\n",
       "\n",
       "mpl.figure.prototype.handle_resize = function(fig, msg) {\n",
       "    var size = msg['size'];\n",
       "    if (size[0] != fig.canvas.width || size[1] != fig.canvas.height) {\n",
       "        fig._resize_canvas(size[0], size[1]);\n",
       "        fig.send_message(\"refresh\", {});\n",
       "    };\n",
       "}\n",
       "\n",
       "mpl.figure.prototype.handle_rubberband = function(fig, msg) {\n",
       "    var x0 = msg['x0'] / mpl.ratio;\n",
       "    var y0 = (fig.canvas.height - msg['y0']) / mpl.ratio;\n",
       "    var x1 = msg['x1'] / mpl.ratio;\n",
       "    var y1 = (fig.canvas.height - msg['y1']) / mpl.ratio;\n",
       "    x0 = Math.floor(x0) + 0.5;\n",
       "    y0 = Math.floor(y0) + 0.5;\n",
       "    x1 = Math.floor(x1) + 0.5;\n",
       "    y1 = Math.floor(y1) + 0.5;\n",
       "    var min_x = Math.min(x0, x1);\n",
       "    var min_y = Math.min(y0, y1);\n",
       "    var width = Math.abs(x1 - x0);\n",
       "    var height = Math.abs(y1 - y0);\n",
       "\n",
       "    fig.rubberband_context.clearRect(\n",
       "        0, 0, fig.canvas.width, fig.canvas.height);\n",
       "\n",
       "    fig.rubberband_context.strokeRect(min_x, min_y, width, height);\n",
       "}\n",
       "\n",
       "mpl.figure.prototype.handle_figure_label = function(fig, msg) {\n",
       "    // Updates the figure title.\n",
       "    fig.header.textContent = msg['label'];\n",
       "}\n",
       "\n",
       "mpl.figure.prototype.handle_cursor = function(fig, msg) {\n",
       "    var cursor = msg['cursor'];\n",
       "    switch(cursor)\n",
       "    {\n",
       "    case 0:\n",
       "        cursor = 'pointer';\n",
       "        break;\n",
       "    case 1:\n",
       "        cursor = 'default';\n",
       "        break;\n",
       "    case 2:\n",
       "        cursor = 'crosshair';\n",
       "        break;\n",
       "    case 3:\n",
       "        cursor = 'move';\n",
       "        break;\n",
       "    }\n",
       "    fig.rubberband_canvas.style.cursor = cursor;\n",
       "}\n",
       "\n",
       "mpl.figure.prototype.handle_message = function(fig, msg) {\n",
       "    fig.message.textContent = msg['message'];\n",
       "}\n",
       "\n",
       "mpl.figure.prototype.handle_draw = function(fig, msg) {\n",
       "    // Request the server to send over a new figure.\n",
       "    fig.send_draw_message();\n",
       "}\n",
       "\n",
       "mpl.figure.prototype.handle_image_mode = function(fig, msg) {\n",
       "    fig.image_mode = msg['mode'];\n",
       "}\n",
       "\n",
       "mpl.figure.prototype.updated_canvas_event = function() {\n",
       "    // Called whenever the canvas gets updated.\n",
       "    this.send_message(\"ack\", {});\n",
       "}\n",
       "\n",
       "// A function to construct a web socket function for onmessage handling.\n",
       "// Called in the figure constructor.\n",
       "mpl.figure.prototype._make_on_message_function = function(fig) {\n",
       "    return function socket_on_message(evt) {\n",
       "        if (evt.data instanceof Blob) {\n",
       "            /* FIXME: We get \"Resource interpreted as Image but\n",
       "             * transferred with MIME type text/plain:\" errors on\n",
       "             * Chrome.  But how to set the MIME type?  It doesn't seem\n",
       "             * to be part of the websocket stream */\n",
       "            evt.data.type = \"image/png\";\n",
       "\n",
       "            /* Free the memory for the previous frames */\n",
       "            if (fig.imageObj.src) {\n",
       "                (window.URL || window.webkitURL).revokeObjectURL(\n",
       "                    fig.imageObj.src);\n",
       "            }\n",
       "\n",
       "            fig.imageObj.src = (window.URL || window.webkitURL).createObjectURL(\n",
       "                evt.data);\n",
       "            fig.updated_canvas_event();\n",
       "            fig.waiting = false;\n",
       "            return;\n",
       "        }\n",
       "        else if (typeof evt.data === 'string' && evt.data.slice(0, 21) == \"data:image/png;base64\") {\n",
       "            fig.imageObj.src = evt.data;\n",
       "            fig.updated_canvas_event();\n",
       "            fig.waiting = false;\n",
       "            return;\n",
       "        }\n",
       "\n",
       "        var msg = JSON.parse(evt.data);\n",
       "        var msg_type = msg['type'];\n",
       "\n",
       "        // Call the  \"handle_{type}\" callback, which takes\n",
       "        // the figure and JSON message as its only arguments.\n",
       "        try {\n",
       "            var callback = fig[\"handle_\" + msg_type];\n",
       "        } catch (e) {\n",
       "            console.log(\"No handler for the '\" + msg_type + \"' message type: \", msg);\n",
       "            return;\n",
       "        }\n",
       "\n",
       "        if (callback) {\n",
       "            try {\n",
       "                // console.log(\"Handling '\" + msg_type + \"' message: \", msg);\n",
       "                callback(fig, msg);\n",
       "            } catch (e) {\n",
       "                console.log(\"Exception inside the 'handler_\" + msg_type + \"' callback:\", e, e.stack, msg);\n",
       "            }\n",
       "        }\n",
       "    };\n",
       "}\n",
       "\n",
       "// from http://stackoverflow.com/questions/1114465/getting-mouse-location-in-canvas\n",
       "mpl.findpos = function(e) {\n",
       "    //this section is from http://www.quirksmode.org/js/events_properties.html\n",
       "    var targ;\n",
       "    if (!e)\n",
       "        e = window.event;\n",
       "    if (e.target)\n",
       "        targ = e.target;\n",
       "    else if (e.srcElement)\n",
       "        targ = e.srcElement;\n",
       "    if (targ.nodeType == 3) // defeat Safari bug\n",
       "        targ = targ.parentNode;\n",
       "\n",
       "    // jQuery normalizes the pageX and pageY\n",
       "    // pageX,Y are the mouse positions relative to the document\n",
       "    // offset() returns the position of the element relative to the document\n",
       "    var x = e.pageX - $(targ).offset().left;\n",
       "    var y = e.pageY - $(targ).offset().top;\n",
       "\n",
       "    return {\"x\": x, \"y\": y};\n",
       "};\n",
       "\n",
       "/*\n",
       " * return a copy of an object with only non-object keys\n",
       " * we need this to avoid circular references\n",
       " * http://stackoverflow.com/a/24161582/3208463\n",
       " */\n",
       "function simpleKeys (original) {\n",
       "  return Object.keys(original).reduce(function (obj, key) {\n",
       "    if (typeof original[key] !== 'object')\n",
       "        obj[key] = original[key]\n",
       "    return obj;\n",
       "  }, {});\n",
       "}\n",
       "\n",
       "mpl.figure.prototype.mouse_event = function(event, name) {\n",
       "    var canvas_pos = mpl.findpos(event)\n",
       "\n",
       "    if (name === 'button_press')\n",
       "    {\n",
       "        this.canvas.focus();\n",
       "        this.canvas_div.focus();\n",
       "    }\n",
       "\n",
       "    var x = canvas_pos.x * mpl.ratio;\n",
       "    var y = canvas_pos.y * mpl.ratio;\n",
       "\n",
       "    this.send_message(name, {x: x, y: y, button: event.button,\n",
       "                             step: event.step,\n",
       "                             guiEvent: simpleKeys(event)});\n",
       "\n",
       "    /* This prevents the web browser from automatically changing to\n",
       "     * the text insertion cursor when the button is pressed.  We want\n",
       "     * to control all of the cursor setting manually through the\n",
       "     * 'cursor' event from matplotlib */\n",
       "    event.preventDefault();\n",
       "    return false;\n",
       "}\n",
       "\n",
       "mpl.figure.prototype._key_event_extra = function(event, name) {\n",
       "    // Handle any extra behaviour associated with a key event\n",
       "}\n",
       "\n",
       "mpl.figure.prototype.key_event = function(event, name) {\n",
       "\n",
       "    // Prevent repeat events\n",
       "    if (name == 'key_press')\n",
       "    {\n",
       "        if (event.which === this._key)\n",
       "            return;\n",
       "        else\n",
       "            this._key = event.which;\n",
       "    }\n",
       "    if (name == 'key_release')\n",
       "        this._key = null;\n",
       "\n",
       "    var value = '';\n",
       "    if (event.ctrlKey && event.which != 17)\n",
       "        value += \"ctrl+\";\n",
       "    if (event.altKey && event.which != 18)\n",
       "        value += \"alt+\";\n",
       "    if (event.shiftKey && event.which != 16)\n",
       "        value += \"shift+\";\n",
       "\n",
       "    value += 'k';\n",
       "    value += event.which.toString();\n",
       "\n",
       "    this._key_event_extra(event, name);\n",
       "\n",
       "    this.send_message(name, {key: value,\n",
       "                             guiEvent: simpleKeys(event)});\n",
       "    return false;\n",
       "}\n",
       "\n",
       "mpl.figure.prototype.toolbar_button_onclick = function(name) {\n",
       "    if (name == 'download') {\n",
       "        this.handle_save(this, null);\n",
       "    } else {\n",
       "        this.send_message(\"toolbar_button\", {name: name});\n",
       "    }\n",
       "};\n",
       "\n",
       "mpl.figure.prototype.toolbar_button_onmouseover = function(tooltip) {\n",
       "    this.message.textContent = tooltip;\n",
       "};\n",
       "mpl.toolbar_items = [[\"Home\", \"Reset original view\", \"fa fa-home icon-home\", \"home\"], [\"Back\", \"Back to  previous view\", \"fa fa-arrow-left icon-arrow-left\", \"back\"], [\"Forward\", \"Forward to next view\", \"fa fa-arrow-right icon-arrow-right\", \"forward\"], [\"\", \"\", \"\", \"\"], [\"Pan\", \"Pan axes with left mouse, zoom with right\", \"fa fa-arrows icon-move\", \"pan\"], [\"Zoom\", \"Zoom to rectangle\", \"fa fa-square-o icon-check-empty\", \"zoom\"], [\"\", \"\", \"\", \"\"], [\"Download\", \"Download plot\", \"fa fa-floppy-o icon-save\", \"download\"]];\n",
       "\n",
       "mpl.extensions = [\"eps\", \"jpeg\", \"pdf\", \"png\", \"ps\", \"raw\", \"svg\", \"tif\"];\n",
       "\n",
       "mpl.default_extension = \"png\";var comm_websocket_adapter = function(comm) {\n",
       "    // Create a \"websocket\"-like object which calls the given IPython comm\n",
       "    // object with the appropriate methods. Currently this is a non binary\n",
       "    // socket, so there is still some room for performance tuning.\n",
       "    var ws = {};\n",
       "\n",
       "    ws.close = function() {\n",
       "        comm.close()\n",
       "    };\n",
       "    ws.send = function(m) {\n",
       "        //console.log('sending', m);\n",
       "        comm.send(m);\n",
       "    };\n",
       "    // Register the callback with on_msg.\n",
       "    comm.on_msg(function(msg) {\n",
       "        //console.log('receiving', msg['content']['data'], msg);\n",
       "        // Pass the mpl event to the overriden (by mpl) onmessage function.\n",
       "        ws.onmessage(msg['content']['data'])\n",
       "    });\n",
       "    return ws;\n",
       "}\n",
       "\n",
       "mpl.mpl_figure_comm = function(comm, msg) {\n",
       "    // This is the function which gets called when the mpl process\n",
       "    // starts-up an IPython Comm through the \"matplotlib\" channel.\n",
       "\n",
       "    var id = msg.content.data.id;\n",
       "    // Get hold of the div created by the display call when the Comm\n",
       "    // socket was opened in Python.\n",
       "    var element = $(\"#\" + id);\n",
       "    var ws_proxy = comm_websocket_adapter(comm)\n",
       "\n",
       "    function ondownload(figure, format) {\n",
       "        window.open(figure.imageObj.src);\n",
       "    }\n",
       "\n",
       "    var fig = new mpl.figure(id, ws_proxy,\n",
       "                           ondownload,\n",
       "                           element.get(0));\n",
       "\n",
       "    // Call onopen now - mpl needs it, as it is assuming we've passed it a real\n",
       "    // web socket which is closed, not our websocket->open comm proxy.\n",
       "    ws_proxy.onopen();\n",
       "\n",
       "    fig.parent_element = element.get(0);\n",
       "    fig.cell_info = mpl.find_output_cell(\"<div id='\" + id + \"'></div>\");\n",
       "    if (!fig.cell_info) {\n",
       "        console.error(\"Failed to find cell for figure\", id, fig);\n",
       "        return;\n",
       "    }\n",
       "\n",
       "    var output_index = fig.cell_info[2]\n",
       "    var cell = fig.cell_info[0];\n",
       "\n",
       "};\n",
       "\n",
       "mpl.figure.prototype.handle_close = function(fig, msg) {\n",
       "    var width = fig.canvas.width/mpl.ratio\n",
       "    fig.root.unbind('remove')\n",
       "\n",
       "    // Update the output cell to use the data from the current canvas.\n",
       "    fig.push_to_output();\n",
       "    var dataURL = fig.canvas.toDataURL();\n",
       "    // Re-enable the keyboard manager in IPython - without this line, in FF,\n",
       "    // the notebook keyboard shortcuts fail.\n",
       "    IPython.keyboard_manager.enable()\n",
       "    $(fig.parent_element).html('<img src=\"' + dataURL + '\" width=\"' + width + '\">');\n",
       "    fig.close_ws(fig, msg);\n",
       "}\n",
       "\n",
       "mpl.figure.prototype.close_ws = function(fig, msg){\n",
       "    fig.send_message('closing', msg);\n",
       "    // fig.ws.close()\n",
       "}\n",
       "\n",
       "mpl.figure.prototype.push_to_output = function(remove_interactive) {\n",
       "    // Turn the data on the canvas into data in the output cell.\n",
       "    var width = this.canvas.width/mpl.ratio\n",
       "    var dataURL = this.canvas.toDataURL();\n",
       "    this.cell_info[1]['text/html'] = '<img src=\"' + dataURL + '\" width=\"' + width + '\">';\n",
       "}\n",
       "\n",
       "mpl.figure.prototype.updated_canvas_event = function() {\n",
       "    // Tell IPython that the notebook contents must change.\n",
       "    IPython.notebook.set_dirty(true);\n",
       "    this.send_message(\"ack\", {});\n",
       "    var fig = this;\n",
       "    // Wait a second, then push the new image to the DOM so\n",
       "    // that it is saved nicely (might be nice to debounce this).\n",
       "    setTimeout(function () { fig.push_to_output() }, 1000);\n",
       "}\n",
       "\n",
       "mpl.figure.prototype._init_toolbar = function() {\n",
       "    var fig = this;\n",
       "\n",
       "    var nav_element = $('<div/>')\n",
       "    nav_element.attr('style', 'width: 100%');\n",
       "    this.root.append(nav_element);\n",
       "\n",
       "    // Define a callback function for later on.\n",
       "    function toolbar_event(event) {\n",
       "        return fig.toolbar_button_onclick(event['data']);\n",
       "    }\n",
       "    function toolbar_mouse_event(event) {\n",
       "        return fig.toolbar_button_onmouseover(event['data']);\n",
       "    }\n",
       "\n",
       "    for(var toolbar_ind in mpl.toolbar_items){\n",
       "        var name = mpl.toolbar_items[toolbar_ind][0];\n",
       "        var tooltip = mpl.toolbar_items[toolbar_ind][1];\n",
       "        var image = mpl.toolbar_items[toolbar_ind][2];\n",
       "        var method_name = mpl.toolbar_items[toolbar_ind][3];\n",
       "\n",
       "        if (!name) { continue; };\n",
       "\n",
       "        var button = $('<button class=\"btn btn-default\" href=\"#\" title=\"' + name + '\"><i class=\"fa ' + image + ' fa-lg\"></i></button>');\n",
       "        button.click(method_name, toolbar_event);\n",
       "        button.mouseover(tooltip, toolbar_mouse_event);\n",
       "        nav_element.append(button);\n",
       "    }\n",
       "\n",
       "    // Add the status bar.\n",
       "    var status_bar = $('<span class=\"mpl-message\" style=\"text-align:right; float: right;\"/>');\n",
       "    nav_element.append(status_bar);\n",
       "    this.message = status_bar[0];\n",
       "\n",
       "    // Add the close button to the window.\n",
       "    var buttongrp = $('<div class=\"btn-group inline pull-right\"></div>');\n",
       "    var button = $('<button class=\"btn btn-mini btn-primary\" href=\"#\" title=\"Stop Interaction\"><i class=\"fa fa-power-off icon-remove icon-large\"></i></button>');\n",
       "    button.click(function (evt) { fig.handle_close(fig, {}); } );\n",
       "    button.mouseover('Stop Interaction', toolbar_mouse_event);\n",
       "    buttongrp.append(button);\n",
       "    var titlebar = this.root.find($('.ui-dialog-titlebar'));\n",
       "    titlebar.prepend(buttongrp);\n",
       "}\n",
       "\n",
       "mpl.figure.prototype._root_extra_style = function(el){\n",
       "    var fig = this\n",
       "    el.on(\"remove\", function(){\n",
       "\tfig.close_ws(fig, {});\n",
       "    });\n",
       "}\n",
       "\n",
       "mpl.figure.prototype._canvas_extra_style = function(el){\n",
       "    // this is important to make the div 'focusable\n",
       "    el.attr('tabindex', 0)\n",
       "    // reach out to IPython and tell the keyboard manager to turn it's self\n",
       "    // off when our div gets focus\n",
       "\n",
       "    // location in version 3\n",
       "    if (IPython.notebook.keyboard_manager) {\n",
       "        IPython.notebook.keyboard_manager.register_events(el);\n",
       "    }\n",
       "    else {\n",
       "        // location in version 2\n",
       "        IPython.keyboard_manager.register_events(el);\n",
       "    }\n",
       "\n",
       "}\n",
       "\n",
       "mpl.figure.prototype._key_event_extra = function(event, name) {\n",
       "    var manager = IPython.notebook.keyboard_manager;\n",
       "    if (!manager)\n",
       "        manager = IPython.keyboard_manager;\n",
       "\n",
       "    // Check for shift+enter\n",
       "    if (event.shiftKey && event.which == 13) {\n",
       "        this.canvas_div.blur();\n",
       "        // select the cell after this one\n",
       "        var index = IPython.notebook.find_cell_index(this.cell_info[0]);\n",
       "        IPython.notebook.select(index + 1);\n",
       "    }\n",
       "}\n",
       "\n",
       "mpl.figure.prototype.handle_save = function(fig, msg) {\n",
       "    fig.ondownload(fig, null);\n",
       "}\n",
       "\n",
       "\n",
       "mpl.find_output_cell = function(html_output) {\n",
       "    // Return the cell and output element which can be found *uniquely* in the notebook.\n",
       "    // Note - this is a bit hacky, but it is done because the \"notebook_saving.Notebook\"\n",
       "    // IPython event is triggered only after the cells have been serialised, which for\n",
       "    // our purposes (turning an active figure into a static one), is too late.\n",
       "    var cells = IPython.notebook.get_cells();\n",
       "    var ncells = cells.length;\n",
       "    for (var i=0; i<ncells; i++) {\n",
       "        var cell = cells[i];\n",
       "        if (cell.cell_type === 'code'){\n",
       "            for (var j=0; j<cell.output_area.outputs.length; j++) {\n",
       "                var data = cell.output_area.outputs[j];\n",
       "                if (data.data) {\n",
       "                    // IPython >= 3 moved mimebundle to data attribute of output\n",
       "                    data = data.data;\n",
       "                }\n",
       "                if (data['text/html'] == html_output) {\n",
       "                    return [cell, data, j];\n",
       "                }\n",
       "            }\n",
       "        }\n",
       "    }\n",
       "}\n",
       "\n",
       "// Register the function which deals with the matplotlib target/channel.\n",
       "// The kernel may be null if the page has been refreshed.\n",
       "if (IPython.notebook.kernel != null) {\n",
       "    IPython.notebook.kernel.comm_manager.register_target('matplotlib', mpl.mpl_figure_comm);\n",
       "}\n"
      ],
      "text/plain": [
       "<IPython.core.display.Javascript object>"
      ]
     },
     "metadata": {},
     "output_type": "display_data"
    },
    {
     "data": {
      "text/html": [
       "<img src=\"data:image/png;base64,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\" width=\"640\">"
      ],
      "text/plain": [
       "<IPython.core.display.HTML object>"
      ]
     },
     "metadata": {},
     "output_type": "display_data"
    }
   ],
   "source": [
    "import matplotlib.pyplot as plt\n",
    "from mpl_toolkits.mplot3d import Axes3D\n",
    "%matplotlib notebook\n",
    "# %matplotlib inline\n",
    "fig = plt.figure()\n",
    "ax = fig.add_subplot(111, projection='3d')\n",
    "ax.scatter(apples.Weight.values, apples.Colour.values, apples.Seeds.values)\n",
    "ax.scatter(bananas.Weight.values, bananas.Colour.values, bananas.Seeds.values)\n",
    "plt.show()"
   ]
  },
  {
   "cell_type": "markdown",
   "metadata": {
    "deletable": true,
    "editable": true
   },
   "source": [
    "Pan and move and change the orientation to get a feel for how the data is distributed.\n",
    "\n",
    "Notice how in some orientations, the data is falling into two clean halves (separable) while in others, it is intermixed (inseperable)."
   ]
  },
  {
   "cell_type": "markdown",
   "metadata": {
    "deletable": true,
    "editable": true
   },
   "source": [
    "Let us switch back to two dimensions. \n",
    "\n",
    "**Plot apples and bananas in different colours using the labelled data as above.** \n",
    "\n",
    "Plot Colour vs Seeds, Weight vs Seeds, and Weight vs Colour. The last one we have already seen. \n",
    "\n",
    "What do you think these visualizations tell you?"
   ]
  },
  {
   "cell_type": "code",
   "execution_count": 14,
   "metadata": {
    "collapsed": false,
    "deletable": true,
    "editable": true
   },
   "outputs": [
    {
     "ename": "SyntaxError",
     "evalue": "invalid syntax (<ipython-input-14-33510f591166>, line 3)",
     "output_type": "error",
     "traceback": [
      "\u001b[0;36m  File \u001b[0;32m\"<ipython-input-14-33510f591166>\"\u001b[0;36m, line \u001b[0;32m3\u001b[0m\n\u001b[0;31m    plt.plot(apples.????, apples.????, \"ro\")\u001b[0m\n\u001b[0m                    ^\u001b[0m\n\u001b[0;31mSyntaxError\u001b[0m\u001b[0;31m:\u001b[0m invalid syntax\n"
     ]
    }
   ],
   "source": [
    "import matplotlib.pyplot as plt\n",
    "%matplotlib notebook\n",
    "plt.plot(apples.????, apples.????, \"ro\")\n",
    "plt.plot(bananas.????, bananas.????, \"y+\")\n",
    "plt.show()"
   ]
  },
  {
   "cell_type": "markdown",
   "metadata": {
    "collapsed": true,
    "deletable": true,
    "editable": true
   },
   "source": [
    "## 3D to 2D\n",
    "\n",
    "Let us now project the 3D data into 2D. There are many ways to do this, we are going to project all of the 3D data onto a plane. Since the plane is 2D, we shall visualize the projections of the data onto that plane on 2 dimensions.\n",
    "\n",
    "In a way we saw this visually in the abov exercise, but the same can be achieved by matrix manipulations."
   ]
  },
  {
   "cell_type": "markdown",
   "metadata": {
    "deletable": true,
    "editable": true
   },
   "source": [
    "### 1. Projection into XY plane\n",
    "\n",
    "Projection onto XY plane can be achieved using the following matrix:\n",
    "\n",
    "$M1 = \\begin{bmatrix} 1 & 0 & 0 \\\\ 0 & 1 & 0 \\end{bmatrix}$\n",
    "\n",
    "Observe that M1 is a $2{\\times}3$ matrix. A point on the 3D space $P = (x, y, z)^T$ is a $3{\\times}1$ vector. Hence, dot product M1.P is a $2{\\times}1$ vector, i.e. a point in 2D space.\n",
    "\n",
    "Also observe that the unit vector in X direction in 3D space, $(1, 0, 0)^T$, gets projected into the first column of M1, i.e. $(1, 0)^T$, which is the unit vector in X direction in 2D space. (Try taking the dot product of M1 and P manually to see for yourself!)\n",
    "\n",
    "Similarly, the unit vector in Y direction in 3D space, $(0, 1, 0)^T$, gets projected to the second column of M1, i.e. $(0, 1)^T$, which is the unit vector in Y direction in 2D space.\n",
    "\n",
    "The unit vector in Z direction in 3D space gets projected into the origin. This is how 3D is converted to 2D."
   ]
  },
  {
   "cell_type": "code",
   "execution_count": null,
   "metadata": {
    "collapsed": true,
    "deletable": true,
    "editable": true
   },
   "outputs": [],
   "source": [
    "# Projecting onto XY plane\n",
    "M1 = np.array([[1, 0, 0], [0, 1, 0]])\n",
    "data_in_XY = np.array([np.dot(M1, point.T) for point in data.values])\n",
    "# Or: data_in_XY = np.dot(data.values, M1.T)"
   ]
  },
  {
   "cell_type": "code",
   "execution_count": 16,
   "metadata": {
    "collapsed": false
   },
   "outputs": [
    {
     "data": {
      "text/plain": [
       "(array(['B', 'A', 'B', 'B', 'A', 'B', 'A', 'A', 'B', 'B', 'A', 'A', 'B',\n",
       "        'B', 'A', 'B', 'A'], dtype=object),\n",
       " array([False,  True, False, False,  True, False,  True,  True, False,\n",
       "        False,  True,  True, False, False,  True, False,  True], dtype=bool))"
      ]
     },
     "execution_count": 16,
     "metadata": {},
     "output_type": "execute_result"
    }
   ],
   "source": [
    "labels, labels == 'A'"
   ]
  },
  {
   "cell_type": "code",
   "execution_count": null,
   "metadata": {
    "collapsed": true,
    "deletable": true,
    "editable": true
   },
   "outputs": [],
   "source": [
    "# Plot the transformed points\n",
    "def plot_in_2D(data_in_2D, labels):\n",
    "    apples_2D = data_in_2D[labels=='A']\n",
    "    bananas_2D = data_in_2D[labels=='B']\n",
    "    %matplotlib notebook\n",
    "    plt.scatter(apples_2D[:, 0], apples_2D[:, 1])\n",
    "    plt.scatter(bananas_2D[:, 0], bananas_2D[:, 1])\n",
    "    plt.show()"
   ]
  },
  {
   "cell_type": "code",
   "execution_count": null,
   "metadata": {
    "collapsed": false,
    "deletable": true,
    "editable": true
   },
   "outputs": [],
   "source": [
    "plot_in_2D(data_in_XY, labels)"
   ]
  },
  {
   "cell_type": "markdown",
   "metadata": {
    "deletable": true,
    "editable": true
   },
   "source": [
    "We see that the two classes are now linearly separable."
   ]
  },
  {
   "cell_type": "markdown",
   "metadata": {
    "deletable": true,
    "editable": true
   },
   "source": [
    "**Exercise**: Draw a linear boundary between the two classes."
   ]
  },
  {
   "cell_type": "code",
   "execution_count": null,
   "metadata": {
    "collapsed": true,
    "deletable": true,
    "editable": true
   },
   "outputs": [],
   "source": []
  },
  {
   "cell_type": "markdown",
   "metadata": {
    "deletable": true,
    "editable": true
   },
   "source": [
    "### 2. Projection into YZ plane\n",
    "\n",
    "Projection into YZ plane occurs with the following matrix:\n",
    "\n",
    "$M2 = \\begin{bmatrix} 0 & 1 & 0 \\\\ 0 & 0 & 1 \\end{bmatrix}$\n",
    "\n",
    "(Why?)\n",
    "\n",
    "**Exercise**: Project the data onto YZ plane, plot the graph.\n",
    "\n",
    "**Exercise**: Is the data linearly separable? If so, draw a linear boundary between the two classes.**"
   ]
  },
  {
   "cell_type": "code",
   "execution_count": null,
   "metadata": {
    "collapsed": true,
    "deletable": true,
    "editable": true
   },
   "outputs": [],
   "source": []
  },
  {
   "cell_type": "markdown",
   "metadata": {
    "deletable": true,
    "editable": true
   },
   "source": [
    "### 3. Projection into XZ plane\n",
    "\n",
    "**Exercise**: What is the matrix that can project 3D data onto the XZ plane?\n",
    "\n",
    "**Exercise**: Project the data onto XZ plane, plot the graph.\n",
    "\n",
    "**Exercise**: Is the data linearly separable? If so, draw a linear boundary between the two classes."
   ]
  },
  {
   "cell_type": "code",
   "execution_count": null,
   "metadata": {
    "collapsed": true,
    "deletable": true,
    "editable": true
   },
   "outputs": [],
   "source": []
  }
 ],
 "metadata": {
  "kernelspec": {
   "display_name": "Python 3",
   "language": "python",
   "name": "python3"
  },
  "language_info": {
   "codemirror_mode": {
    "name": "ipython",
    "version": 3
   },
   "file_extension": ".py",
   "mimetype": "text/x-python",
   "name": "python",
   "nbconvert_exporter": "python",
   "pygments_lexer": "ipython3",
   "version": "3.5.3"
  }
 },
 "nbformat": 4,
 "nbformat_minor": 2
}
