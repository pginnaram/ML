{
 "cells": [
  {
   "cell_type": "code",
   "execution_count": 1,
   "metadata": {},
   "outputs": [
    {
     "data": {
      "text/plain": [
       "0"
      ]
     },
     "execution_count": 1,
     "metadata": {},
     "output_type": "execute_result"
    }
   ],
   "source": [
    "import os\n",
    "os.system('pip3 install seaborn')"
   ]
  },
  {
   "cell_type": "code",
   "execution_count": 2,
   "metadata": {},
   "outputs": [
    {
     "name": "stdout",
     "output_type": "stream",
     "text": [
      "Using PyTorch version: 0.3.1 CUDA: False\n"
     ]
    }
   ],
   "source": [
    "## Importing required packages\n",
    "import matplotlib\n",
    "matplotlib.use('Agg')\n",
    "\n",
    "### Importing torch packages\n",
    "import torch\n",
    "import torch.nn as nn\n",
    "import torch.nn.functional as F\n",
    "import torch.optim as optim\n",
    "from torchvision import datasets, transforms\n",
    "from torch.autograd import Variable\n",
    "\n",
    "## Importing python packages\n",
    "import numpy as np\n",
    "import matplotlib.pyplot as plt\n",
    "import seaborn as sns\n",
    "\n",
    "### To test whether GPU instance is present in the system of not.\n",
    "cuda = torch.cuda.is_available()\n",
    "print('Using PyTorch version:', torch.__version__, 'CUDA:', cuda)\n",
    "### If cuda is a gpu instance. If it's false then we run the program on CPU\n",
    "### If cuda is a gpu instance. If it's true then we run the program on GPU\n",
    "torch.manual_seed(42)\n",
    "if cuda:\n",
    "    torch.cuda.manual_seed(42)"
   ]
  },
  {
   "cell_type": "markdown",
   "metadata": {},
   "source": [
    "Now, we'll load the MNIST data. First time we may have to download the data, which can take a while."
   ]
  },
  {
   "cell_type": "code",
   "execution_count": 3,
   "metadata": {},
   "outputs": [],
   "source": [
    "### Initializing batch size\n",
    "batch_size = 32\n",
    "\n",
    "kwargs = {'num_workers': 1, 'pin_memory': True} if cuda else {}\n",
    "\n",
    "## Loading the train set file\n",
    "train_loader = torch.utils.data.DataLoader(\n",
    "    datasets.MNIST('../data', train=True, download=True,\n",
    "                   transform=transforms.Compose([\n",
    "                       transforms.ToTensor(),\n",
    "                       transforms.Normalize((0.1307,), (0.3081,))\n",
    "                   ])),\n",
    "    batch_size=batch_size, shuffle=True, **kwargs)\n",
    "\n",
    "## Loading the test set file\n",
    "test_loader = torch.utils.data.DataLoader(\n",
    "    datasets.MNIST('../data', train=False, transform=transforms.Compose([\n",
    "                       transforms.ToTensor(),\n",
    "                       transforms.Normalize((0.1307,), (0.3081,))\n",
    "                   ])),\n",
    "    batch_size=batch_size, shuffle=True, **kwargs)"
   ]
  },
  {
   "cell_type": "markdown",
   "metadata": {},
   "source": [
    "The train and test data are provided via data loaders that provide iterators over the datasets. The first element of training data (X_train) is a 4th-order tensor of size (batch_size, 1, 28, 28), i.e. it consists of a batch of images of size 1x28x28 pixels. y_train is a vector containing the correct classes (\"0\", \"1\", ..., \"9\") for each training digit."
   ]
  },
  {
   "cell_type": "code",
   "execution_count": 4,
   "metadata": {},
   "outputs": [
    {
     "name": "stdout",
     "output_type": "stream",
     "text": [
      "X_train: torch.Size([32, 1, 28, 28]) type: torch.FloatTensor\n",
      "y_train: torch.Size([32]) type: torch.LongTensor\n"
     ]
    }
   ],
   "source": [
    "for (X_train, y_train) in train_loader:\n",
    "    print('X_train:', X_train.size(), 'type:', X_train.type())\n",
    "    print('y_train:', y_train.size(), 'type:', y_train.type())\n",
    "    break"
   ]
  },
  {
   "cell_type": "markdown",
   "metadata": {},
   "source": [
    "#### Plotting the  first 10 training digits"
   ]
  },
  {
   "cell_type": "code",
   "execution_count": 5,
   "metadata": {},
   "outputs": [],
   "source": [
    "pltsize=1\n",
    "plt.figure(figsize=(10*pltsize, pltsize))\n",
    "\n",
    "for i in range(10):\n",
    "    plt.subplot(1,10,i+1)\n",
    "    plt.axis('off')\n",
    "    plt.imshow(X_train[i,:,:,:].numpy().reshape(28,28), cmap=\"gray\")\n",
    "    plt.title('Class: '+str(y_train[i]))"
   ]
  },
  {
   "cell_type": "markdown",
   "metadata": {},
   "source": [
    "#### MLP network definition\n",
    "Let's define the network as a Python class. We have to write the __init__() and forward() methods, and PyTorch will automatically generate a backward() method for computing the gradients for the backward pass.\n",
    "\n",
    "Finally, we define an optimizer to update the model parameters based on the computed gradients. We select stochastic gradient descent (with momentum) as the optimization algorithm, and set learning rate to 0.01. Note that there are several different options for the optimizer in PyTorch that we could use instead of SGD."
   ]
  },
  {
   "cell_type": "code",
   "execution_count": 6,
   "metadata": {},
   "outputs": [
    {
     "name": "stdout",
     "output_type": "stream",
     "text": [
      "Net(\n",
      "  (fc1): Linear(in_features=784, out_features=50, bias=True)\n",
      "  (fc1_drop): Dropout(p=0.2)\n",
      "  (fc2): Linear(in_features=50, out_features=50, bias=True)\n",
      "  (fc2_drop): Dropout(p=0.2)\n",
      "  (fc3): Linear(in_features=50, out_features=10, bias=True)\n",
      ")\n"
     ]
    }
   ],
   "source": [
    "class Net(nn.Module):\n",
    "    def __init__(self):\n",
    "        super(Net, self).__init__()\n",
    "        self.fc1 = nn.Linear(28*28, 50)\n",
    "        self.fc1_drop = nn.Dropout(0.2)\n",
    "        self.fc2 = nn.Linear(50, 50)\n",
    "        self.fc2_drop = nn.Dropout(0.2)\n",
    "        self.fc3 = nn.Linear(50, 10)\n",
    "\n",
    "    def forward(self, x):\n",
    "        x = x.view(-1, 28*28)\n",
    "        x = F.relu(self.fc1(x))\n",
    "        x = self.fc1_drop(x)\n",
    "        x = F.relu(self.fc2(x))\n",
    "        x = self.fc2_drop(x)\n",
    "        return F.log_softmax(self.fc3(x))\n",
    "\n",
    "model = Net()\n",
    "if cuda:\n",
    "    model.cuda()\n",
    "    \n",
    "optimizer = optim.SGD(model.parameters(), lr=0.01, momentum=0.5)\n",
    "\n",
    "print(model)"
   ]
  },
  {
   "cell_type": "markdown",
   "metadata": {},
   "source": [
    "#### Learning\n",
    "Let's now define functions to train() and test() the model."
   ]
  },
  {
   "cell_type": "code",
   "execution_count": 7,
   "metadata": {},
   "outputs": [],
   "source": [
    "def train(epoch, log_interval=100):\n",
    "    model.train()\n",
    "    for batch_idx, (data, target) in enumerate(train_loader):\n",
    "        if cuda:\n",
    "            data, target = data.cuda(), target.cuda()\n",
    "        data, target = Variable(data), Variable(target)\n",
    "        optimizer.zero_grad()\n",
    "        output = model(data)\n",
    "        loss = F.nll_loss(output, target)\n",
    "        loss.backward()\n",
    "        optimizer.step()\n",
    "        if batch_idx % log_interval == 0:\n",
    "            print('Train Epoch: {} [{}/{} ({:.0f}%)]\\tLoss: {:.6f}'.format(\n",
    "                epoch, batch_idx * len(data), len(train_loader.dataset),\n",
    "                100. * batch_idx / len(train_loader), loss.data[0]))"
   ]
  },
  {
   "cell_type": "code",
   "execution_count": 8,
   "metadata": {},
   "outputs": [],
   "source": [
    "def test(loss_vector, accuracy_vector):\n",
    "    model.eval()\n",
    "    test_loss, correct = 0, 0\n",
    "    for data, target in test_loader:\n",
    "        if cuda:\n",
    "            data, target = data.cuda(), target.cuda()\n",
    "        data, target = Variable(data, volatile=True), Variable(target)\n",
    "        output = model(data)\n",
    "        test_loss += F.nll_loss(output, target).data[0]\n",
    "        pred = output.data.max(1)[1] # get the index of the max log-probability\n",
    "        correct += pred.eq(target.data).cpu().sum()\n",
    "\n",
    "    test_loss /= len(test_loader)\n",
    "    loss_vector.append(test_loss)\n",
    "\n",
    "    accuracy = 100. * correct / len(test_loader.dataset)\n",
    "    accuracy_vector.append(accuracy)\n",
    "    \n",
    "    print('\\nTest set: Average loss: {:.4f}, Accuracy: {}/{} ({:.0f}%)\\n'.format(\n",
    "        test_loss, correct, len(test_loader.dataset), accuracy))"
   ]
  },
  {
   "cell_type": "markdown",
   "metadata": {},
   "source": [
    "Now we are ready to train our model using the train() function. An epoch means one pass through the whole training data. After each epoch, we evaluate the model using test()."
   ]
  },
  {
   "cell_type": "code",
   "execution_count": 9,
   "metadata": {},
   "outputs": [
    {
     "data": {
      "text/plain": [
       "0"
      ]
     },
     "execution_count": 9,
     "metadata": {},
     "output_type": "execute_result"
    }
   ],
   "source": [
    "os.system('date')"
   ]
  },
  {
   "cell_type": "code",
   "execution_count": 10,
   "metadata": {},
   "outputs": [
    {
     "name": "stderr",
     "output_type": "stream",
     "text": [
      "/usr/local/lib/python3.5/dist-packages/ipykernel_launcher.py:16: UserWarning: Implicit dimension choice for log_softmax has been deprecated. Change the call to include dim=X as an argument.\n",
      "  app.launch_new_instance()\n"
     ]
    },
    {
     "name": "stdout",
     "output_type": "stream",
     "text": [
      "Train Epoch: 1 [0/60000 (0%)]\tLoss: 2.286133\n",
      "Train Epoch: 1 [3200/60000 (5%)]\tLoss: 1.574557\n",
      "Train Epoch: 1 [6400/60000 (11%)]\tLoss: 1.053961\n",
      "Train Epoch: 1 [9600/60000 (16%)]\tLoss: 0.762598\n",
      "Train Epoch: 1 [12800/60000 (21%)]\tLoss: 0.567075\n",
      "Train Epoch: 1 [16000/60000 (27%)]\tLoss: 0.636146\n",
      "Train Epoch: 1 [19200/60000 (32%)]\tLoss: 0.785646\n",
      "Train Epoch: 1 [22400/60000 (37%)]\tLoss: 0.576619\n",
      "Train Epoch: 1 [25600/60000 (43%)]\tLoss: 0.422358\n",
      "Train Epoch: 1 [28800/60000 (48%)]\tLoss: 0.431734\n",
      "Train Epoch: 1 [32000/60000 (53%)]\tLoss: 0.282997\n",
      "Train Epoch: 1 [35200/60000 (59%)]\tLoss: 0.700439\n",
      "Train Epoch: 1 [38400/60000 (64%)]\tLoss: 0.328396\n",
      "Train Epoch: 1 [41600/60000 (69%)]\tLoss: 0.456864\n",
      "Train Epoch: 1 [44800/60000 (75%)]\tLoss: 0.174557\n",
      "Train Epoch: 1 [48000/60000 (80%)]\tLoss: 0.380142\n",
      "Train Epoch: 1 [51200/60000 (85%)]\tLoss: 0.547680\n",
      "Train Epoch: 1 [54400/60000 (91%)]\tLoss: 0.199731\n",
      "Train Epoch: 1 [57600/60000 (96%)]\tLoss: 0.555221\n",
      "\n",
      "Test set: Average loss: 0.2322, Accuracy: 9305/10000 (93%)\n",
      "\n",
      "Train Epoch: 2 [0/60000 (0%)]\tLoss: 0.196937\n",
      "Train Epoch: 2 [3200/60000 (5%)]\tLoss: 0.378101\n",
      "Train Epoch: 2 [6400/60000 (11%)]\tLoss: 0.194140\n",
      "Train Epoch: 2 [9600/60000 (16%)]\tLoss: 0.143018\n",
      "Train Epoch: 2 [12800/60000 (21%)]\tLoss: 0.453381\n",
      "Train Epoch: 2 [16000/60000 (27%)]\tLoss: 0.191670\n",
      "Train Epoch: 2 [19200/60000 (32%)]\tLoss: 0.142669\n",
      "Train Epoch: 2 [22400/60000 (37%)]\tLoss: 0.277849\n",
      "Train Epoch: 2 [25600/60000 (43%)]\tLoss: 0.088262\n",
      "Train Epoch: 2 [28800/60000 (48%)]\tLoss: 0.160847\n",
      "Train Epoch: 2 [32000/60000 (53%)]\tLoss: 0.250453\n",
      "Train Epoch: 2 [35200/60000 (59%)]\tLoss: 0.608696\n",
      "Train Epoch: 2 [38400/60000 (64%)]\tLoss: 0.215305\n",
      "Train Epoch: 2 [41600/60000 (69%)]\tLoss: 0.090341\n",
      "Train Epoch: 2 [44800/60000 (75%)]\tLoss: 0.365220\n",
      "Train Epoch: 2 [48000/60000 (80%)]\tLoss: 0.452741\n",
      "Train Epoch: 2 [51200/60000 (85%)]\tLoss: 0.253402\n",
      "Train Epoch: 2 [54400/60000 (91%)]\tLoss: 0.240241\n",
      "Train Epoch: 2 [57600/60000 (96%)]\tLoss: 0.147236\n",
      "\n",
      "Test set: Average loss: 0.1754, Accuracy: 9446/10000 (94%)\n",
      "\n",
      "Train Epoch: 3 [0/60000 (0%)]\tLoss: 0.368346\n",
      "Train Epoch: 3 [3200/60000 (5%)]\tLoss: 0.088454\n",
      "Train Epoch: 3 [6400/60000 (11%)]\tLoss: 0.114770\n",
      "Train Epoch: 3 [9600/60000 (16%)]\tLoss: 0.088221\n",
      "Train Epoch: 3 [12800/60000 (21%)]\tLoss: 0.206095\n",
      "Train Epoch: 3 [16000/60000 (27%)]\tLoss: 0.241321\n",
      "Train Epoch: 3 [19200/60000 (32%)]\tLoss: 0.115139\n",
      "Train Epoch: 3 [22400/60000 (37%)]\tLoss: 0.227473\n",
      "Train Epoch: 3 [25600/60000 (43%)]\tLoss: 0.134708\n",
      "Train Epoch: 3 [28800/60000 (48%)]\tLoss: 0.233216\n",
      "Train Epoch: 3 [32000/60000 (53%)]\tLoss: 0.083944\n",
      "Train Epoch: 3 [35200/60000 (59%)]\tLoss: 0.105937\n",
      "Train Epoch: 3 [38400/60000 (64%)]\tLoss: 0.189989\n",
      "Train Epoch: 3 [41600/60000 (69%)]\tLoss: 0.065454\n",
      "Train Epoch: 3 [44800/60000 (75%)]\tLoss: 0.272049\n",
      "Train Epoch: 3 [48000/60000 (80%)]\tLoss: 0.220282\n",
      "Train Epoch: 3 [51200/60000 (85%)]\tLoss: 0.166184\n",
      "Train Epoch: 3 [54400/60000 (91%)]\tLoss: 0.234057\n",
      "Train Epoch: 3 [57600/60000 (96%)]\tLoss: 0.123263\n",
      "\n",
      "Test set: Average loss: 0.1563, Accuracy: 9514/10000 (95%)\n",
      "\n",
      "Train Epoch: 4 [0/60000 (0%)]\tLoss: 0.141803\n",
      "Train Epoch: 4 [3200/60000 (5%)]\tLoss: 0.093838\n",
      "Train Epoch: 4 [6400/60000 (11%)]\tLoss: 0.219627\n",
      "Train Epoch: 4 [9600/60000 (16%)]\tLoss: 0.145376\n",
      "Train Epoch: 4 [12800/60000 (21%)]\tLoss: 0.203147\n",
      "Train Epoch: 4 [16000/60000 (27%)]\tLoss: 0.458637\n",
      "Train Epoch: 4 [19200/60000 (32%)]\tLoss: 0.319450\n",
      "Train Epoch: 4 [22400/60000 (37%)]\tLoss: 0.071428\n",
      "Train Epoch: 4 [25600/60000 (43%)]\tLoss: 0.242928\n",
      "Train Epoch: 4 [28800/60000 (48%)]\tLoss: 0.078041\n",
      "Train Epoch: 4 [32000/60000 (53%)]\tLoss: 0.042281\n",
      "Train Epoch: 4 [35200/60000 (59%)]\tLoss: 0.077270\n",
      "Train Epoch: 4 [38400/60000 (64%)]\tLoss: 0.102733\n",
      "Train Epoch: 4 [41600/60000 (69%)]\tLoss: 0.139533\n",
      "Train Epoch: 4 [44800/60000 (75%)]\tLoss: 0.125686\n",
      "Train Epoch: 4 [48000/60000 (80%)]\tLoss: 0.503572\n",
      "Train Epoch: 4 [51200/60000 (85%)]\tLoss: 0.051694\n",
      "Train Epoch: 4 [54400/60000 (91%)]\tLoss: 0.281921\n",
      "Train Epoch: 4 [57600/60000 (96%)]\tLoss: 0.298407\n",
      "\n",
      "Test set: Average loss: 0.1371, Accuracy: 9567/10000 (96%)\n",
      "\n",
      "Train Epoch: 5 [0/60000 (0%)]\tLoss: 0.164762\n",
      "Train Epoch: 5 [3200/60000 (5%)]\tLoss: 0.126445\n",
      "Train Epoch: 5 [6400/60000 (11%)]\tLoss: 0.112156\n",
      "Train Epoch: 5 [9600/60000 (16%)]\tLoss: 0.255698\n",
      "Train Epoch: 5 [12800/60000 (21%)]\tLoss: 0.057579\n",
      "Train Epoch: 5 [16000/60000 (27%)]\tLoss: 0.414815\n",
      "Train Epoch: 5 [19200/60000 (32%)]\tLoss: 0.138574\n",
      "Train Epoch: 5 [22400/60000 (37%)]\tLoss: 0.049762\n",
      "Train Epoch: 5 [25600/60000 (43%)]\tLoss: 0.031920\n",
      "Train Epoch: 5 [28800/60000 (48%)]\tLoss: 0.157036\n",
      "Train Epoch: 5 [32000/60000 (53%)]\tLoss: 0.173005\n",
      "Train Epoch: 5 [35200/60000 (59%)]\tLoss: 0.375119\n",
      "Train Epoch: 5 [38400/60000 (64%)]\tLoss: 0.093178\n",
      "Train Epoch: 5 [41600/60000 (69%)]\tLoss: 0.202982\n",
      "Train Epoch: 5 [44800/60000 (75%)]\tLoss: 0.226898\n",
      "Train Epoch: 5 [48000/60000 (80%)]\tLoss: 0.093534\n",
      "Train Epoch: 5 [51200/60000 (85%)]\tLoss: 0.006820\n",
      "Train Epoch: 5 [54400/60000 (91%)]\tLoss: 0.419732\n",
      "Train Epoch: 5 [57600/60000 (96%)]\tLoss: 0.086866\n",
      "\n",
      "Test set: Average loss: 0.1274, Accuracy: 9607/10000 (96%)\n",
      "\n",
      "Train Epoch: 6 [0/60000 (0%)]\tLoss: 0.134173\n",
      "Train Epoch: 6 [3200/60000 (5%)]\tLoss: 0.083257\n",
      "Train Epoch: 6 [6400/60000 (11%)]\tLoss: 0.094662\n",
      "Train Epoch: 6 [9600/60000 (16%)]\tLoss: 0.088890\n",
      "Train Epoch: 6 [12800/60000 (21%)]\tLoss: 0.241578\n",
      "Train Epoch: 6 [16000/60000 (27%)]\tLoss: 0.308057\n",
      "Train Epoch: 6 [19200/60000 (32%)]\tLoss: 0.181127\n",
      "Train Epoch: 6 [22400/60000 (37%)]\tLoss: 0.251654\n",
      "Train Epoch: 6 [25600/60000 (43%)]\tLoss: 0.326201\n",
      "Train Epoch: 6 [28800/60000 (48%)]\tLoss: 0.177703\n",
      "Train Epoch: 6 [32000/60000 (53%)]\tLoss: 0.023949\n",
      "Train Epoch: 6 [35200/60000 (59%)]\tLoss: 0.175219\n",
      "Train Epoch: 6 [38400/60000 (64%)]\tLoss: 0.140863\n",
      "Train Epoch: 6 [41600/60000 (69%)]\tLoss: 0.138745\n",
      "Train Epoch: 6 [44800/60000 (75%)]\tLoss: 0.157184\n",
      "Train Epoch: 6 [48000/60000 (80%)]\tLoss: 0.032588\n",
      "Train Epoch: 6 [51200/60000 (85%)]\tLoss: 0.214335\n",
      "Train Epoch: 6 [54400/60000 (91%)]\tLoss: 0.087561\n",
      "Train Epoch: 6 [57600/60000 (96%)]\tLoss: 0.236999\n",
      "\n",
      "Test set: Average loss: 0.1248, Accuracy: 9615/10000 (96%)\n",
      "\n",
      "Train Epoch: 7 [0/60000 (0%)]\tLoss: 0.093569\n",
      "Train Epoch: 7 [3200/60000 (5%)]\tLoss: 0.254593\n",
      "Train Epoch: 7 [6400/60000 (11%)]\tLoss: 0.191481\n",
      "Train Epoch: 7 [9600/60000 (16%)]\tLoss: 0.061298\n",
      "Train Epoch: 7 [12800/60000 (21%)]\tLoss: 0.102425\n",
      "Train Epoch: 7 [16000/60000 (27%)]\tLoss: 0.122451\n",
      "Train Epoch: 7 [19200/60000 (32%)]\tLoss: 0.182563\n",
      "Train Epoch: 7 [22400/60000 (37%)]\tLoss: 0.018291\n",
      "Train Epoch: 7 [25600/60000 (43%)]\tLoss: 0.175589\n",
      "Train Epoch: 7 [28800/60000 (48%)]\tLoss: 0.075273\n",
      "Train Epoch: 7 [32000/60000 (53%)]\tLoss: 0.239354\n",
      "Train Epoch: 7 [35200/60000 (59%)]\tLoss: 0.052069\n",
      "Train Epoch: 7 [38400/60000 (64%)]\tLoss: 0.118727\n",
      "Train Epoch: 7 [41600/60000 (69%)]\tLoss: 0.199154\n",
      "Train Epoch: 7 [44800/60000 (75%)]\tLoss: 0.196249\n",
      "Train Epoch: 7 [48000/60000 (80%)]\tLoss: 0.115018\n",
      "Train Epoch: 7 [51200/60000 (85%)]\tLoss: 0.150928\n",
      "Train Epoch: 7 [54400/60000 (91%)]\tLoss: 0.057411\n",
      "Train Epoch: 7 [57600/60000 (96%)]\tLoss: 0.088834\n",
      "\n",
      "Test set: Average loss: 0.1165, Accuracy: 9648/10000 (96%)\n",
      "\n",
      "Train Epoch: 8 [0/60000 (0%)]\tLoss: 0.181400\n",
      "Train Epoch: 8 [3200/60000 (5%)]\tLoss: 0.581135\n",
      "Train Epoch: 8 [6400/60000 (11%)]\tLoss: 0.103224\n",
      "Train Epoch: 8 [9600/60000 (16%)]\tLoss: 0.250272\n",
      "Train Epoch: 8 [12800/60000 (21%)]\tLoss: 0.151910\n",
      "Train Epoch: 8 [16000/60000 (27%)]\tLoss: 0.252386\n",
      "Train Epoch: 8 [19200/60000 (32%)]\tLoss: 0.054998\n",
      "Train Epoch: 8 [22400/60000 (37%)]\tLoss: 0.024887\n",
      "Train Epoch: 8 [25600/60000 (43%)]\tLoss: 0.122601\n",
      "Train Epoch: 8 [28800/60000 (48%)]\tLoss: 0.066783\n",
      "Train Epoch: 8 [32000/60000 (53%)]\tLoss: 0.104095\n",
      "Train Epoch: 8 [35200/60000 (59%)]\tLoss: 0.394527\n",
      "Train Epoch: 8 [38400/60000 (64%)]\tLoss: 0.132890\n",
      "Train Epoch: 8 [41600/60000 (69%)]\tLoss: 0.057431\n",
      "Train Epoch: 8 [44800/60000 (75%)]\tLoss: 0.179284\n",
      "Train Epoch: 8 [48000/60000 (80%)]\tLoss: 0.065467\n",
      "Train Epoch: 8 [51200/60000 (85%)]\tLoss: 0.058086\n",
      "Train Epoch: 8 [54400/60000 (91%)]\tLoss: 0.254607\n",
      "Train Epoch: 8 [57600/60000 (96%)]\tLoss: 0.127560\n",
      "\n",
      "Test set: Average loss: 0.1079, Accuracy: 9667/10000 (97%)\n",
      "\n",
      "Train Epoch: 9 [0/60000 (0%)]\tLoss: 0.091684\n",
      "Train Epoch: 9 [3200/60000 (5%)]\tLoss: 0.158241\n",
      "Train Epoch: 9 [6400/60000 (11%)]\tLoss: 0.271986\n",
      "Train Epoch: 9 [9600/60000 (16%)]\tLoss: 0.120147\n"
     ]
    },
    {
     "name": "stdout",
     "output_type": "stream",
     "text": [
      "Train Epoch: 9 [12800/60000 (21%)]\tLoss: 0.088631\n",
      "Train Epoch: 9 [16000/60000 (27%)]\tLoss: 0.049552\n",
      "Train Epoch: 9 [19200/60000 (32%)]\tLoss: 0.104120\n",
      "Train Epoch: 9 [22400/60000 (37%)]\tLoss: 0.556603\n",
      "Train Epoch: 9 [25600/60000 (43%)]\tLoss: 0.271876\n",
      "Train Epoch: 9 [28800/60000 (48%)]\tLoss: 0.443873\n",
      "Train Epoch: 9 [32000/60000 (53%)]\tLoss: 0.047532\n",
      "Train Epoch: 9 [35200/60000 (59%)]\tLoss: 0.083300\n",
      "Train Epoch: 9 [38400/60000 (64%)]\tLoss: 0.114984\n",
      "Train Epoch: 9 [41600/60000 (69%)]\tLoss: 0.241781\n",
      "Train Epoch: 9 [44800/60000 (75%)]\tLoss: 0.083469\n",
      "Train Epoch: 9 [48000/60000 (80%)]\tLoss: 0.403411\n",
      "Train Epoch: 9 [51200/60000 (85%)]\tLoss: 0.125964\n",
      "Train Epoch: 9 [54400/60000 (91%)]\tLoss: 0.170172\n",
      "Train Epoch: 9 [57600/60000 (96%)]\tLoss: 0.233029\n",
      "\n",
      "Test set: Average loss: 0.1076, Accuracy: 9660/10000 (97%)\n",
      "\n",
      "Train Epoch: 10 [0/60000 (0%)]\tLoss: 0.080552\n",
      "Train Epoch: 10 [3200/60000 (5%)]\tLoss: 0.269887\n",
      "Train Epoch: 10 [6400/60000 (11%)]\tLoss: 0.213379\n",
      "Train Epoch: 10 [9600/60000 (16%)]\tLoss: 0.377447\n",
      "Train Epoch: 10 [12800/60000 (21%)]\tLoss: 0.030220\n",
      "Train Epoch: 10 [16000/60000 (27%)]\tLoss: 0.085233\n",
      "Train Epoch: 10 [19200/60000 (32%)]\tLoss: 0.058388\n",
      "Train Epoch: 10 [22400/60000 (37%)]\tLoss: 0.176670\n",
      "Train Epoch: 10 [25600/60000 (43%)]\tLoss: 0.250274\n",
      "Train Epoch: 10 [28800/60000 (48%)]\tLoss: 0.208019\n",
      "Train Epoch: 10 [32000/60000 (53%)]\tLoss: 0.104271\n",
      "Train Epoch: 10 [35200/60000 (59%)]\tLoss: 0.447894\n",
      "Train Epoch: 10 [38400/60000 (64%)]\tLoss: 0.193074\n",
      "Train Epoch: 10 [41600/60000 (69%)]\tLoss: 0.159966\n",
      "Train Epoch: 10 [44800/60000 (75%)]\tLoss: 0.091814\n",
      "Train Epoch: 10 [48000/60000 (80%)]\tLoss: 0.129238\n",
      "Train Epoch: 10 [51200/60000 (85%)]\tLoss: 0.308982\n",
      "Train Epoch: 10 [54400/60000 (91%)]\tLoss: 0.217053\n",
      "Train Epoch: 10 [57600/60000 (96%)]\tLoss: 0.150911\n",
      "\n",
      "Test set: Average loss: 0.1079, Accuracy: 9678/10000 (97%)\n",
      "\n"
     ]
    }
   ],
   "source": [
    "epochs = 10\n",
    "\n",
    "lossv, accv = [], []\n",
    "for epoch in range(1, epochs + 1):\n",
    "    train(epoch)\n",
    "    test(lossv, accv)"
   ]
  },
  {
   "cell_type": "code",
   "execution_count": null,
   "metadata": {},
   "outputs": [],
   "source": [
    "os.system('date')"
   ]
  }
 ],
 "metadata": {
  "kernelspec": {
   "display_name": "Python 3",
   "language": "python",
   "name": "python3"
  },
  "language_info": {
   "codemirror_mode": {
    "name": "ipython",
    "version": 3
   },
   "file_extension": ".py",
   "mimetype": "text/x-python",
   "name": "python",
   "nbconvert_exporter": "python",
   "pygments_lexer": "ipython3",
   "version": "3.5.2"
  }
 },
 "nbformat": 4,
 "nbformat_minor": 2
}
