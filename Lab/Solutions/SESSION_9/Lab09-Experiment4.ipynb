{
 "cells": [
  {
   "cell_type": "markdown",
   "metadata": {},
   "source": [
    "# Convolutional Neural Network (CNN)\n",
    "\n",
    "CNNs is the neural network layer used when working with image data. In this notebook, we will see how to implement CNN based neural networks.  We will be using the [pytorch](http://pytorch.org/) deep learning library. Please have a look at the pytorch website. It has more additional material, specifically:\n",
    "- The pytorch website has a many [tutorials](http://pytorch.org/tutorials/) that you can follow additionally.\n",
    "- There is also an [api reference](http://pytorch.org/docs/0.3.1/), for refereing the definitions of functions and classes.\n",
    "\n",
    "As we saw in the lecture, deep learning programming involves the following steps:\n",
    "\n",
    "1. Specifying the dataset and how it should be loaded.\n",
    "2. Specifying a Neural Network Model \n",
    "3. Specify the Loss function and Gradient Update Algorithm\n",
    "4. Training Loop \n",
    "5. Compute the Accuracy on Testing dataset\n",
    "\n",
    "First we will start with some import statements."
   ]
  },
  {
   "cell_type": "code",
   "execution_count": 3,
   "metadata": {
    "ExecuteTime": {
     "end_time": "2018-03-17T11:29:46.573336Z",
     "start_time": "2018-03-17T11:29:45.859419Z"
    }
   },
   "outputs": [],
   "source": [
    "# Importing torch library, which is a popular one for deep learning\n",
    "import torch\n",
    "import torch.nn as nn\n",
    "import torch.utils as utils\n",
    "from torch.autograd import Variable\n",
    "import torchvision\n",
    "import torchvision.transforms as transforms\n",
    "import torch.utils.data as Data\n",
    "import torch.nn.functional as F\n",
    "\n",
    "# OS is a standard python library, which we use for accessing the file system.\n",
    "import os\n",
    "\n",
    "# Matplotllib is used for ploting graphs\n",
    "import matplotlib.pyplot as plt\n",
    "%matplotlib inline\n",
    "\n",
    "from IPython import display"
   ]
  },
  {
   "cell_type": "markdown",
   "metadata": {},
   "source": [
    "## Step 1: Data Loading\n",
    "We will be using the MNIST handwritten images dataset. The dataset is split in to 2 parts:\n",
    "- train which consists of 60000 images \n",
    "- test of 10000 images. \n",
    "\n",
    "These images are represeted as a 28x28 matrix."
   ]
  },
  {
   "cell_type": "code",
   "execution_count": 4,
   "metadata": {
    "ExecuteTime": {
     "end_time": "2018-03-17T11:29:46.941595Z",
     "start_time": "2018-03-17T11:29:46.577138Z"
    }
   },
   "outputs": [
    {
     "name": "stdout",
     "output_type": "stream",
     "text": [
      "Shape of the training data (no of images, height, width) :  torch.Size([60000, 28, 28])\n",
      "Shape of the testing data (no of images, height, width) :  torch.Size([10000, 28, 28])\n",
      "\n",
      "\n",
      "###### An Example Image, Label pair ############\n"
     ]
    },
    {
     "data": {
      "image/png": "[encoded data removed]",
      "text/plain": [
       "<Figure size 432x288 with 1 Axes>"
      ]
     },
     "metadata": {},
     "output_type": "display_data"
    }
   ],
   "source": [
    "# Some code, to check if dataset is already downloaded.\n",
    "DOWNLOAD_MNIST = False\n",
    "if not(os.path.exists('./mnist/')) or not os.listdir('./mnist/'):\n",
    "    DOWNLOAD_MNIST = True\n",
    "\n",
    "# Loading the training data\n",
    "mnist_train = torchvision.datasets.MNIST(\n",
    "    root='./mnist/',\n",
    "    train=True,                                     # this is training data\n",
    "    transform=torchvision.transforms.ToTensor(),    # Converts a PIL.Image or numpy.ndarray to\n",
    "                                                    # torch.FloatTensor of shape (C x H x W) and normalize in the range [0.0, 1.0]\n",
    "    download=DOWNLOAD_MNIST,\n",
    ")\n",
    "\n",
    "# Similarly loading the testing data\n",
    "mnist_test = torchvision.datasets.MNIST(\n",
    "    root='./mnist/',\n",
    "    train=False,                                     \n",
    "    transform=torchvision.transforms.ToTensor(),    \n",
    "    download=DOWNLOAD_MNIST,\n",
    ")\n",
    "\n",
    "\n",
    "# ploting one example\n",
    "print(\"Shape of the training data (no of images, height, width) : \", mnist_train.train_data.size()) # (60000, 28, 28)\n",
    "print(\"Shape of the testing data (no of images, height, width) : \", mnist_test.test_data.size())  # (10000, 28, 28)\n",
    "print(\"\\n\")\n",
    "print(\"###### An Example Image, Label pair ############\")\n",
    "plt.imshow(mnist_train.train_data[0].numpy(), cmap='gray')\n",
    "plt.title('Label : %i' % mnist_train.train_labels[0])\n",
    "plt.show()\n",
    "\n"
   ]
  },
  {
   "cell_type": "markdown",
   "metadata": {},
   "source": [
    "### Minibatch\n",
    "Machine learning dataset can be really large. Hence we cannot often load the entire data in to the memory. Hence neural network training is done by loading small batches (commonly called minibatch) of data, and using it to update the learnable parameters (weights and biases) of the model."
   ]
  },
  {
   "cell_type": "code",
   "execution_count": 5,
   "metadata": {
    "ExecuteTime": {
     "end_time": "2018-03-17T11:29:48.227923Z",
     "start_time": "2018-03-17T11:29:46.956969Z"
    }
   },
   "outputs": [
    {
     "name": "stdout",
     "output_type": "stream",
     "text": [
      "Mini batch size: images - torch.Size([1000, 1, 28, 28])  labels -  torch.Size([1000])\n",
      "torch.Size([1, 28, 28]) 9\n"
     ]
    },
    {
     "data": {
      "image/png": "[encoded data removed]",
      "text/plain": [
       "<Figure size 432x288 with 1 Axes>"
      ]
     },
     "metadata": {},
     "output_type": "display_data"
    },
    {
     "name": "stdout",
     "output_type": "stream",
     "text": [
      "torch.Size([1, 28, 28]) 0\n"
     ]
    },
    {
     "data": {
      "image/png": "[encoded data removed]",
      "text/plain": [
       "<Figure size 432x288 with 1 Axes>"
      ]
     },
     "metadata": {},
     "output_type": "display_data"
    },
    {
     "name": "stdout",
     "output_type": "stream",
     "text": [
      "Mini batch size: images - torch.Size([1000, 1, 28, 28])  labels -  torch.Size([1000])\n",
      "torch.Size([1, 28, 28]) 4\n"
     ]
    },
    {
     "data": {
      "image/png": "[encoded data removed]",
      "text/plain": [
       "<Figure size 432x288 with 1 Axes>"
      ]
     },
     "metadata": {},
     "output_type": "display_data"
    },
    {
     "name": "stdout",
     "output_type": "stream",
     "text": [
      "torch.Size([1, 28, 28]) 7\n"
     ]
    },
    {
     "data": {
      "image/png": "[encoded data removed]",
      "text/plain": [
       "<Figure size 432x288 with 1 Axes>"
      ]
     },
     "metadata": {},
     "output_type": "display_data"
    }
   ],
   "source": [
    "batch_size = 1000 # The mini batch size used for doing the training\n",
    "\n",
    "\n",
    "# Data Loader for easy mini-batch return in training, the image batch shape will be (batch_size, 1, 28, 28)\n",
    "train_loader = Data.DataLoader(dataset=mnist_train, batch_size=batch_size, shuffle=True)\n",
    "test_loader = Data.DataLoader(dataset=mnist_test, batch_size=batch_size, shuffle=True)\n",
    "\n",
    "count = 0\n",
    "for mini_batch in train_loader:\n",
    "    images, labels = mini_batch\n",
    "    print('Mini batch size: images -', images.size(), ' labels - ', labels.size())\n",
    "    for j in range(batch_size):\n",
    "        print(images[j].size(), labels[j])\n",
    "        plt.imshow(images[j][0].numpy(), cmap='gray')\n",
    "        plt.title('Label : %i' % labels[j])\n",
    "        plt.show()\n",
    "\n",
    "# Some logic to break the loops so that we dont print the whole dataset.\n",
    "        if j == 1:\n",
    "            break\n",
    "    if count == 1:\n",
    "        break\n",
    "        \n",
    "    count +=1\n",
    "    \n"
   ]
  },
  {
   "cell_type": "markdown",
   "metadata": {},
   "source": [
    "## Step 2: Defining a CNN based Neural Network\n",
    "Now we will define a CNN based neural network, that takes input the 28x28 MNIST images and predicts a label from 0 to 9. The predictions will be of the form of a probability distribution given as an array $P$ of length 10, where each entry $P_i$  denotes the probability of the input image being the digit $i$.\n",
    "\n",
    "We will divide the neural network into two parts. First is the feature extractor, which given the 28x28 images, gives a feature vector. The feature extractor is a CNN based neural network. Second is a classifier, which takes the feature vector as input and produces a 10 dimensional vector called the logits. Finally the logits is converted in the prediction probabilities by applying the softmax function\n",
    "\n",
    "The Deep CNN we will be using is called LeNet. A pictorial respresentation is given bellow:\n",
    "![alt text](http://eblearn.sourceforge.net/lib/exe/lenet5.png \"Title\")\n",
    "\n",
    "As you can see, the neural network has multiple operations happening on after the another. Each operation has learnable parameters (weights and biases). Typically we call the the layers of a neural network. Neural network can have many layers, and are hence called Deep Neural Networks (DNNs) or Deep CNNs. LeNet feature extractor shown above has the following layers\n",
    "\n",
    "1. Convolutional layer which:\n",
    "    1. take an image with 1 channel (since MNIST digits are black and white. For color images, they are represented by 3 channels giving the intensities of Red, Blue and Green) \n",
    "    2. outputs a 3D tensor with 6 channels\n",
    "    3. window size 5x5\n",
    "    4. stride 1\n",
    "2. Subsampling or Pooling (which reduces the height and width by half). Here we are doing 2x2-MaxPooling which takes the maximum value of every 2x2 window.\n",
    "3. ReLU activation function applied to every entry of the tensor\n",
    "4. Convolutional layer which:\n",
    "    1. take a tensor with 6 channels\n",
    "    2. outputs a 3D tensor with 16 channels\n",
    "    3. window size 5x5\n",
    "    4. stride 1\n",
    "4. MaxPooling\n",
    "5. ReLU\n",
    "\n",
    "Note that output of the above neural network is a 3D tensor. This is because the input is a 3D tensor (with one dimension =1) and convolutional and Maxpooling layers give 3D tensors as output. Next we will reshape this 3D tensor into a long vector and pass it through the classifier network. Classifier network is typically a Multilayered Perceptron Network that you have seen previously.\n",
    "\n"
   ]
  },
  {
   "cell_type": "code",
   "execution_count": 6,
   "metadata": {
    "ExecuteTime": {
     "end_time": "2018-03-17T11:29:48.311406Z",
     "start_time": "2018-03-17T11:29:48.231583Z"
    }
   },
   "outputs": [],
   "source": [
    "# A CNN based Feature extractor\n",
    "# Definining neural network in python by a class which inherits from nn.Module\n",
    "class LeNet(nn.Module):\n",
    "    \"\"\"LeNet feature extractor model.\"\"\"\n",
    "\n",
    "    def __init__(self):\n",
    "        \"\"\"Init LeNet feature extractor model.\"\"\"\n",
    "        super(LeNet, self).__init__()\n",
    "\n",
    "        # Defining the CNNfeature Extractor\n",
    "        self.feature_extractor = nn.Sequential(\n",
    "            # 1st conv layer\n",
    "            # input [1 x 28 x 28]\n",
    "            # output [20 x 12 x 12]\n",
    "            nn.Conv2d(1, 6, kernel_size=5), # A Conv which converts an input with 1 channel to an output with 6 channels\n",
    "            nn.MaxPool2d(kernel_size=2), # Max pooling subsampling operation\n",
    "            nn.ReLU(), # Non linear activation function\n",
    "            # 2nd conv layer\n",
    "            # input [20 x 12 x 12]\n",
    "            # output [50 x 4 x 4]\n",
    "            nn.Conv2d(6, 16, kernel_size=5),\n",
    "            nn.MaxPool2d(kernel_size=2),\n",
    "            nn.ReLU()\n",
    "        )\n",
    "        \n",
    "        # Defining the Classifier\n",
    "        self.classifier = nn.Sequential(\n",
    "            nn.Linear(16 * 4 * 4, 120),\n",
    "            nn.Linear(120, 84),\n",
    "            nn.ReLU(),\n",
    "            nn.Linear(84, 10)\n",
    "        )\n",
    "        \n",
    "    def forward(self, input):\n",
    "        \"\"\"Define a Forward pass of the LeNet.\"\"\"\n",
    "        out = self.feature_extractor(input) # Pass input through the feature extractor\n",
    "        out = out.view(-1, 16 * 4 * 4) # Reshape the 2D to a vector\n",
    "        out = self.classifier(out) # pass features through the classifier to get predictions\n",
    "        return out\n",
    "\n",
    "\n"
   ]
  },
  {
   "cell_type": "markdown",
   "metadata": {},
   "source": [
    "Next we will inspect our model, and see the parameters in each layer. Note that the activation and maxpooling layers does not have any learnable paramters. Also note the sizes of parameters of each layer.\n",
    "\n",
    "- For convolutional layer wieghts, it is input channels x output_channels x window_width x window_height.\n",
    "- For convolutional layer biases, it is output_channels.\n",
    "- For linear layer weights, it is input_size x output_size\n",
    "- For linear layer biases, it is ouput_size\n",
    "\n",
    "**Exercise**: Change the kernel sizes and channels in the LeNet model definition and see how the number of parameter change here."
   ]
  },
  {
   "cell_type": "code",
   "execution_count": 7,
   "metadata": {
    "ExecuteTime": {
     "end_time": "2018-03-17T11:29:49.186581Z",
     "start_time": "2018-03-17T11:29:48.314846Z"
    }
   },
   "outputs": [
    {
     "name": "stdout",
     "output_type": "stream",
     "text": [
      "feature_extractor.0.weight \n",
      " torch.Size([6, 1, 5, 5]) \n",
      "\n",
      "feature_extractor.0.bias \n",
      " torch.Size([6]) \n",
      "\n",
      "feature_extractor.3.weight \n",
      " torch.Size([16, 6, 5, 5]) \n",
      "\n",
      "feature_extractor.3.bias \n",
      " torch.Size([16]) \n",
      "\n",
      "classifier.0.weight \n",
      " torch.Size([120, 256]) \n",
      "\n",
      "classifier.0.bias \n",
      " torch.Size([120]) \n",
      "\n",
      "classifier.1.weight \n",
      " torch.Size([84, 120]) \n",
      "\n",
      "classifier.1.bias \n",
      " torch.Size([84]) \n",
      "\n",
      "classifier.3.weight \n",
      " torch.Size([10, 84]) \n",
      "\n",
      "classifier.3.bias \n",
      " torch.Size([10]) \n",
      "\n"
     ]
    }
   ],
   "source": [
    "# Create an instance of the model\n",
    "lenet = LeNet()\n",
    "\n",
    "\n",
    "use_gpu = torch.cuda.is_available()\n",
    "if use_gpu:\n",
    "    lenet.cuda()\n",
    "\n",
    "# Print out the size of parameters of each layer\n",
    "for name, param in lenet.state_dict().items():\n",
    "    print(name, '\\n', param.size(), '\\n')"
   ]
  },
  {
   "cell_type": "markdown",
   "metadata": {},
   "source": [
    "## Doing a Forward Pass (an example) and Compute accuracy\n",
    "\n",
    "The code bellow loops over the test data, does forward pass and compute the accuracy on the testing data. The weights and biases of the network are randomly initialized by default. Hence the prediction accuracy currently is very close to a random guess of the labels which is 1/10 = 10%.\n",
    "\n",
    "The step is done as the last step in typical deep learning program. It is given here just for illustrating Forward pass."
   ]
  },
  {
   "cell_type": "code",
   "execution_count": 8,
   "metadata": {
    "ExecuteTime": {
     "end_time": "2018-03-17T11:29:59.446889Z",
     "start_time": "2018-03-17T11:29:49.190889Z"
    }
   },
   "outputs": [
    {
     "name": "stderr",
     "output_type": "stream",
     "text": [
      "/usr/local/lib/python3.5/dist-packages/ipykernel_launcher.py:17: UserWarning: Implicit dimension choice for softmax has been deprecated. Change the call to include dim=X as an argument.\n"
     ]
    },
    {
     "name": "stdout",
     "output_type": "stream",
     "text": [
      "Accuracy of Test Data: 9.04%\n"
     ]
    }
   ],
   "source": [
    "correct = 0.0\n",
    "total = 0.0\n",
    "for mini_batch in train_loader:\n",
    "    images, labels = mini_batch\n",
    "    \n",
    "    # You can try with and without using GPUs, by setting this variable before the loop\n",
    "    if use_gpu:\n",
    "        images = images.cuda()\n",
    "        labels = labels.cuda()\n",
    "        \n",
    "    images = Variable(images)\n",
    "    \n",
    "    # Doing the Forward pass\n",
    "    result = lenet(images)\n",
    "    \n",
    "    # Coverting the predictions to probabilities, by applying the softmax function\n",
    "    result = F.softmax(result)\n",
    " \n",
    "    # Finding the prediction with the largest probability\n",
    "    _,pred = torch.max(result.data,1)\n",
    "    \n",
    "    total += labels.size(0)\n",
    "    # correct is incremented by the numer of prediction which are correct (equal to the ground truth labels)\n",
    "    correct += (pred == labels).sum()\n",
    "    \n",
    "print(\"Accuracy of Test Data: {0:.2f}%\".format(correct/total *100))"
   ]
  },
  {
   "cell_type": "markdown",
   "metadata": {},
   "source": [
    "## Step 3: Loss Function  and Gradient Update Algorithm\n",
    "\n",
    "The **loss function** is a way of measuring the difference between the current prediction of the network and the correct prediction. As we saw in the lecture, the gradient descent algorithm is essentially adjusting the learnable parameters (weights and biases) of the network so as to decrease the loss. Here we will be using the **cross entropy loss**, which is commonly used for classification task (predicting a class from 0 to 9).\n",
    "\n",
    "The **learning rate** is a small fraction which is used to multiply the gradients of the loss function with respect to the weights. The idea behind doing this is that, we do not want to make drastic changes the weights of the neural network in each step, but rather a gradual one. \n",
    "\n",
    "**Exercise:** Try with different values of the learning rate and see how it affects the training. You should observe that if learning rate is very small, the model hardly learns (that is produces less accuracy). \n",
    "\n",
    "Finding the optimal learning rate is often a trail and error method. However some gradient update algorithms can automatically find the right learning rate. \n",
    "\n",
    "Finally we also need to specify the gradient update algorithm. "
   ]
  },
  {
   "cell_type": "code",
   "execution_count": 9,
   "metadata": {
    "ExecuteTime": {
     "end_time": "2018-03-17T11:29:59.457143Z",
     "start_time": "2018-03-17T11:29:59.450581Z"
    }
   },
   "outputs": [],
   "source": [
    "loss_func = nn.CrossEntropyLoss()\n",
    "\n",
    "# Set the learning rate\n",
    "learning_rate = 0.001\n",
    "\n",
    "optimizer = torch.optim.Adam(lenet.parameters(), lr=learning_rate)\n",
    "# optimizer = torch.optim.SGD(lenet.parameters(), lr=learning_rate, momentum=0.0)"
   ]
  },
  {
   "cell_type": "markdown",
   "metadata": {},
   "source": [
    "## Step 4: Training Loop\n",
    "Now that have loaded the data, defined the neural network, specified the loss function and optimizer algorithm, we can do the training. The training is done by loading a part of the training data, called minibatch. The size of the minibatch is specified by the batch_size.  We will load one minibatch at a time and do forward as well as backward pass on the model. We will keep doing thing by looping over the entire dataset.\n",
    "\n",
    "As we progress in the loop, we also plot the loss function to see if it is indeed decreasing. Ploting also helps in observing when the model has stoped learning. We will say that the model has stopped learning when the plotted loss curve becomes horizontal.\n",
    "\n",
    "**Exersise:** Try increasing the epochs and see if it improves the accuracy. You can keep increasing the epochs untill the tail of the loss curve becomes horizontal. Observe that further increase in epochs does not increase accuracy.\n",
    "\n",
    "**Exercise:** Try decreasing the learning rate and increasing the epochs. Try with differet values and achieve >95% accuracy.\n",
    "\n",
    "**Exercise:** Try  increasing the intermediate channels in the LeNet definition and adjust the learning rate, epochs to achieve >98% accuracy.\n",
    "\n",
    "\n",
    "**Exercise:** Set the use_gpu flag to False in the beggining code and observe the slower running time.\n",
    "\n",
    "**Exercise:** Try computing the accuracy on the training data also (similar to how it was computed for testing data, seen previously."
   ]
  },
  {
   "cell_type": "code",
   "execution_count": 10,
   "metadata": {
    "ExecuteTime": {
     "end_time": "2018-03-17T11:31:56.794691Z",
     "start_time": "2018-03-17T11:29:59.461269Z"
    }
   },
   "outputs": [
    {
     "name": "stdout",
     "output_type": "stream",
     "text": [
      "####### Epoch  0\n",
      "####### Epoch  1\n",
      "####### Epoch  2\n",
      "####### Epoch  3\n",
      "####### Epoch  4\n",
      "####### Epoch  5\n",
      "####### Epoch  6\n",
      "####### Epoch  7\n"
     ]
    },
    {
     "data": {
      "image/png": "[encoded data removed]",
      "text/plain": [
       "<Figure size 432x288 with 1 Axes>"
      ]
     },
     "metadata": {},
     "output_type": "display_data"
    }
   ],
   "source": [
    "# The number of times we should iterate over the training data. 1 epoch = 1 pass over the training data\n",
    "epoch = 8\n",
    "\n",
    "# Train Model with train data\n",
    "\n",
    "loss_history = []\n",
    "\n",
    "for i in range(epoch):\n",
    "    print('####### Epoch ', i)\n",
    "    for j,[image,label] in enumerate(train_loader):\n",
    "        # You can try with and without using GPUs, by setting this variable before the loop\n",
    "        if use_gpu:\n",
    "            image = image.cuda()\n",
    "            label = label.cuda()\n",
    "            \n",
    "        image = Variable(image)\n",
    "        label = Variable(label)\n",
    "        \n",
    "        \n",
    "        optimizer.zero_grad() # zero out the gradients from the preivous step \n",
    "        predictions = lenet.forward(image) # Do forward pass on the current mini batch\n",
    "        loss = loss_func(predictions, label) # Compute loss on the current mini batch\n",
    "        loss.backward() # Do backward pass. That is compute all the gradients for the current minibatch\n",
    "        optimizer.step() # Update the parameters using the gradients with the learning rate\n",
    "        \n",
    "        if j % 100 == 0:\n",
    "            loss_history.append(loss.data.cpu().numpy()[0])\n",
    "                    \n",
    "        # display.clear_output(wait=True)\n",
    "plt.plot(loss_history)\n",
    "plt.show()"
   ]
  },
  {
   "cell_type": "markdown",
   "metadata": {},
   "source": [
    "## Step 5: Compute the Accuracy of the Model on the Test data\n",
    "Finally we need to check how well the model is doing on the testing data. This step is also done by loading the data one minibatch at a time and computing the accuracy, which is finally averaged."
   ]
  },
  {
   "cell_type": "code",
   "execution_count": 9,
   "metadata": {
    "ExecuteTime": {
     "end_time": "2018-03-17T11:31:58.356412Z",
     "start_time": "2018-03-17T11:31:56.797881Z"
    }
   },
   "outputs": [
    {
     "name": "stdout",
     "output_type": "stream",
     "text": [
      "Accuracy of Test Data: 97.84%\n"
     ]
    }
   ],
   "source": [
    "correct = 0.0\n",
    "total = 0.0\n",
    "for mini_batch in test_loader:\n",
    "    images, labels = mini_batch\n",
    "    \n",
    "    # You can try with and without using GPUs, by setting this variable before the loop\n",
    "    if use_gpu:\n",
    "        images = images.cuda()\n",
    "        labels = labels.cuda()\n",
    "        \n",
    "    images = Variable(images)\n",
    "    \n",
    "    # Doing the Forward pass\n",
    "    result = lenet(images)\n",
    "    \n",
    "    # Coverting the predictions to probabilities, by applying the softmax function\n",
    "    result = F.softmax(result)\n",
    " \n",
    "    # Finding the prediction with the largest probability\n",
    "    _,pred = torch.max(result.data,1)\n",
    "    \n",
    "    total += labels.size(0)\n",
    "    # correct is incremented by the numer of prediction which are correct (equal to the ground truth labels)\n",
    "    correct += (pred == labels).sum()\n",
    "    \n",
    "print(\"Accuracy of Test Data: {0:.2f}%\".format(correct/total *100))"
   ]
  },
  {
   "cell_type": "code",
   "execution_count": null,
   "metadata": {},
   "outputs": [],
   "source": []
  }
 ],
 "metadata": {
  "kernelspec": {
   "display_name": "Python 3",
   "language": "python",
   "name": "python3"
  },
  "language_info": {
   "codemirror_mode": {
    "name": "ipython",
    "version": 3
   },
   "file_extension": ".py",
   "mimetype": "text/x-python",
   "name": "python",
   "nbconvert_exporter": "python",
   "pygments_lexer": "ipython3",
   "version": "3.5.2"
  },
  "latex_envs": {
   "LaTeX_envs_menu_present": true,
   "autoclose": false,
   "autocomplete": true,
   "bibliofile": "biblio.bib",
   "cite_by": "apalike",
   "current_citInitial": 1,
   "eqLabelWithNumbers": true,
   "eqNumInitial": 1,
   "hotkeys": {
    "equation": "Ctrl-E",
    "itemize": "Ctrl-I"
   },
   "labels_anchors": false,
   "latex_user_defs": false,
   "report_style_numbering": false,
   "user_envs_cfg": false
  },
  "varInspector": {
   "cols": {
    "lenName": 16,
    "lenType": 16,
    "lenVar": 40
   },
   "kernels_config": {
    "python": {
     "delete_cmd_postfix": "",
     "delete_cmd_prefix": "del ",
     "library": "var_list.py",
     "varRefreshCmd": "print(var_dic_list())"
    },
    "r": {
     "delete_cmd_postfix": ") ",
     "delete_cmd_prefix": "rm(",
     "library": "var_list.r",
     "varRefreshCmd": "cat(var_dic_list()) "
    }
   },
   "types_to_exclude": [
    "module",
    "function",
    "builtin_function_or_method",
    "instance",
    "_Feature"
   ],
   "window_display": false
  }
 },
 "nbformat": 4,
 "nbformat_minor": 2
}
