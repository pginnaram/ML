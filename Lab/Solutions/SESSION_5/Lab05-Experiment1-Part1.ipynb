{
 "cells": [
  {
   "cell_type": "markdown",
   "metadata": {},
   "source": [
    "# Foundations of AI & ML\n",
    "## Session 05\n",
    "### Experiment 1 - Part 1\n",
    "### LINEAR REGRESSION - Introduction"
   ]
  },
  {
   "cell_type": "markdown",
   "metadata": {},
   "source": [
    "### Regression\n",
    "**Objective** To understand simple linear regression models. \n",
    "\n",
    "We start by plotting some experimental data and explore the simplest line we can fit. We implement the Gradient Descent method to find the best such line and see how the method successively approximates that line. We also explore what happens when there is some noise/error in the data.\n",
    "\n",
    "**Expected Time:** This Experiment should take around 15 mins"
   ]
  },
  {
   "cell_type": "code",
   "execution_count": null,
   "metadata": {},
   "outputs": [],
   "source": [
    "import pandas as pd\n",
    "import numpy as np\n",
    "import scipy.stats as stat\n",
    "import matplotlib.pyplot as plt"
   ]
  },
  {
   "cell_type": "code",
   "execution_count": null,
   "metadata": {},
   "outputs": [],
   "source": [
    "data = pd.read_csv(\"../Datasets/regr01.txt\", sep=\" \", header=None, names=['x', 'y'])\n",
    "print(data.head())\n",
    "print(data.tail())"
   ]
  },
  {
   "cell_type": "code",
   "execution_count": null,
   "metadata": {},
   "outputs": [],
   "source": [
    "x = data['x'].values\n",
    "y = data['y'].values"
   ]
  },
  {
   "cell_type": "code",
   "execution_count": null,
   "metadata": {},
   "outputs": [],
   "source": [
    "plt.figure(figsize=(12,10))\n",
    "plt.plot(x, y)\n",
    "plt.show()"
   ]
  },
  {
   "cell_type": "markdown",
   "metadata": {},
   "source": [
    "That does not look too much of a straightline; it may be easier to see if we only plot the points rather than poltting the line that is obtained by connecting th e points in the order of their occurrence."
   ]
  },
  {
   "cell_type": "code",
   "execution_count": null,
   "metadata": {},
   "outputs": [],
   "source": [
    "plt.figure(figsize=(12, 10))\n",
    "plt.plot(x, y, '.k')\n",
    "#plt.plot(x, y)\n",
    "plt.show()"
   ]
  },
  {
   "cell_type": "markdown",
   "metadata": {},
   "source": [
    "This still is not too much like a straightline. That is because it is not one actually! From the domain we know that actually $x$ $\\propto$ $y^2$. We will tell you how, soon!\n",
    "\n",
    "So let us instead plot $y^2$ vs $x$:"
   ]
  },
  {
   "cell_type": "code",
   "execution_count": null,
   "metadata": {},
   "outputs": [],
   "source": [
    "#Changing the value of y to ensure the points appear as a straight line on the graph\n",
    "Y = y ** 2"
   ]
  },
  {
   "cell_type": "code",
   "execution_count": null,
   "metadata": {},
   "outputs": [],
   "source": [
    "plt.figure(figsize=(16,10))\n",
    "#plt.plot(x, Y)\n",
    "plt.plot(x, y, '.k')\n",
    "plt.show()"
   ]
  },
  {
   "cell_type": "markdown",
   "metadata": {},
   "source": [
    "Definitely the linearity is more pronounced. We will fit the *best* line and see."
   ]
  },
  {
   "cell_type": "code",
   "execution_count": null,
   "metadata": {},
   "outputs": [],
   "source": [
    "# Linear regression function:\n",
    "m, c, _, _, _ = stat.linregress(x, y)"
   ]
  },
  {
   "cell_type": "markdown",
   "metadata": {},
   "source": [
    "Here, $m$ and $c$ are the slope and intercept of a line. Let us plot this line:"
   ]
  },
  {
   "cell_type": "code",
   "execution_count": null,
   "metadata": {},
   "outputs": [],
   "source": [
    "ylr = m * x + c"
   ]
  },
  {
   "cell_type": "code",
   "execution_count": null,
   "metadata": {},
   "outputs": [],
   "source": [
    "plt.figure(figsize=(16,10))\n",
    "plt.plot(x, y, 'k.')\n",
    "plt.plot(x, ylr)\n",
    "plt.show()"
   ]
  },
  {
   "cell_type": "markdown",
   "metadata": {},
   "source": [
    "We see that this is a good linear fit on the data.\n",
    "\n",
    "We will plot a few other plausible lines to see visually why this is the *'best'* line.\n",
    "\n",
    "### Plotting the line between most extreme points:"
   ]
  },
  {
   "cell_type": "code",
   "execution_count": null,
   "metadata": {},
   "outputs": [],
   "source": [
    "plt.figure(figsize=(16,10))\n",
    "plt.plot(x, y, 'k.')\n",
    "plt.plot(x, ylr,color='blue')\n",
    "plt.plot([x[0], x[-1]], [y[0], y[-1]],color='red')\n",
    "plt.show()"
   ]
  },
  {
   "cell_type": "markdown",
   "metadata": {},
   "source": [
    "### Plotting a line joining any two points:"
   ]
  },
  {
   "cell_type": "code",
   "execution_count": null,
   "metadata": {},
   "outputs": [],
   "source": [
    "plt.figure(figsize=(16,10))\n",
    "plt.plot(x, y, 'k.')\n",
    "plt.plot(x, ylr,color='blue')\n",
    "# plt.plot([x[0], x[-1]], [Y[0], Y[-1]], color='red')\n",
    "plt.plot([x[1], x[80]], [y[1], y[80]], color='black')\n",
    "plt.show()"
   ]
  },
  {
   "cell_type": "markdown",
   "metadata": {},
   "source": [
    "## Seeing the effect of outliers\n",
    "\n",
    "Let us now change the $Y$ value of the first point to see how it changes the best fit line:"
   ]
  },
  {
   "cell_type": "code",
   "execution_count": null,
   "metadata": {},
   "outputs": [],
   "source": [
    "x1 = np.array(x) # make a copy of all x values\n",
    "y1 = np.array(y) # make a copy of all Y values\n",
    "\n",
    "# Plot the data\n",
    "plt.figure(figsize=(16,10))\n",
    "plt.plot(x1, y1, 'k.')\n",
    "\n",
    "# Plot the original best fit\n",
    "plt.plot(x, ylr, color='blue')\n",
    "\n",
    "# MAKE A SMALL CHANGE TO THE Y value of the 0th data point:\n",
    "y1[0] = 2 # we have made a small change\n",
    "\n",
    "# Find the new best fit line with the outlier\n",
    "m1, c1, _, _, _ = stat.linregress(x1, y1)\n",
    "y1lr = m1 * x1 + c1 \n",
    "\n",
    "# Plot the new line, and the point before change (BLUE) and after change (GREEN)\n",
    "plt.plot(x1, y1lr, color='green')\n",
    "plt.plot(x[0], y[0], 'bo', markersize=10)\n",
    "plt.plot(x1[0], y1[0], 'go', markersize=10)\n",
    "plt.show()"
   ]
  },
  {
   "cell_type": "markdown",
   "metadata": {},
   "source": [
    "We see that the outlier has skewed the best fit line towards itself!\n",
    "\n",
    "Change the value of y[0], keeping it between -4.0 to 4.0, and see the effect of errors on the fitted line:"
   ]
  },
  {
   "cell_type": "code",
   "execution_count": null,
   "metadata": {},
   "outputs": [],
   "source": [
    "x1 = np.array(x) # make a copy of all x values\n",
    "y1 = np.array(y) # make a copy of all Y values\n",
    "\n",
    "# Plot the data\n",
    "plt.figure(figsize=(16,10))\n",
    "plt.plot(x1, y1, 'k.')\n",
    "\n",
    "# Plot the original best fit\n",
    "plt.plot(x, ylr, color='blue')\n",
    "\n",
    "# MAKE A SMALL CHANGE TO THE Y value of the 0th data point:\n",
    "y1[0] = -2 # we have made a small change\n",
    "\n",
    "# Find the new best fit line with the outlier\n",
    "m1, c1, _, _, _ = stat.linregress(x1, y1)\n",
    "y1lr = m1 * x1 + c1 \n",
    "\n",
    "# Plot the new line, and the point before change (BLUE) and after change (GREEN)\n",
    "plt.plot(x1, y1lr, color='green')\n",
    "plt.plot(x[0], y[0], 'bo', markersize=10)\n",
    "plt.plot(x1[0], y1[0], 'go', markersize=10)\n",
    "plt.show()"
   ]
  },
  {
   "cell_type": "markdown",
   "metadata": {},
   "source": [
    "### Let us make two large changes"
   ]
  },
  {
   "cell_type": "code",
   "execution_count": null,
   "metadata": {},
   "outputs": [],
   "source": [
    "x2 = np.array(x) # make a copy of all x values\n",
    "y2 = np.array(y) # make a copy of all Y values\n",
    "\n",
    "# Plot the data\n",
    "plt.figure(figsize=(16,10))\n",
    "plt.plot(x2, y2, 'k.')\n",
    "\n",
    "# Plot the original best fit\n",
    "plt.plot(x, ylr, color='blue')\n",
    "\n",
    "# MAKE TWO SMALL CHANGES TO THE Y values:\n",
    "index1 = 10\n",
    "index2 = 70\n",
    "y2[index1] = 4\n",
    "y2[index2] = -4\n",
    "\n",
    "# Find the new best fit line with the outlier\n",
    "m2, c2, _, _, _ = stat.linregress(x2, y2)\n",
    "y2lr = m2 * x2 + c2 \n",
    "\n",
    "# Plot the new line, and the point before change (BLUE) and after change (GREEN)\n",
    "plt.plot(x2, y2lr, color='red')\n",
    "plt.plot(x[index1], y[index1], 'bo', markersize=10)\n",
    "plt.plot(x[index2], y[index2], 'bo', markersize=10)\n",
    "plt.plot(x2[index1], y2[index1], 'ro', markersize=10)\n",
    "plt.plot(x2[index2], y2[index2], 'ro', markersize=10)\n",
    "plt.show()"
   ]
  },
  {
   "cell_type": "markdown",
   "metadata": {},
   "source": [
    "Experiment with the indices and values and see the changes to the best fit line."
   ]
  },
  {
   "cell_type": "markdown",
   "metadata": {},
   "source": [
    "**Exercise 1** Store only every 10th value and find the best fitting curve for this"
   ]
  },
  {
   "cell_type": "code",
   "execution_count": null,
   "metadata": {},
   "outputs": [],
   "source": [
    "small_x = x[::10]\n",
    "small_y = y[::10]\n",
    "sm, sc, _, _, _ = stat.linregress(small_x, small_y)\n",
    "sylr = sm * small_x + sc\n",
    "\n",
    "# Plot the data\n",
    "plt.figure(figsize=(16,10))\n",
    "plt.plot(small_x, small_y, 'k.')\n",
    "\n",
    "# Plot the original best fit\n",
    "plt.plot(small_x, sylr, color='blue')"
   ]
  },
  {
   "cell_type": "markdown",
   "metadata": {},
   "source": [
    "**Exercise 2** Replace a data point in the middle, say item 5, with different values and plot the changed lines. Is the effect of noise same as before? Why?"
   ]
  },
  {
   "cell_type": "code",
   "execution_count": null,
   "metadata": {},
   "outputs": [],
   "source": [
    "small_x1 = small_x[:]\n",
    "small_y1 = small_y[:]\n",
    "small_y1[4] = small_y1[4] + small_y1[6]\n",
    "\n",
    "sm, sc, _, _, _ = stat.linregress(small_x1, small_y1)\n",
    "sylr = sm * small_x1 + sc\n",
    "\n",
    "# Plot the data\n",
    "plt.figure(figsize=(16,10))\n",
    "plt.plot(small_x1, small_y1, 'k.')\n",
    "\n",
    "# Plot the original best fit\n",
    "plt.plot(small_x1, sylr, color='blue')"
   ]
  }
 ],
 "metadata": {
  "kernelspec": {
   "display_name": "Python 2",
   "language": "python",
   "name": "python2"
  },
  "language_info": {
   "codemirror_mode": {
    "name": "ipython",
    "version": 3
   },
   "file_extension": ".py",
   "mimetype": "text/x-python",
   "name": "python",
   "nbconvert_exporter": "python",
   "pygments_lexer": "ipython3",
   "version": "3.5.2"
  }
 },
 "nbformat": 4,
 "nbformat_minor": 2
}
