{
 "cells": [
  {
   "cell_type": "markdown",
   "metadata": {},
   "source": [
    "# Foundations of AI & ML\n",
    "## Session 05\n",
    "### CaseStudy\n",
    "### Lab\n",
    "\n",
    "**Objectives:** Create a linear regression based product rating solution.\n"
   ]
  },
  {
   "cell_type": "code",
   "execution_count": 3,
   "metadata": {},
   "outputs": [
    {
     "name": "stdout",
     "output_type": "stream",
     "text": [
      "       Unnamed: 0    ratings\n",
      "count   99.000000  99.000000\n",
      "mean    49.000000   4.383838\n",
      "std     28.722813   0.791628\n",
      "min      0.000000   2.000000\n",
      "25%     24.500000   4.000000\n",
      "50%     49.000000   5.000000\n",
      "75%     73.500000   5.000000\n",
      "max     98.000000   5.000000\n",
      "       Unnamed: 0    ratings\n",
      "count   99.000000  99.000000\n",
      "mean    49.000000   4.383838\n",
      "std     28.722813   0.791628\n",
      "min      0.000000   2.000000\n",
      "25%     24.500000   4.000000\n",
      "50%     49.000000   5.000000\n",
      "75%     73.500000   5.000000\n",
      "max     98.000000   5.000000\n"
     ]
    }
   ],
   "source": [
    "import pandas as pd\n",
    "data = pd.read_csv(\"Datasets/amazon.csv\")\n",
    "print(data.describe())\n",
    "data = data.dropna()\n",
    "print(data.describe())"
   ]
  },
  {
   "cell_type": "code",
   "execution_count": 4,
   "metadata": {},
   "outputs": [
    {
     "data": {
      "text/html": [
       "<div>\n",
       "<style scoped>\n",
       "    .dataframe tbody tr th:only-of-type {\n",
       "        vertical-align: middle;\n",
       "    }\n",
       "\n",
       "    .dataframe tbody tr th {\n",
       "        vertical-align: top;\n",
       "    }\n",
       "\n",
       "    .dataframe thead th {\n",
       "        text-align: right;\n",
       "    }\n",
       "</style>\n",
       "<table border=\"1\" class=\"dataframe\">\n",
       "  <thead>\n",
       "    <tr style=\"text-align: right;\">\n",
       "      <th></th>\n",
       "      <th>Unnamed: 0</th>\n",
       "      <th>reviews</th>\n",
       "      <th>ratings</th>\n",
       "    </tr>\n",
       "  </thead>\n",
       "  <tbody>\n",
       "    <tr>\n",
       "      <th>0</th>\n",
       "      <td>0</td>\n",
       "      <td>I like the item pricing. My granddaughter want...</td>\n",
       "      <td>5</td>\n",
       "    </tr>\n",
       "    <tr>\n",
       "      <th>1</th>\n",
       "      <td>1</td>\n",
       "      <td>Love the magnet easel... great for moving to d...</td>\n",
       "      <td>4</td>\n",
       "    </tr>\n",
       "    <tr>\n",
       "      <th>2</th>\n",
       "      <td>2</td>\n",
       "      <td>Both sides are magnetic.  A real plus when you...</td>\n",
       "      <td>5</td>\n",
       "    </tr>\n",
       "    <tr>\n",
       "      <th>3</th>\n",
       "      <td>3</td>\n",
       "      <td>Bought one a few years ago for my daughter and...</td>\n",
       "      <td>5</td>\n",
       "    </tr>\n",
       "    <tr>\n",
       "      <th>4</th>\n",
       "      <td>4</td>\n",
       "      <td>I have a stainless steel refrigerator therefor...</td>\n",
       "      <td>4</td>\n",
       "    </tr>\n",
       "  </tbody>\n",
       "</table>\n",
       "</div>"
      ],
      "text/plain": [
       "   Unnamed: 0                                            reviews  ratings\n",
       "0           0  I like the item pricing. My granddaughter want...        5\n",
       "1           1  Love the magnet easel... great for moving to d...        4\n",
       "2           2  Both sides are magnetic.  A real plus when you...        5\n",
       "3           3  Bought one a few years ago for my daughter and...        5\n",
       "4           4  I have a stainless steel refrigerator therefor...        4"
      ]
     },
     "execution_count": 4,
     "metadata": {},
     "output_type": "execute_result"
    }
   ],
   "source": [
    "data.head()"
   ]
  },
  {
   "cell_type": "code",
   "execution_count": 5,
   "metadata": {},
   "outputs": [
    {
     "data": {
      "text/html": [
       "<div>\n",
       "<style scoped>\n",
       "    .dataframe tbody tr th:only-of-type {\n",
       "        vertical-align: middle;\n",
       "    }\n",
       "\n",
       "    .dataframe tbody tr th {\n",
       "        vertical-align: top;\n",
       "    }\n",
       "\n",
       "    .dataframe thead th {\n",
       "        text-align: right;\n",
       "    }\n",
       "</style>\n",
       "<table border=\"1\" class=\"dataframe\">\n",
       "  <thead>\n",
       "    <tr style=\"text-align: right;\">\n",
       "      <th></th>\n",
       "      <th>Unnamed: 0</th>\n",
       "      <th>reviews</th>\n",
       "      <th>ratings</th>\n",
       "    </tr>\n",
       "  </thead>\n",
       "  <tbody>\n",
       "    <tr>\n",
       "      <th>94</th>\n",
       "      <td>94</td>\n",
       "      <td>This is a sturdy and easy to put together puzz...</td>\n",
       "      <td>4</td>\n",
       "    </tr>\n",
       "    <tr>\n",
       "      <th>95</th>\n",
       "      <td>95</td>\n",
       "      <td>This puzzle is very attractive for kids, at le...</td>\n",
       "      <td>4</td>\n",
       "    </tr>\n",
       "    <tr>\n",
       "      <th>96</th>\n",
       "      <td>96</td>\n",
       "      <td>My little girl (almost 3) is really into anima...</td>\n",
       "      <td>4</td>\n",
       "    </tr>\n",
       "    <tr>\n",
       "      <th>97</th>\n",
       "      <td>97</td>\n",
       "      <td>Mudpuppy at the Zoo is a brightly colored attr...</td>\n",
       "      <td>4</td>\n",
       "    </tr>\n",
       "    <tr>\n",
       "      <th>98</th>\n",
       "      <td>98</td>\n",
       "      <td>Jumbo puzzles are the way to go for young ones...</td>\n",
       "      <td>5</td>\n",
       "    </tr>\n",
       "  </tbody>\n",
       "</table>\n",
       "</div>"
      ],
      "text/plain": [
       "    Unnamed: 0                                            reviews  ratings\n",
       "94          94  This is a sturdy and easy to put together puzz...        4\n",
       "95          95  This puzzle is very attractive for kids, at le...        4\n",
       "96          96  My little girl (almost 3) is really into anima...        4\n",
       "97          97  Mudpuppy at the Zoo is a brightly colored attr...        4\n",
       "98          98  Jumbo puzzles are the way to go for young ones...        5"
      ]
     },
     "execution_count": 5,
     "metadata": {},
     "output_type": "execute_result"
    }
   ],
   "source": [
    "data.tail()"
   ]
  },
  {
   "cell_type": "code",
   "execution_count": 6,
   "metadata": {},
   "outputs": [],
   "source": [
    "ratings = data['ratings'].values\n",
    "reviews = data['reviews'].values\n",
    "lengths = [len(r) for r in reviews]"
   ]
  },
  {
   "cell_type": "markdown",
   "metadata": {},
   "source": [
    "#### We first preprocess the data by removing all the incorrect rows (that have missing rating or reviews), unwanted columns, removing stopwords and soon."
   ]
  },
  {
   "cell_type": "code",
   "execution_count": 7,
   "metadata": {},
   "outputs": [],
   "source": [
    "import re\n",
    "only_alnum = re.compile(r\"[^a-z0-9]+\")\n",
    "## Replaces one or more occurrence of any characters other than a-z and 0-9 with a space\n",
    "## This automatically replaces multiple spaces by 1 space\n",
    "\n",
    "## The try ... except ensures that if a review is mal-formed then the review is replaced with the word ERROR\n",
    "def cleanUp(s):\n",
    "    return re.sub(only_alnum, \" \", s.lower())"
   ]
  },
  {
   "cell_type": "code",
   "execution_count": 8,
   "metadata": {},
   "outputs": [],
   "source": [
    "## We make a set for testing if a word is not useful\n",
    "## sets are way faster than lists for this purpose\n",
    "fluff = set([w.strip() for w in open(\"Datasets/fluff.txt\")])"
   ]
  },
  {
   "cell_type": "code",
   "execution_count": 9,
   "metadata": {},
   "outputs": [
    {
     "name": "stdout",
     "output_type": "stream",
     "text": [
      "cool\n",
      "amaazzing\n",
      "cool\n"
     ]
    }
   ],
   "source": [
    "## Replace words like coooooool with cool, amaaaaaazing with amaazing and so on\n",
    "def dedup(s):\n",
    "    return re.sub(r'([a-z])\\1+', r'\\1\\1', s)\n",
    "print(dedup(\"cooooool\"))\n",
    "print(dedup(\"amaaaaaazzzzing\"))\n",
    "print(dedup('cool'))"
   ]
  },
  {
   "cell_type": "code",
   "execution_count": 10,
   "metadata": {},
   "outputs": [],
   "source": [
    "def get_useful_words(s):\n",
    "    return [dedup(w) for w in cleanUp(s).split() if len(w) > 2 and w not in fluff]"
   ]
  },
  {
   "cell_type": "code",
   "execution_count": 11,
   "metadata": {
    "scrolled": true
   },
   "outputs": [
    {
     "name": "stdout",
     "output_type": "stream",
     "text": [
      " 100 I like the item pricing. My granddaughter wanted to mark on it but I wanted it just for the letters. \n",
      "==> ['like', 'item', 'pricing', 'granddaughter', 'mark', 'letters']\n",
      " 121 Love the magnet easel... great for moving to different areas... Wish it had some sort of non skid pad on bottom though... \n",
      "==> ['love', 'magnet', 'easel', 'great', 'moving', 'wish', 'sort', 'skid', 'pad', 'bottom']\n",
      " 420 Both sides are magnetic.  A real plus when you're entertaining more than one child.  The four-year old can find the letters for the words, while the two-year old can find the pictures the words spell.  (I bought letters and magnetic pictures to go with this board).  Both grandkids liked it a lot, which means I like it a lot as well.  Have not even introduced markers, as this will be used strictly as a magnetic board. \n",
      "==> ['magnetic', 'real', 'plus', 'entertaining', 'more', 'child', 'letters', 'words', 'pictures', 'words', 'spell', 'bought', 'letters', 'magnetic', 'pictures', 'board', 'grandkids', 'liked', 'lot', 'means', 'like', 'lot', 'introduced', 'markers', 'strictly', 'magnetic', 'board']\n",
      " 149 Bought one a few years ago for my daughter and she loves it, still using it today. For the holidays we bought one for our niece and she loved it too. \n",
      "==> ['bought', 'few', 'ago', 'daughter', 'loves', 'using', 'holidays', 'bought', 'niece', 'loved']\n",
      " 244 I have a stainless steel refrigerator therefore there are not much space for my son to play with his magnet. Brought this for him to put his magnet on. He enjoys sticking his magnet on it. Great to have so he can play with his alphabet magnets. \n",
      "==> ['stainless', 'steel', 'refrigerator', 'space', 'son', 'play', 'magnet', 'brought', 'magnet', 'enjoys', 'sticking', 'magnet', 'great', 'play', 'alphabet', 'magnets']\n"
     ]
    }
   ],
   "source": [
    "clean_reviews = [get_useful_words(review) for review in reviews]\n",
    "for i in range(5):\n",
    "    print(\"%4d\" %(len(reviews[i])), reviews[i], \"\\n==>\", clean_reviews[i])"
   ]
  },
  {
   "cell_type": "code",
   "execution_count": 12,
   "metadata": {},
   "outputs": [
    {
     "name": "stdout",
     "output_type": "stream",
     "text": [
      "(['kids', 'love', 'books', 'carry', 'entertained', 'hours', 'sit', 'move', 'stickers', 'add', 'more', 'stickers', 'happy', 'clam', 'books', 'amazing', 'quality', 'stickers', 'pulled', 'moved', 'stacked', 'damage', 'stickers', 'stickers', 'website', 'best', 'buy', 'like', 'kids', 'love', 'foods', 'stack', 'hamburgers', 'etc', 'stickers', 'best', 'incentive', 'kids', 'love', 'earn', 'trade', 'stickers', 'books', 'great', 'birthday', 'gift', 'party', 'favor', 'holiday'], 5, 665)\n",
      "(['kids', 'love', 'books', 'carry', 'entertained', 'hours', 'sit', 'move', 'stickers', 'add', 'more', 'stickers', 'happy', 'clam', 'books', 'amazing', 'quality', 'stickers', 'pulled', 'moved', 'stacked', 'damage', 'stickers', 'stickers', 'website', 'best', 'buy', 'like', 'kids', 'love', 'foods', 'stack', 'hamburgers', 'etc', 'stickers', 'best', 'incentive', 'kids', 'love', 'earn', 'trade', 'stickers', 'books', 'great', 'birthday', 'gift', 'party', 'favor', 'holiday'], 5, 665)\n",
      "(['love', 'larger', 'size', 'pieces', 'size', 'hand', 'little', 'fingers', 'hands', 'granddaughter', 'excited', 'received', 'immediately', 'read', 'top', 'zoo', 'yes', 'assemble', 'kids', 'age', 'enjoy', 'putting', 'puzzles', 'handle', 'pieces', 'time', 'figure', 'beginning', 'skills', 'chance', 'social', 'interaction', 'elderly', 'nursing', 'homes', 'looking', 'puzzles', 'aging', 'arthritic', 'hands', 'bright', 'cheerful', 'especially', 'assemble', 'grandkids', 'pieces', 'sturdy', 'bit', 'thicker', 'standard', 'puzzle', 'pieces', 'aren', 'kids', 'chew', 'won', 'choke', 'mush', 'bit', 'bright', 'cheerful', 'fun', 'best', 'huge', 'pieces', 'removed', 'star', 'size', 'cuts', 'themselves', 'holes', 'tabs', 'alike', 'don', 'visual', 'clues', 'child', 'looking', 'pattern', 'easily', 'smash', 'insist', 'fit'], 4, 1182)\n",
      "(['nice', 'size', 'pieces', 'sturdy', 'child', 'perceptual', 'fine', 'motor', 'skills', 'puzzles', 'puzzle', 'learn', 'various', 'animal', 'koala', 'ploar', 'bear', 'lion', 'sturdiness', 'product', 'means', 'long', 'lasting', 'box', 'neat', 'rope', 'handle', 'little', 'ones', 'taking', 'special', 'puzzle', 'house', 'house', 'puzzles', 'becoming', 'fogotten', 'activity', 'skill', 'glad', 'big', 'hit', 'recommend', 'children'], 4, 557)\n",
      "(['cute', 'grandson', 'doesn', 'play', 'adores', 'llama', 'books', 'cuddly'], 3, 121)\n",
      "(['yea', 'nice', 'tin', 'box', 'hold', 'cheapy', 'magnet'], 3, 95)\n",
      "(['great', 'learning', 'tool', 'wouldn', 'better', 'closed', 'ring', 'daughter', 'loved', 'figured', 'never', 'found', 'pieces'], 3, 173)\n",
      "(['coloring', 'book', 'provided', 'hours', 'creativity', 'entertainment', 'color', 'book', 'watching', 'hand'], 5, 142)\n",
      "(['bought', 'secret', 'santa', 'gift', 'divided', 'child', 'couple', 'pieces', 'day', 'till', 'christmas', 'loved'], 5, 126)\n",
      "(['kids', 'love', 'books', 'carry', 'entertained', 'hours', 'sit', 'move', 'stickers', 'add', 'more', 'stickers', 'happy', 'clam', 'books', 'amazing', 'quality', 'stickers', 'pulled', 'moved', 'stacked', 'damage', 'stickers', 'stickers', 'website', 'best', 'buy', 'like', 'kids', 'love', 'foods', 'stack', 'hamburgers', 'etc', 'stickers', 'best', 'incentive', 'kids', 'love', 'earn', 'trade', 'stickers', 'books', 'great', 'birthday', 'gift', 'party', 'favor', 'holiday'], 5, 665)\n"
     ]
    }
   ],
   "source": [
    "final_reviews = list(zip(clean_reviews, ratings, lengths))\n",
    "#We look at a Random sample of 10 cleaned data.\n",
    "import random\n",
    "for i in range(10):\n",
    "    r = random.randrange(0, len(final_reviews))\n",
    "    print(final_reviews[r])"
   ]
  },
  {
   "cell_type": "markdown",
   "metadata": {},
   "source": [
    "** Case-Study:** Use the list of substantive words extracted from the Review as well as the length of the original Review. Decide how you would like to Derive a feature set to predict the Rating, which is a float (1.0 to 5.0).\n",
    "\n",
    "Remember to split the Data into training, testing and Validation sets.\n",
    "1. Select 10% of the Data for testing and put it away.\n",
    "2. Select 20% of the Data for Validation and 70% for Training.\n",
    "3. Vary the above ratio between Validation and Testing: 30 - 60, 45 - 45, 60 - 30 and Verify the effect if any on the prediction accuracy.\n",
    "\n",
    "\n",
    "Some Possibilities:\n",
    "\n",
    "1. You can use a single feature namely, the difference between number of Positive & Negative words. \n",
    "\n",
    "2. You can also considering predicting the rating based on the above difference and add the length of the Review as two independent Variables.\n",
    "\n",
    "3. You could consider the Positive Words and Negative Words as two independent Variables rather than treating their difference as single independent Variable, giving you more possibilities.\n"
   ]
  },
  {
   "cell_type": "code",
   "execution_count": 13,
   "metadata": {},
   "outputs": [],
   "source": [
    "# Split training, validation and test data ( 70, 20 ,10)\n",
    "def split_data(final_reviews, train, val, test):\n",
    "    total_len = len(final_reviews)\n",
    "    train_coll = [i for i in final_reviews[:int(train * total_len)]]\n",
    "    val_coll = [i for i in final_reviews[int(train * total_len): int((train+val) * total_len)]]\n",
    "    test_coll = [i for i in final_reviews[int((train+val) * total_len):] ]\n",
    "    \n",
    "    return(train_coll, val_coll, test_coll)\n",
    "\n",
    "(train_coll, val_coll, test_coll) = split_data(final_reviews, 0.7, 0.2, 0.1)"
   ]
  },
  {
   "cell_type": "code",
   "execution_count": 14,
   "metadata": {},
   "outputs": [],
   "source": [
    "positive_words = pd.read_csv(\"Datasets/positive-words.txt\")\n",
    "negative_words = pd.read_csv(\"Datasets/negative-words.txt\")"
   ]
  },
  {
   "cell_type": "markdown",
   "metadata": {},
   "source": [
    "Typically, data of amazon ratings file consists of three columns called set,labels and length part. here we are splitting the three columns and making three different lists as set, labels and len_Set respectively."
   ]
  },
  {
   "cell_type": "code",
   "execution_count": 15,
   "metadata": {},
   "outputs": [],
   "source": [
    "#for training data\n",
    "train_set = [i[0] for i in train_coll]\n",
    "val_set =   [i[0] for i in val_coll]\n",
    "test_set =  [i[0] for i in test_coll]\n",
    "\n",
    "#for validation data\n",
    "train_labels = [i[1] for i in train_coll]\n",
    "val_labels = [i[1] for i in val_coll]\n",
    "test_labels = [i[1] for i in test_coll]\n",
    "\n",
    "#for testing data\n",
    "train_len_set = [i[2] for i in train_coll]\n",
    "val_len_set = [i[2] for i in val_coll]\n",
    "test_len_set = [i[2] for i in test_coll]"
   ]
  },
  {
   "cell_type": "code",
   "execution_count": 16,
   "metadata": {},
   "outputs": [],
   "source": [
    "train_features=[] #features list for training data\n",
    "val_features=[] #features list for validation data\n",
    "test_features=[] #features list for testing data\n",
    "pos_train=[] #postive words count list for training data\n",
    "neg_train=[] #negative words count list for training data\n",
    "pos_val=[] #positve words count list for validation data\n",
    "neg_val=[] #negative words count list for validation data\n",
    "pos_test=[] #positve words count list for testing data\n",
    "neg_test=[] #negative words count list for testing data\n",
    "\n",
    "for i in range(len(train_set)):\n",
    "    pos=0\n",
    "    neg=0\n",
    "    for j in range(len(train_set[i])):\n",
    "        if train_set[i][j] in positive_words.values:\n",
    "            pos+=1\n",
    "        elif train_set[i][j] in negative_words.values:\n",
    "            neg+=1\n",
    "    pos_train.append(pos)\n",
    "    neg_train.append(pos)\n",
    "    train_features.append(abs(pos-neg))\n",
    "for i in range(len(val_set)):\n",
    "    pos=0\n",
    "    neg=0\n",
    "    for j in range(len(val_set[i])):\n",
    "        if val_set[i][j] in positive_words.values:\n",
    "            pos+=1\n",
    "        elif val_set[i][j] in negative_words.values:\n",
    "            neg+=1\n",
    "    pos_val.append(pos)\n",
    "    neg_val.append(neg)\n",
    "    val_features.append(abs(pos-neg))\n",
    "for i in range(len(test_set)):\n",
    "    pos=0\n",
    "    neg=0\n",
    "    for j in range(len(test_set[i])):\n",
    "        if test_set[i][j] in positive_words.values:\n",
    "            pos+=1\n",
    "        elif test_set[i][j] in negative_words.values:\n",
    "            neg+=1\n",
    "    pos_test.append(pos)\n",
    "    neg_val.append(neg)\n",
    "    test_features.append(abs(pos-neg))"
   ]
  },
  {
   "cell_type": "code",
   "execution_count": 17,
   "metadata": {},
   "outputs": [],
   "source": [
    "import scipy.stats as ss"
   ]
  },
  {
   "cell_type": "code",
   "execution_count": 18,
   "metadata": {},
   "outputs": [],
   "source": [
    "m, c, _, _, _ = ss.linregress(train_features, train_labels)"
   ]
  },
  {
   "cell_type": "code",
   "execution_count": 19,
   "metadata": {},
   "outputs": [
    {
     "name": "stdout",
     "output_type": "stream",
     "text": [
      "0.0675844806007509\n",
      "4.191489361702128\n",
      "m = 0.0675845 c = 4.19149 \n"
     ]
    }
   ],
   "source": [
    "print(m)\n",
    "print(c)\n",
    "print(\"m = {0:.6} c = {1:.6} \".format(m, c))"
   ]
  },
  {
   "cell_type": "code",
   "execution_count": 20,
   "metadata": {},
   "outputs": [
    {
     "name": "stdout",
     "output_type": "stream",
     "text": [
      "69 69 10\n"
     ]
    }
   ],
   "source": [
    "print(len(train_features), len(train_labels), len(test_len_set))\n",
    "yt = [ m * i + c  for i in test_features]"
   ]
  },
  {
   "cell_type": "code",
   "execution_count": 21,
   "metadata": {},
   "outputs": [],
   "source": [
    "import matplotlib.pyplot as plt"
   ]
  },
  {
   "cell_type": "code",
   "execution_count": 24,
   "metadata": {},
   "outputs": [
    {
     "name": "stdout",
     "output_type": "stream",
     "text": [
      "m = 0.0675845 c = 4.19149 \n"
     ]
    },
    {
     "name": "stderr",
     "output_type": "stream",
     "text": [
      "c:\\users\\karthik\\appdata\\local\\programs\\python\\python36-32\\lib\\site-packages\\matplotlib\\figure.py:418: UserWarning: matplotlib is currently using a non-GUI backend, so cannot show the figure\n",
      "  \"matplotlib is currently using a non-GUI backend, \"\n"
     ]
    },
    {
     "data": {
      "image/png": "[encoded data removed]",
      "text/plain": [
       "<matplotlib.figure.Figure at 0xcf4a1f0>"
      ]
     },
     "metadata": {},
     "output_type": "display_data"
    }
   ],
   "source": [
    "fig = plt.figure(figsize=(5, 5))\n",
    "ax = fig.add_subplot(111)\n",
    "plt.ion()\n",
    "fig.show()\n",
    "fig.canvas.draw()\n",
    "\n",
    "print(\"m = {0:.6} c = {1:.6} \".format(m, c))\n",
    "yt = [ m * i + c  for i in test_features]\n",
    "\n",
    "ax.clear()\n",
    "ax.plot(test_features, test_labels, '.k')\n",
    "ax.plot(test_features, yt)\n",
    "fig.canvas.draw()"
   ]
  },
  {
   "cell_type": "code",
   "execution_count": 25,
   "metadata": {},
   "outputs": [],
   "source": [
    "# positive -neagtive count + total number of words\n",
    "train_features_2 = [] #features list for training data\n",
    "val_features_2 =[] #features list for validation data\n",
    "test_features_2 =[] #features list for testing data\n",
    "for i in range(len(train_set)):\n",
    "    train_features_2.append((train_features[i], train_len_set[i]))\n",
    "for i in range(len(val_set)):\n",
    "    val_features_2.append((val_features[i], val_len_set[i]))\n",
    "for i in range(len(test_set)):\n",
    "    test_features_2.append((test_features[i], test_len_set[i]))"
   ]
  },
  {
   "cell_type": "code",
   "execution_count": 26,
   "metadata": {},
   "outputs": [],
   "source": [
    "from sklearn.linear_model import LinearRegression"
   ]
  },
  {
   "cell_type": "code",
   "execution_count": 27,
   "metadata": {},
   "outputs": [],
   "source": [
    "from sklearn.linear_model import LinearRegression\n",
    "lm = LinearRegression()\n",
    "lm.fit(train_features_2, train_labels)\n",
    "\n",
    "pred_train = lm.predict(train_features_2)\n",
    "pred_test = lm.predict(test_features_2)"
   ]
  },
  {
   "cell_type": "code",
   "execution_count": 28,
   "metadata": {},
   "outputs": [],
   "source": [
    "import numpy as np"
   ]
  },
  {
   "cell_type": "code",
   "execution_count": 29,
   "metadata": {},
   "outputs": [
    {
     "name": "stdout",
     "output_type": "stream",
     "text": [
      "Fit a model train_features_2, and calculate MSE with train_labels: 0.7199760241878481\n",
      "Fit a model train_features_2, and calculate MSE with test_features_1, test_labels: 0.4987791806588683\n"
     ]
    }
   ],
   "source": [
    "print ('Fit a model train_features_2, and calculate MSE with train_labels:',  np.mean((train_labels - pred_train) ** 2))\n",
    "print ('Fit a model train_features_2, and calculate MSE with test_features_1, test_labels:', np.mean((test_labels - pred_test) ** 2))"
   ]
  },
  {
   "cell_type": "code",
   "execution_count": 30,
   "metadata": {},
   "outputs": [
    {
     "data": {
      "text/plain": [
       "Text(0,0.5,'Residuals')"
      ]
     },
     "execution_count": 30,
     "metadata": {},
     "output_type": "execute_result"
    },
    {
     "data": {
      "image/png": "[encoded data removed]",
      "text/plain": [
       "<matplotlib.figure.Figure at 0xd310970>"
      ]
     },
     "metadata": {},
     "output_type": "display_data"
    }
   ],
   "source": [
    "plt.scatter(pred_train, pred_train-train_labels, c='b',s=40,alpha=0.5)\n",
    "plt.scatter(pred_test, pred_test-test_labels, c='g',s=40)\n",
    "plt.hlines(y=0, xmin=0, xmax=50)\n",
    "plt.title('Residual plot with training in blue and test in green')\n",
    "plt.ylabel('Residuals')"
   ]
  },
  {
   "cell_type": "code",
   "execution_count": 31,
   "metadata": {},
   "outputs": [],
   "source": [
    "## Positive, negative words and total words\n",
    "train_features_3=[] #features list for training data\n",
    "val_features_3 = [] #features list for validation data\n",
    "test_features_3 = [] #features list for testing data\n",
    "for i in range(len(train_set)):\n",
    "    train_features_3.append((pos_train[i], neg_train[i], train_len_set[i]))\n",
    "for i in range(len(val_set)):\n",
    "    val_features_3.append((pos_val[i], neg_val[i], val_len_set[i]))\n",
    "for i in range(len(test_set)):\n",
    "    test_features_3.append((pos_val[i], neg_val[i], test_len_set[i]))\n",
    "\n",
    "\n"
   ]
  },
  {
   "cell_type": "code",
   "execution_count": 32,
   "metadata": {},
   "outputs": [],
   "source": [
    "lm1 = LinearRegression()\n",
    "lm1.fit(train_features_3, train_labels)\n",
    "\n",
    "pred_train_1 = lm1.predict(train_features_3)\n",
    "pred_test_1 = lm1.predict(test_features_3)"
   ]
  },
  {
   "cell_type": "code",
   "execution_count": 33,
   "metadata": {},
   "outputs": [
    {
     "name": "stdout",
     "output_type": "stream",
     "text": [
      "Fit a model train_features_3, and calculate MSE with train_labels: 0.7124447966701049\n",
      "Fit a model train_features_3, and calculate MSE with test_features_3, test_labels: 0.5078666930847465\n"
     ]
    }
   ],
   "source": [
    "print ('Fit a model train_features_3, and calculate MSE with train_labels:',  np.mean((train_labels - pred_train_1) ** 2))\n",
    "print ('Fit a model train_features_3, and calculate MSE with test_features_3, test_labels:', np.mean((test_labels - pred_test_1) ** 2))"
   ]
  },
  {
   "cell_type": "code",
   "execution_count": 34,
   "metadata": {},
   "outputs": [
    {
     "data": {
      "text/plain": [
       "Text(0,0.5,'Residuals')"
      ]
     },
     "execution_count": 34,
     "metadata": {},
     "output_type": "execute_result"
    },
    {
     "data": {
      "image/png": "[encoded data removed]",
      "text/plain": [
       "<matplotlib.figure.Figure at 0xd0003b0>"
      ]
     },
     "metadata": {},
     "output_type": "display_data"
    }
   ],
   "source": [
    "plt.scatter(pred_train_1, pred_train_1-train_labels, c='b',s=40,alpha=0.5)\n",
    "plt.scatter(pred_test_1, pred_test_1-test_labels, c='g',s=40)\n",
    "plt.hlines(y=0, xmin=0, xmax=50)\n",
    "plt.title('Residual plot with training in blue and test in green')\n",
    "plt.ylabel('Residuals')"
   ]
  },
  {
   "cell_type": "code",
   "execution_count": null,
   "metadata": {},
   "outputs": [],
   "source": []
  },
  {
   "cell_type": "code",
   "execution_count": null,
   "metadata": {},
   "outputs": [],
   "source": []
  },
  {
   "cell_type": "code",
   "execution_count": null,
   "metadata": {},
   "outputs": [],
   "source": []
  }
 ],
 "metadata": {
  "kernelspec": {
   "display_name": "Python 3",
   "language": "python",
   "name": "python3"
  },
  "language_info": {
   "codemirror_mode": {
    "name": "ipython",
    "version": 3
   },
   "file_extension": ".py",
   "mimetype": "text/x-python",
   "name": "python",
   "nbconvert_exporter": "python",
   "pygments_lexer": "ipython3",
   "version": "3.6.4"
  }
 },
 "nbformat": 4,
 "nbformat_minor": 2
}
