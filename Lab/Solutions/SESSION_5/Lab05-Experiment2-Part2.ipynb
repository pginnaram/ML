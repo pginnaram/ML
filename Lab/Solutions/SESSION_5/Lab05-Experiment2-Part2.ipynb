{
 "cells": [
  {
   "cell_type": "markdown",
   "metadata": {},
   "source": [
    "# Foundations of AI & ML\n",
    "## Session 05\n",
    "### Experiment 2 - Part 2\n",
    "### Lab\n",
    "\n",
    "**Objectives:**  We explore a non-convex error function and understand the phenomenon of local minima and getting stuck in one. \n",
    "\n",
    "\n",
    "**Expected Time:** This Experiment should take around 20 mins"
   ]
  },
  {
   "cell_type": "code",
   "execution_count": 1,
   "metadata": {},
   "outputs": [],
   "source": [
    "import matplotlib\n",
    "matplotlib.use('nbagg')\n",
    "import numpy as np\n",
    "import matplotlib.pyplot as plt"
   ]
  },
  {
   "cell_type": "code",
   "execution_count": null,
   "metadata": {},
   "outputs": [],
   "source": [
    "def error(m):\n",
    "    return ((m - 1) * (m - 2) * (m + 1) * ( m + 2) + 3 * m )"
   ]
  },
  {
   "cell_type": "code",
   "execution_count": null,
   "metadata": {},
   "outputs": [],
   "source": [
    "ms = np.linspace(-4, 4, 2000)"
   ]
  },
  {
   "cell_type": "code",
   "execution_count": null,
   "metadata": {},
   "outputs": [],
   "source": [
    "#plt.figure(figsize=(16,10))\n",
    "plt.grid(True)\n",
    "plt.plot(ms,error(ms), \"b.\")\n",
    "plt.show()"
   ]
  },
  {
   "cell_type": "code",
   "execution_count": null,
   "metadata": {},
   "outputs": [],
   "source": [
    "def error(m):\n",
    "    return ((m - 1) * (m - 2) * (m + 1) * ( m + 2) + 3 * m )\n",
    "def gradient(m): return (4 * (m ** 3)) - (10 * m) + 3\n",
    "def delta(m, eta): return eta * gradient(m)\n",
    "\n",
    "#Set the initial parameter\n",
    "m = 2\n",
    "# Set the learning rate\n",
    "eta = 0.1\n",
    "\n",
    "nb_of_iterations = 20 # number of gradient descent updates\n",
    "w_err = [np.array([m, error(m)])] # List to store the m, error values\n",
    "for i in range(nb_of_iterations):\n",
    "    dm = delta(m, eta)  # Get the delta m update\n",
    "    m = m - dm  # Update the current m value\n",
    "    w_err.append(np.array([m, error(m)]))  # Add m,error to list\n",
    "\n",
    "w_err=np.array(w_err)\n",
    "#print(w_err[:,0])\n",
    "#plt.plot(w_err[:,0],w_err[:,1])\n",
    "#plt.show()"
   ]
  },
  {
   "cell_type": "code",
   "execution_count": null,
   "metadata": {},
   "outputs": [],
   "source": [
    "#plt.figure(figsize=(16,10))\n",
    "plt.grid(True)\n",
    "plt.plot(ms,error(ms), \"b\")\n",
    "plt.plot(w_err[:,0],w_err[:,1],\"ro\")\n",
    "n = range(1,len(w_err[:,0]))\n",
    "for i, txt in enumerate(n):\n",
    "    plt.annotate(txt, (w_err[:,0][i],w_err[:,1][i]))\n",
    "plt.show()"
   ]
  },
  {
   "cell_type": "code",
   "execution_count": null,
   "metadata": {},
   "outputs": [],
   "source": [
    "#Set the initial parameter\n",
    "m = -3\n",
    "# Set the learning rate\n",
    "eta = .02\n",
    "\n",
    "nb_of_iterations = 20 # number of gradient descent updates\n",
    "w_err = [np.array([m, error(m)])] # List to store the m, error values\n",
    "for i in range(nb_of_iterations):\n",
    "    dm = delta(m, eta)  # Get the delta m update\n",
    "    m = m - dm  # Update the current m value\n",
    "    w_err.append(np.array([m, error(m)]))  # Add m,error to list\n",
    "\n",
    "w_err=np.array(w_err)\n",
    "#print(w_err[:,0])\n",
    "#plt.plot(w_err[:,0],w_err[:,1])\n",
    "#plt.show()\n",
    "#plt.figure(figsize=(16,10))\n",
    "plt.grid(True)\n",
    "plt.plot(ms,error(ms), \"b\")\n",
    "plt.plot(w_err[:,0],w_err[:,1],\"ro\")\n",
    "n = range(1,len(w_err[:,0]))\n",
    "for i, txt in enumerate(n):\n",
    "    plt.annotate(txt, (w_err[:,0][i],w_err[:,1][i]))\n",
    "plt.show()"
   ]
  },
  {
   "cell_type": "code",
   "execution_count": null,
   "metadata": {},
   "outputs": [],
   "source": []
  },
  {
   "cell_type": "code",
   "execution_count": null,
   "metadata": {},
   "outputs": [],
   "source": []
  }
 ],
 "metadata": {
  "kernelspec": {
   "display_name": "Python 3",
   "language": "python",
   "name": "python3"
  },
  "language_info": {
   "codemirror_mode": {
    "name": "ipython",
    "version": 3
   },
   "file_extension": ".py",
   "mimetype": "text/x-python",
   "name": "python",
   "nbconvert_exporter": "python",
   "pygments_lexer": "ipython3",
   "version": "3.5.2"
  }
 },
 "nbformat": 4,
 "nbformat_minor": 2
}
