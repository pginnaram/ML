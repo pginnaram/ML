{
 "cells": [
  {
   "cell_type": "markdown",
   "metadata": {},
   "source": [
    "# Foundations of AI & ML\n",
    "## Session 08\n",
    "### Casestudy 2\n",
    "###  Comparison of Linear, Logistic regression, Quadratic, MLP and SVM "
   ]
  },
  {
   "cell_type": "markdown",
   "metadata": {},
   "source": [
    "## SVM\n",
    "\n",
    "“Support Vector Machine” (SVM) is a supervised machine learning algorithm which can be used for both classification or regression challenges. In this algorithm, we plot each data item as a point in n-dimensional space (where n is number of features you have) with the value of each feature being the value of a particular coordinate. Then, we perform classification by finding the hyper-plane that differentiate the two classes very well.\n",
    "\n",
    "In this experiment \n",
    "1. We will apply SVM classifier on credit card dataset to classify the data into fraud or genuine. \n",
    "2. We will tune the hyper parameters of the svm classifier(kernels).\n",
    "3. We will calculate the training and testing time."
   ]
  },
  {
   "cell_type": "markdown",
   "metadata": {},
   "source": [
    "#### Importing Required packages"
   ]
  },
  {
   "cell_type": "code",
   "execution_count": 3,
   "metadata": {},
   "outputs": [],
   "source": [
    "from sklearn import datasets\n",
    "import numpy as np\n",
    "import time\n",
    "import pandas as pd\n",
    "from sklearn.metrics import accuracy_score\n",
    "from sklearn.model_selection import train_test_split\n",
    "from sklearn import svm"
   ]
  },
  {
   "cell_type": "markdown",
   "metadata": {},
   "source": [
    "#### Generating the dataset"
   ]
  },
  {
   "cell_type": "code",
   "execution_count": 4,
   "metadata": {},
   "outputs": [],
   "source": [
    "# Loading credit card dataset\n",
    "data = pd.read_csv(\"10kcc.csv\")\n",
    "# Loading the features and storing them in X\n",
    "X = data.iloc[:, 0:30]\n",
    "# Loading the labels and storing them in y\n",
    "y = data[\"Class\"]"
   ]
  },
  {
   "cell_type": "markdown",
   "metadata": {},
   "source": [
    "#### Splitting the data into train,test and validation sets."
   ]
  },
  {
   "cell_type": "code",
   "execution_count": 5,
   "metadata": {},
   "outputs": [],
   "source": [
    "## Train = 60 % , Test = 20 % , validation = 20 %\n",
    "X_train, X_test, X_validation = np.split(X, [int(.6 * len(X)), int(.8 * len(X))])\n",
    "Y_train, Y_test, Y_validation = np.split(y, [int(.6 * len(y)), int(.8 * len(y))])"
   ]
  },
  {
   "cell_type": "markdown",
   "metadata": {},
   "source": [
    "#### Implementing Svm"
   ]
  },
  {
   "cell_type": "markdown",
   "metadata": {},
   "source": [
    "#### Applying Linearsvc"
   ]
  },
  {
   "cell_type": "code",
   "execution_count": 6,
   "metadata": {},
   "outputs": [
    {
     "name": "stdout",
     "output_type": "stream",
     "text": [
      "Training time is  0.489 seconds\n"
     ]
    }
   ],
   "source": [
    "from sklearn.svm import LinearSVC\n",
    "## Creating the svm object\n",
    "clf = LinearSVC(random_state=0)\n",
    "# Intilizing the time object\n",
    "t0 = time.time()\n",
    "t1 = time.time()\n",
    "## Fitting the data into the trained model\n",
    "clf.fit(X_train, Y_train)\n",
    "print(\"Training time is \", round(time.time() - t0, 3),  \"seconds\")"
   ]
  },
  {
   "cell_type": "markdown",
   "metadata": {},
   "source": [
    "#### Predicting the values"
   ]
  },
  {
   "cell_type": "code",
   "execution_count": 7,
   "metadata": {},
   "outputs": [
    {
     "name": "stdout",
     "output_type": "stream",
     "text": [
      "Testing time is  2.031 seconds\n"
     ]
    }
   ],
   "source": [
    "# Testing the data on the trained model\n",
    "y_pred = clf.predict(X_test)\n",
    "print(\"Testing time is \", round(time.time() - t1, 3),  \"seconds\")"
   ]
  },
  {
   "cell_type": "markdown",
   "metadata": {},
   "source": [
    "#### Calculating the accuracy"
   ]
  },
  {
   "cell_type": "code",
   "execution_count": 8,
   "metadata": {},
   "outputs": [
    {
     "data": {
      "text/plain": [
       "0.011"
      ]
     },
     "execution_count": 8,
     "metadata": {},
     "output_type": "execute_result"
    }
   ],
   "source": [
    "accuracy_score(Y_test,y_pred)"
   ]
  },
  {
   "cell_type": "markdown",
   "metadata": {},
   "source": [
    "#### Parameter tuning  \n",
    "\n",
    "Let us try to tune kernel parameter of svm"
   ]
  },
  {
   "cell_type": "markdown",
   "metadata": {},
   "source": [
    "### rbf kernel"
   ]
  },
  {
   "cell_type": "code",
   "execution_count": 9,
   "metadata": {},
   "outputs": [
    {
     "name": "stdout",
     "output_type": "stream",
     "text": [
      "Training time is  1.652 seconds\n"
     ]
    }
   ],
   "source": [
    "# Creating the svm object\n",
    "clf = svm.SVC(kernel='rbf', gamma=0.7)\n",
    "# Creating the time object\n",
    "t0 = time.time()\n",
    "t1 = time.time()\n",
    "# Fitting the data into the model\n",
    "clf.fit(X_train, Y_train)\n",
    "#Calculating the training time\n",
    "print(\"Training time is \", round(time.time() - t0, 3),  \"seconds\")"
   ]
  },
  {
   "cell_type": "markdown",
   "metadata": {},
   "source": [
    "#### predicting the values"
   ]
  },
  {
   "cell_type": "code",
   "execution_count": 10,
   "metadata": {},
   "outputs": [
    {
     "name": "stdout",
     "output_type": "stream",
     "text": [
      "Testing time is  3.67 seconds\n"
     ]
    }
   ],
   "source": [
    "#testing the data on the trained model\n",
    "y_pred = clf.predict(X_test)\n",
    "# Calculating the testing time\n",
    "print(\"Testing time is \", round(time.time() - t1, 3),  \"seconds\")"
   ]
  },
  {
   "cell_type": "markdown",
   "metadata": {},
   "source": [
    "#### Calculating the accuracy"
   ]
  },
  {
   "cell_type": "code",
   "execution_count": 11,
   "metadata": {},
   "outputs": [
    {
     "data": {
      "text/plain": [
       "0.989"
      ]
     },
     "execution_count": 11,
     "metadata": {},
     "output_type": "execute_result"
    }
   ],
   "source": [
    "accuracy_score(Y_test,y_pred)"
   ]
  },
  {
   "cell_type": "markdown",
   "metadata": {},
   "source": [
    "### polynomial kernel"
   ]
  },
  {
   "cell_type": "code",
   "execution_count": 12,
   "metadata": {},
   "outputs": [
    {
     "name": "stdout",
     "output_type": "stream",
     "text": [
      "training time is  1 seconds\n"
     ]
    }
   ],
   "source": [
    "# Creating the svm object\n",
    "clf = svm.SVC(kernel='poly', degree=3)\n",
    "# Creating the time object\n",
    "t0 = time.time()\n",
    "t1 = time.time()\n",
    "# Fitting the data into the model\n",
    "clf.fit(X_train, Y_train)\n",
    "# Calculating the training time\n",
    "print(\"training time is \", round(time.time() - t0), \"seconds\")"
   ]
  },
  {
   "cell_type": "markdown",
   "metadata": {},
   "source": [
    "#### Predicting the values"
   ]
  },
  {
   "cell_type": "code",
   "execution_count": 13,
   "metadata": {},
   "outputs": [
    {
     "name": "stdout",
     "output_type": "stream",
     "text": [
      "testingtime is  2 seconds\n"
     ]
    }
   ],
   "source": [
    "# Testing the data on the trained model\n",
    "y_pred = clf.predict(X_test)\n",
    "# Calculating the testing time\n",
    "print(\"testingtime is \", round(time.time() - t1), \"seconds\")"
   ]
  },
  {
   "cell_type": "markdown",
   "metadata": {},
   "source": [
    "#### Calculating the accuracy"
   ]
  },
  {
   "cell_type": "code",
   "execution_count": 14,
   "metadata": {},
   "outputs": [
    {
     "data": {
      "text/plain": [
       "0.9985"
      ]
     },
     "execution_count": 14,
     "metadata": {},
     "output_type": "execute_result"
    }
   ],
   "source": [
    "accuracy_score(Y_test,y_pred)"
   ]
  },
  {
   "cell_type": "markdown",
   "metadata": {},
   "source": [
    "** Exercise 1:** Apply Linear regression, Logistic regression, MLP, and quadratic on the data "
   ]
  },
  {
   "cell_type": "markdown",
   "metadata": {},
   "source": [
    "## Applying Linear regression"
   ]
  },
  {
   "cell_type": "code",
   "execution_count": 15,
   "metadata": {},
   "outputs": [],
   "source": [
    "import pandas as pd\n",
    "import numpy as np\n",
    "import matplotlib.pyplot as plt\n",
    "import scipy.stats as stat"
   ]
  },
  {
   "cell_type": "code",
   "execution_count": 16,
   "metadata": {},
   "outputs": [],
   "source": [
    "import pandas as pd\n",
    "\n",
    "# Read the CSV file\n",
    "df = pd.read_csv('10kcc.csv')\n",
    "\n",
    "# Show the contents\n",
    "#print(df)"
   ]
  },
  {
   "cell_type": "code",
   "execution_count": 17,
   "metadata": {},
   "outputs": [],
   "source": [
    "data = pd.read_csv('10kcc.csv')\n",
    "# Only use the 'Amount' and 'V1', ..., 'V28' features\n",
    "features = ['Amount'] + ['V%d' % number for number in range(1, 29)]\n",
    "\n",
    "# The target variable which we would like to predict, is the 'Class' variable\n",
    "target = 'Class'\n",
    "\n",
    "# Now create an X variable (containing the features) and an y variable (containing only the target variable)\n",
    "x = data[features].values\n",
    "y = data[target].values\n"
   ]
  },
  {
   "cell_type": "code",
   "execution_count": 18,
   "metadata": {},
   "outputs": [],
   "source": [
    "import sklearn\n",
    "from sklearn.model_selection import train_test_split"
   ]
  },
  {
   "cell_type": "code",
   "execution_count": 19,
   "metadata": {},
   "outputs": [
    {
     "name": "stdout",
     "output_type": "stream",
     "text": [
      "(6699, 29)\n",
      "(3300, 29)\n",
      "(6699,)\n",
      "(3300,)\n"
     ]
    }
   ],
   "source": [
    "X_train, X_test, Y_train, Y_test = sklearn.model_selection.train_test_split(x,y, test_size = 0.33, random_state = 5)\n",
    "print(X_train.shape)\n",
    "print(X_test.shape)\n",
    "print(Y_train.shape)\n",
    "print(Y_test.shape)"
   ]
  },
  {
   "cell_type": "code",
   "execution_count": 20,
   "metadata": {},
   "outputs": [],
   "source": [
    "from sklearn.linear_model import LinearRegression"
   ]
  },
  {
   "cell_type": "code",
   "execution_count": 21,
   "metadata": {},
   "outputs": [
    {
     "data": {
      "text/plain": [
       "LinearRegression(copy_X=True, fit_intercept=True, n_jobs=1, normalize=False)"
      ]
     },
     "execution_count": 21,
     "metadata": {},
     "output_type": "execute_result"
    }
   ],
   "source": [
    "lm = LinearRegression()\n",
    "lm.fit(x,y)"
   ]
  },
  {
   "cell_type": "code",
   "execution_count": 22,
   "metadata": {},
   "outputs": [],
   "source": [
    "Y_pred = lm.predict(X_test)"
   ]
  },
  {
   "cell_type": "code",
   "execution_count": 23,
   "metadata": {},
   "outputs": [
    {
     "data": {
      "text/plain": [
       "<matplotlib.collections.PathCollection at 0x7fc259ff3898>"
      ]
     },
     "execution_count": 23,
     "metadata": {},
     "output_type": "execute_result"
    },
    {
     "data": {
      "image/png": "[encoded data removed]",
      "text/plain": [
       "<Figure size 432x288 with 1 Axes>"
      ]
     },
     "metadata": {},
     "output_type": "display_data"
    }
   ],
   "source": [
    "plt.scatter(Y_test, Y_pred)"
   ]
  },
  {
   "cell_type": "code",
   "execution_count": 24,
   "metadata": {},
   "outputs": [
    {
     "name": "stdout",
     "output_type": "stream",
     "text": [
      "0.0008597059514831268\n"
     ]
    }
   ],
   "source": [
    "mse = sklearn.metrics.mean_squared_error(Y_test, Y_pred)\n",
    "print(mse)"
   ]
  },
  {
   "cell_type": "code",
   "execution_count": 25,
   "metadata": {},
   "outputs": [
    {
     "name": "stdout",
     "output_type": "stream",
     "text": [
      "0.9991402940485169\n"
     ]
    }
   ],
   "source": [
    "accuracy=(1-(mse))\n",
    "print(accuracy)"
   ]
  },
  {
   "cell_type": "markdown",
   "metadata": {},
   "source": [
    "# Applying Logistic Regression "
   ]
  },
  {
   "cell_type": "code",
   "execution_count": 26,
   "metadata": {},
   "outputs": [],
   "source": [
    "from sklearn.model_selection import StratifiedShuffleSplit\n",
    "from sklearn.linear_model import LogisticRegression\n",
    "from sklearn.metrics import classification_report\n",
    "import pandas as pd"
   ]
  },
  {
   "cell_type": "code",
   "execution_count": 27,
   "metadata": {},
   "outputs": [],
   "source": [
    "import pandas as pd\n",
    "\n",
    "# Read the CSV file\n",
    "df = pd.read_csv('10kcc.csv')\n",
    "\n",
    "# Show the contents\n",
    "#print(df)"
   ]
  },
  {
   "cell_type": "code",
   "execution_count": 28,
   "metadata": {},
   "outputs": [],
   "source": [
    "data = pd.read_csv('10kcc.csv')"
   ]
  },
  {
   "cell_type": "code",
   "execution_count": 29,
   "metadata": {},
   "outputs": [],
   "source": [
    "# Only use the 'Amount' and 'V1', ..., 'V28' features\n",
    "features = ['Amount'] + ['V%d' % number for number in range(1, 29)]\n",
    "\n",
    "# The target variable which we would like to predict, is the 'Class' variable\n",
    "target = 'Class'\n",
    "\n",
    "# Now create an X variable (containing the features) and an y variable (containing only the target variable)\n",
    "X = data[features]\n",
    "y = data[target]"
   ]
  },
  {
   "cell_type": "code",
   "execution_count": 30,
   "metadata": {},
   "outputs": [],
   "source": [
    "def normalize(X):\n",
    "    \"\"\"\n",
    "    Make the distribution of the values of each variable similar by subtracting the mean and by dividing by the standard deviation.\n",
    "    \"\"\"\n",
    "    for feature in X.columns:\n",
    "        X[feature] -= X[feature].mean()\n",
    "        X[feature] /= X[feature].std()\n",
    "    return X"
   ]
  },
  {
   "cell_type": "code",
   "execution_count": 32,
   "metadata": {},
   "outputs": [
    {
     "name": "stderr",
     "output_type": "stream",
     "text": [
      "/usr/local/lib/python3.5/dist-packages/ipykernel_launcher.py:6: SettingWithCopyWarning: \n",
      "A value is trying to be set on a copy of a slice from a DataFrame.\n",
      "Try using .loc[row_indexer,col_indexer] = value instead\n",
      "\n",
      "See the caveats in the documentation: http://pandas.pydata.org/pandas-docs/stable/indexing.html#indexing-view-versus-copy\n",
      "  \n",
      "/usr/local/lib/python3.5/dist-packages/ipykernel_launcher.py:7: SettingWithCopyWarning: \n",
      "A value is trying to be set on a copy of a slice from a DataFrame.\n",
      "Try using .loc[row_indexer,col_indexer] = value instead\n",
      "\n",
      "See the caveats in the documentation: http://pandas.pydata.org/pandas-docs/stable/indexing.html#indexing-view-versus-copy\n",
      "  import sys\n"
     ]
    },
    {
     "name": "stdout",
     "output_type": "stream",
     "text": [
      "             precision    recall  f1-score   support\n",
      "\n",
      "          0       1.00      1.00      1.00      4981\n",
      "          1       1.00      0.89      0.94        19\n",
      "\n",
      "avg / total       1.00      1.00      1.00      5000\n",
      "\n"
     ]
    }
   ],
   "source": [
    "# Define the model\n",
    "model = LogisticRegression()\n",
    "\n",
    "# Define the splitter for splitting the data in a train set and a test set\n",
    "splitter = StratifiedShuffleSplit(n_splits=1, test_size=0.5, random_state=0)\n",
    "\n",
    "# Loop through the splits (only one)\n",
    "for train_indices, test_indices in splitter.split(X, y):\n",
    "    # Select the train and test data\n",
    "    X_train, y_train = X.iloc[train_indices], y.iloc[train_indices]\n",
    "    X_test, y_test = X.iloc[test_indices], y.iloc[test_indices]\n",
    "    \n",
    "    # Normalize the data\n",
    "    X_train = normalize(X_train)\n",
    "    X_test = normalize(X_test)\n",
    "    \n",
    "    # Fit and predict!\n",
    "    model.fit(X_train, y_train)\n",
    "    y_pred = model.predict(X_test)\n",
    "    \n",
    "    # And finally: show the results\n",
    "    print(classification_report(y_test, y_pred))"
   ]
  },
  {
   "cell_type": "code",
   "execution_count": 33,
   "metadata": {},
   "outputs": [
    {
     "name": "stdout",
     "output_type": "stream",
     "text": [
      "0.9962\n"
     ]
    }
   ],
   "source": [
    "accuracy=(4981/5000)\n",
    "print(accuracy)"
   ]
  },
  {
   "cell_type": "code",
   "execution_count": null,
   "metadata": {},
   "outputs": [],
   "source": []
  },
  {
   "cell_type": "code",
   "execution_count": null,
   "metadata": {},
   "outputs": [],
   "source": []
  },
  {
   "cell_type": "code",
   "execution_count": null,
   "metadata": {},
   "outputs": [],
   "source": []
  },
  {
   "cell_type": "code",
   "execution_count": null,
   "metadata": {},
   "outputs": [],
   "source": []
  },
  {
   "cell_type": "markdown",
   "metadata": {},
   "source": [
    "# Applying mlp and calculating accuracy"
   ]
  },
  {
   "cell_type": "code",
   "execution_count": 17,
   "metadata": {},
   "outputs": [],
   "source": [
    "# Load required libraries\n",
    "from sklearn import datasets\n",
    "from sklearn.preprocessing import StandardScaler\n",
    "from sklearn.linear_model import Perceptron\n",
    "from sklearn.model_selection import train_test_split\n",
    "from sklearn.metrics import accuracy_score\n",
    "\n",
    "from sklearn.neural_network import MLPClassifier\n",
    "import numpy as np"
   ]
  },
  {
   "cell_type": "code",
   "execution_count": 18,
   "metadata": {},
   "outputs": [],
   "source": [
    "import pandas as pd\n",
    "\n",
    "# Read the CSV file\n",
    "df = pd.read_csv('10kcc.csv')\n",
    "\n",
    "# Show the contents\n",
    "#print(df)"
   ]
  },
  {
   "cell_type": "code",
   "execution_count": 19,
   "metadata": {},
   "outputs": [],
   "source": [
    "data = pd.read_csv('10kcc.csv')\n",
    "# Only use the 'Amount' and 'V1', ..., 'V28' features\n",
    "features = ['Amount'] + ['V%d' % number for number in range(1, 29)]\n",
    "\n",
    "# The target variable which we would like to predict, is the 'Class' variable\n",
    "target = 'Class'\n",
    "\n",
    "# Now create an X variable (containing the features) and an y variable (containing only the target variable)\n",
    "X = data[features]\n",
    "y = data[target]"
   ]
  },
  {
   "cell_type": "code",
   "execution_count": 20,
   "metadata": {},
   "outputs": [],
   "source": [
    "# Split the data into 70% training data and 30% test data\n",
    "X_train, X_test, y_train, y_test = train_test_split(X, y, test_size=0.3)"
   ]
  },
  {
   "cell_type": "code",
   "execution_count": 21,
   "metadata": {},
   "outputs": [
    {
     "data": {
      "text/plain": [
       "StandardScaler(copy=True, with_mean=True, with_std=True)"
      ]
     },
     "execution_count": 21,
     "metadata": {},
     "output_type": "execute_result"
    }
   ],
   "source": [
    "# Train the scaler, which standarizes all the features to have mean=0 and unit variance\n",
    "sc = StandardScaler()\n",
    "sc.fit(X_train)"
   ]
  },
  {
   "cell_type": "code",
   "execution_count": 22,
   "metadata": {},
   "outputs": [],
   "source": [
    "# Apply the scaler to the X training data\n",
    "X_train_std = sc.transform(X_train)\n",
    "\n",
    "# Apply the SAME scaler to the X test data\n",
    "X_test_std = sc.transform(X_test)"
   ]
  },
  {
   "cell_type": "code",
   "execution_count": 23,
   "metadata": {},
   "outputs": [
    {
     "data": {
      "text/plain": [
       "MLPClassifier(activation='logistic', alpha=1e-05, batch_size=6, beta_1=0.9,\n",
       "       beta_2=0.999, early_stopping=False, epsilon=1e-08,\n",
       "       hidden_layer_sizes=(7, 3), learning_rate='constant',\n",
       "       learning_rate_init=0.001, max_iter=300, momentum=0.9,\n",
       "       nesterovs_momentum=True, power_t=0.5, random_state=1, shuffle=True,\n",
       "       solver='lbfgs', tol=0.0001, validation_fraction=0.1, verbose=False,\n",
       "       warm_start=False)"
      ]
     },
     "execution_count": 23,
     "metadata": {},
     "output_type": "execute_result"
    }
   ],
   "source": [
    "clf = MLPClassifier(activation='logistic', alpha=1e-05, batch_size=6, beta_1=0.9,\n",
    "       beta_2=0.999, early_stopping=False, epsilon=1e-08,\n",
    "       hidden_layer_sizes=(7, 3), learning_rate='constant',\n",
    "       learning_rate_init=0.001, max_iter=300, momentum=0.9,\n",
    "       nesterovs_momentum=True, power_t=0.5, random_state=1, shuffle=True,\n",
    "       solver='lbfgs', tol=0.0001, validation_fraction=0.1, verbose=False,\n",
    "       warm_start=False)\n",
    "clf.fit(X_train_std, y_train)"
   ]
  },
  {
   "cell_type": "code",
   "execution_count": 24,
   "metadata": {},
   "outputs": [],
   "source": [
    "# Apply the trained perceptron on the X data to make predicts for the y test data\n",
    "y_pred = clf.predict(X_test_std)"
   ]
  },
  {
   "cell_type": "code",
   "execution_count": 25,
   "metadata": {},
   "outputs": [
    {
     "data": {
      "text/plain": [
       "array([0, 0, 0, ..., 0, 0, 0], dtype=int64)"
      ]
     },
     "execution_count": 25,
     "metadata": {},
     "output_type": "execute_result"
    }
   ],
   "source": [
    "y_pred"
   ]
  },
  {
   "cell_type": "code",
   "execution_count": 26,
   "metadata": {},
   "outputs": [
    {
     "name": "stdout",
     "output_type": "stream",
     "text": [
      "Accuracy: 1.00\n"
     ]
    }
   ],
   "source": [
    "# View the accuracy of the model, which is: 1 - (observations predicted wrong / total observations)\n",
    "print('Accuracy: %.2f' % accuracy_score(y_test, y_pred))"
   ]
  },
  {
   "cell_type": "code",
   "execution_count": 27,
   "metadata": {},
   "outputs": [
    {
     "data": {
      "text/plain": [
       "[array([[ 2.49503232e-01, -4.21659424e-01, -2.91187941e-01,\n",
       "         -2.47304546e-01, -3.71349709e-01,  6.07547534e-02,\n",
       "          3.44793955e-02],\n",
       "        [ 9.21838201e-02, -5.27995033e-01,  4.89333504e-01,\n",
       "          1.02610977e-01,  3.00404321e-01, -1.43390284e-01,\n",
       "         -1.20430070e-01],\n",
       "        [-8.99494718e-01, -1.06931454e+00, -1.29741203e+00,\n",
       "          1.23247533e-01, -1.79951693e-02, -9.47430145e-01,\n",
       "         -9.46318303e-01],\n",
       "        [ 1.02187224e+00,  1.93447946e+00,  3.14973445e+00,\n",
       "          3.99457160e-01,  3.41523097e-01,  1.59419379e+00,\n",
       "          1.60611563e+00],\n",
       "        [-1.06131596e+00,  2.12968920e-01, -2.08975106e+00,\n",
       "          4.68136146e-01, -5.63688994e-01, -1.36789323e+00,\n",
       "         -1.14179727e+00],\n",
       "        [ 3.53510961e-02,  1.84991541e-01,  8.56916649e-01,\n",
       "         -8.30121767e-01,  2.35054160e-01,  8.76582449e-02,\n",
       "          4.96161019e-01],\n",
       "        [ 3.73005407e-01,  1.34041095e-01,  7.45189663e-01,\n",
       "          1.28850550e-02,  4.31389112e-01,  8.10985440e-01,\n",
       "          4.49872051e-01],\n",
       "        [ 6.92878934e-01, -1.40494136e+00,  1.92393950e+00,\n",
       "         -6.10565772e-01,  2.34244320e-01,  8.63976528e-01,\n",
       "          4.05294476e-01],\n",
       "        [-1.02078745e-01, -1.24336067e-01, -3.15522379e-01,\n",
       "          3.01265865e-01, -4.62147119e-01, -5.20101859e-01,\n",
       "         -4.18283530e-01],\n",
       "        [ 6.05484606e-01, -3.13756519e-01,  1.00487349e+00,\n",
       "         -2.58338700e-01,  3.14720453e-01,  9.43606378e-01,\n",
       "          5.66099764e-01],\n",
       "        [ 1.65357635e+00, -3.46419106e-01,  2.70218492e+00,\n",
       "         -6.35205700e-01,  6.30085517e-01,  1.76214344e+00,\n",
       "          1.85806558e+00],\n",
       "        [-7.66412889e-01, -9.28957208e-01, -2.28652404e+00,\n",
       "          3.32752214e-01, -2.40961550e-01, -1.32610602e+00,\n",
       "         -1.39283583e+00],\n",
       "        [ 1.46711904e+00, -3.86476101e-01,  3.17330661e+00,\n",
       "         -1.23164933e+00,  1.51360216e+00,  2.35198514e+00,\n",
       "          2.12421479e+00],\n",
       "        [ 2.82387828e-01, -1.69072837e-01,  9.33592372e-02,\n",
       "         -8.61161849e-02, -1.88091570e-01,  8.02782272e-02,\n",
       "         -1.12043279e-01],\n",
       "        [ 1.83266545e+00,  7.14025643e-01,  4.26469082e+00,\n",
       "         -6.52439132e-01,  1.29498467e+00,  3.02002035e+00,\n",
       "          3.00906009e+00],\n",
       "        [-2.68859165e-01,  7.19391660e-02, -8.87050302e-04,\n",
       "         -2.35588781e-01,  3.00885516e-01, -2.48099902e-01,\n",
       "         -3.58861202e-01],\n",
       "        [ 1.09894494e+00, -4.92632014e-01,  2.41822086e+00,\n",
       "         -9.47961122e-01,  8.17880939e-01,  1.06305362e+00,\n",
       "          1.12676521e+00],\n",
       "        [ 1.47864906e+00, -2.81159165e+00,  3.35722339e+00,\n",
       "         -2.40871140e+00,  1.22371920e+00,  1.44645322e+00,\n",
       "          1.41671286e+00],\n",
       "        [ 1.57444133e-01, -7.59199449e-01,  6.91373260e-01,\n",
       "         -1.19073443e+00,  4.74586918e-01, -4.77385460e-02,\n",
       "          1.19065778e-01],\n",
       "        [-2.95175909e-01,  8.95470402e-01, -5.66937694e-01,\n",
       "          3.51238596e-01,  4.08224519e-02,  3.27014556e-01,\n",
       "          7.40035709e-02],\n",
       "        [-3.73539478e-01, -1.50626501e-01, -7.35567967e-01,\n",
       "         -5.82007620e-01, -5.00685399e-01, -4.97353829e-01,\n",
       "         -1.00921208e-01],\n",
       "        [-2.70278052e-01,  4.16211450e-01, -8.00119025e-01,\n",
       "          1.40485947e-01, -2.14982864e-01, -4.62279954e-01,\n",
       "         -5.96675147e-01],\n",
       "        [-3.46689135e-01,  7.51328838e-01, -2.14208434e-01,\n",
       "          1.70575923e-01,  1.29125940e-01,  1.66149434e-01,\n",
       "         -3.75672368e-02],\n",
       "        [-7.35925216e-02,  1.02612835e+00, -2.20056728e-02,\n",
       "         -2.99539334e-01, -5.37375570e-01, -3.34168273e-02,\n",
       "          3.54741922e-01],\n",
       "        [ 2.24303432e-01,  2.39512308e-01,  1.66429402e-01,\n",
       "          2.30531879e-01,  2.38327320e-01,  2.78560117e-01,\n",
       "          3.34951106e-01],\n",
       "        [ 6.03455283e-02,  5.51669114e-01,  6.58996820e-01,\n",
       "          1.88305499e-01, -4.08508435e-01, -2.07847531e-01,\n",
       "          1.49829085e-01],\n",
       "        [ 4.68967400e-02,  3.99135056e-01, -2.44541882e-01,\n",
       "          8.15926556e-01, -7.61661039e-01, -2.86575937e-01,\n",
       "         -2.18748944e-01],\n",
       "        [ 2.95715215e-01, -4.21504142e-01, -4.21264506e-01,\n",
       "          1.93766973e-01,  1.50662637e-01, -1.80148466e-01,\n",
       "         -1.29935416e-01],\n",
       "        [-5.25639233e-01,  6.83120812e-02, -6.50669072e-01,\n",
       "          4.74908837e-01,  1.07042971e-01, -4.54649680e-01,\n",
       "         -1.07422652e-01]]), array([[ 2.90615163,  2.8868985 ,  3.73224057],\n",
       "        [-5.77698385, -5.44300793, -5.85450539],\n",
       "        [ 1.35708851,  1.38913716,  2.44145133],\n",
       "        [-4.30859395, -3.5278815 , -3.38210885],\n",
       "        [ 3.07382008,  3.25636407,  4.450841  ],\n",
       "        [ 3.7881279 ,  2.99486968,  4.90119622],\n",
       "        [ 3.94019105,  3.54850626,  4.93215571]]), array([[ -5.83442877],\n",
       "        [-11.30369101],\n",
       "        [ -9.85491038]])]"
      ]
     },
     "execution_count": 27,
     "metadata": {},
     "output_type": "execute_result"
    }
   ],
   "source": [
    "clf.coefs_"
   ]
  },
  {
   "cell_type": "code",
   "execution_count": 28,
   "metadata": {},
   "outputs": [
    {
     "data": {
      "text/plain": [
       "array([0, 1], dtype=int64)"
      ]
     },
     "execution_count": 28,
     "metadata": {},
     "output_type": "execute_result"
    }
   ],
   "source": [
    "clf.classes_"
   ]
  },
  {
   "cell_type": "code",
   "execution_count": 29,
   "metadata": {},
   "outputs": [
    {
     "name": "stdout",
     "output_type": "stream",
     "text": [
      "[0 0 0 ... 0 0 0]\n",
      "Accuracy: 1.00\n",
      "[0 0 0 ... 0 0 0]\n",
      "Accuracy: 1.00\n",
      "[0 0 0 ... 0 0 0]\n",
      "Accuracy: 1.00\n",
      "[0 0 0 ... 0 0 0]\n",
      "Accuracy: 1.00\n",
      "[0 0 0 ... 0 0 0]\n",
      "Accuracy: 1.00\n",
      "[0 0 0 ... 0 0 0]\n",
      "Accuracy: 1.00\n",
      "[0 0 0 ... 0 0 0]\n",
      "Accuracy: 1.00\n",
      "[0 1 0 ... 0 0 0]\n",
      "Accuracy: 1.00\n",
      "[0 0 0 ... 0 0 0]\n",
      "Accuracy: 1.00\n",
      "[0 0 0 ... 0 0 0]\n",
      "Accuracy: 1.00\n",
      "[0 0 0 ... 0 0 0]\n",
      "Accuracy: 1.00\n",
      "[0 0 0 ... 0 0 0]\n",
      "Accuracy: 1.00\n",
      "[0 0 0 ... 0 0 0]\n",
      "Accuracy: 1.00\n",
      "[0 0 0 ... 0 0 0]\n",
      "Accuracy: 1.00\n",
      "[0 0 0 ... 0 0 0]\n",
      "Accuracy: 1.00\n",
      "[0 0 0 ... 0 0 0]\n",
      "Accuracy: 1.00\n",
      "[0 0 0 ... 0 0 0]\n",
      "Accuracy: 1.00\n",
      "[0 0 0 ... 0 0 0]\n",
      "Accuracy: 1.00\n",
      "[0 0 0 ... 0 0 0]\n",
      "Accuracy: 1.00\n",
      "[0 0 0 ... 0 0 0]\n",
      "Accuracy: 1.00\n"
     ]
    }
   ],
   "source": [
    "for trial in range(20):\n",
    "    X_train, X_test, y_train, y_test = train_test_split(X, y, test_size=0.3)\n",
    "    sc = StandardScaler()\n",
    "    sc.fit(X_train)\n",
    "    X_train_std = sc.transform(X_train)\n",
    "    X_test_std = sc.transform(X_test)\n",
    "    clf = MLPClassifier(activation='logistic', alpha=1e-05, batch_size=6, beta_1=0.9,\n",
    "       beta_2=0.999, early_stopping=False, epsilon=1e-08,\n",
    "       hidden_layer_sizes=(7, ), learning_rate='constant',\n",
    "       learning_rate_init=0.001, max_iter=300, momentum=0.9,\n",
    "       nesterovs_momentum=True, power_t=0.5, random_state=1, shuffle=True,\n",
    "       solver='lbfgs', tol=0.0001, validation_fraction=0.1, verbose=False,\n",
    "       warm_start=False)\n",
    "    clf.fit(X_train_std, y_train)\n",
    "    y_pred = clf.predict(X_test_std)\n",
    "    print(y_pred)\n",
    "    print('Accuracy: %.2f' % accuracy_score(y_test, y_pred))"
   ]
  },
  {
   "cell_type": "code",
   "execution_count": null,
   "metadata": {},
   "outputs": [],
   "source": []
  },
  {
   "cell_type": "markdown",
   "metadata": {},
   "source": [
    "# Applying quadratic\n"
   ]
  },
  {
   "cell_type": "markdown",
   "metadata": {},
   "source": [
    "#### Importing Required packages"
   ]
  },
  {
   "cell_type": "code",
   "execution_count": 30,
   "metadata": {},
   "outputs": [],
   "source": [
    "from sklearn import datasets\n",
    "import numpy as np\n",
    "import time\n",
    "import pandas as pd\n",
    "from sklearn.metrics import accuracy_score\n",
    "from sklearn.model_selection import train_test_split\n",
    "from sklearn import svm"
   ]
  },
  {
   "cell_type": "markdown",
   "metadata": {},
   "source": [
    "#### Generating the dataset"
   ]
  },
  {
   "cell_type": "code",
   "execution_count": 31,
   "metadata": {},
   "outputs": [],
   "source": [
    "# Loading credit card dataset\n",
    "data = pd.read_csv(\"10kcc.csv\")\n",
    "# Loading the features and storing them in X\n",
    "X = data.iloc[:, 0:30]\n",
    "# Loading the labels and storing them in y\n",
    "y = data[\"Class\"]"
   ]
  },
  {
   "cell_type": "markdown",
   "metadata": {},
   "source": [
    "#### Splitting the data into train,test and validation sets."
   ]
  },
  {
   "cell_type": "code",
   "execution_count": 32,
   "metadata": {},
   "outputs": [],
   "source": [
    "## Train = 60 % , Test = 20 % , Train = 20 %\n",
    "X_train, X_test, X_validation = np.split(X, [int(.6 * len(X)), int(.8 * len(X))])\n",
    "Y_train, Y_test, Y_validation = np.split(y, [int(.6 * len(y)), int(.8 * len(y))])"
   ]
  },
  {
   "cell_type": "markdown",
   "metadata": {},
   "source": [
    "### polynomial kernel degree=2 implies quadratic kernel"
   ]
  },
  {
   "cell_type": "code",
   "execution_count": 33,
   "metadata": {},
   "outputs": [
    {
     "name": "stdout",
     "output_type": "stream",
     "text": [
      "training time is  2 seconds\n"
     ]
    }
   ],
   "source": [
    "# Creating the svm object\n",
    "clf = svm.SVC(kernel='poly', degree=2)\n",
    "# Creating the time object\n",
    "t0 = time.time()\n",
    "t1 = time.time()\n",
    "# Fitting the data into the model\n",
    "clf.fit(X_train, Y_train)\n",
    "# Calculating the training time\n",
    "print(\"training time is \", round(time.time() - t0), \"seconds\")"
   ]
  },
  {
   "cell_type": "markdown",
   "metadata": {},
   "source": [
    "#### Predicting the values"
   ]
  },
  {
   "cell_type": "code",
   "execution_count": 34,
   "metadata": {},
   "outputs": [
    {
     "name": "stdout",
     "output_type": "stream",
     "text": [
      "testingtime is  2 seconds\n"
     ]
    }
   ],
   "source": [
    "# Testing the data on the trained model\n",
    "y_pred = clf.predict(X_test)\n",
    "# Calculating the testing time\n",
    "print(\"testingtime is \", round(time.time() - t1), \"seconds\")"
   ]
  },
  {
   "cell_type": "markdown",
   "metadata": {},
   "source": [
    "#### Calculating the accuracy"
   ]
  },
  {
   "cell_type": "code",
   "execution_count": 35,
   "metadata": {},
   "outputs": [
    {
     "data": {
      "text/plain": [
       "0.9985"
      ]
     },
     "execution_count": 35,
     "metadata": {},
     "output_type": "execute_result"
    }
   ],
   "source": [
    "accuracy_score(Y_test,y_pred)"
   ]
  },
  {
   "cell_type": "code",
   "execution_count": null,
   "metadata": {},
   "outputs": [],
   "source": []
  },
  {
   "cell_type": "code",
   "execution_count": null,
   "metadata": {},
   "outputs": [],
   "source": []
  },
  {
   "cell_type": "markdown",
   "metadata": {},
   "source": [
    "** Exercise 2:** Tabularize the accuracy of each classifier "
   ]
  },
  {
   "cell_type": "code",
   "execution_count": 5,
   "metadata": {},
   "outputs": [],
   "source": [
    "from prettytable import PrettyTable\n",
    "t = PrettyTable(['Classifier', 'Accuracy'])"
   ]
  },
  {
   "cell_type": "code",
   "execution_count": 6,
   "metadata": {},
   "outputs": [],
   "source": [
    "t.add_row(['Linear regression', 0.9991402940485169])"
   ]
  },
  {
   "cell_type": "code",
   "execution_count": 7,
   "metadata": {},
   "outputs": [],
   "source": [
    "t.add_row(['Logistic regression', 0.9962])"
   ]
  },
  {
   "cell_type": "code",
   "execution_count": 8,
   "metadata": {},
   "outputs": [],
   "source": [
    "t.add_row(['MLP', 1.00])"
   ]
  },
  {
   "cell_type": "code",
   "execution_count": 9,
   "metadata": {},
   "outputs": [],
   "source": [
    "t.add_row(['Quadratic',0.9985])"
   ]
  },
  {
   "cell_type": "code",
   "execution_count": 11,
   "metadata": {},
   "outputs": [
    {
     "name": "stdout",
     "output_type": "stream",
     "text": [
      "+---------------------+--------------------+\n",
      "|      Classifier     |      Accuracy      |\n",
      "+---------------------+--------------------+\n",
      "|  Linear regression  | 0.9991402940485169 |\n",
      "| Logistic regression |       0.9962       |\n",
      "|         MLP         |        1.0         |\n",
      "|      Quadratic      |       0.9985       |\n",
      "+---------------------+--------------------+\n"
     ]
    }
   ],
   "source": [
    "print (t)"
   ]
  },
  {
   "cell_type": "code",
   "execution_count": null,
   "metadata": {},
   "outputs": [],
   "source": []
  }
 ],
 "metadata": {
  "kernelspec": {
   "display_name": "Python 3",
   "language": "python",
   "name": "python3"
  }
 },
 "nbformat": 4,
 "nbformat_minor": 2
}
