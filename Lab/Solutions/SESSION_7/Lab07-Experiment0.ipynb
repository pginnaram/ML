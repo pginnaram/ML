{
 "cells": [
  {
   "cell_type": "markdown",
   "metadata": {},
   "source": [
    "# Foundations of AI & ML\n",
    "## Session 07\n",
    "### Experiment 0 - Part 1 \n",
    "### Applying Perceptron"
   ]
  },
  {
   "cell_type": "markdown",
   "metadata": {},
   "source": [
    "We use a simplistic linear perceptron as a classifier."
   ]
  },
  {
   "cell_type": "code",
   "execution_count": 1,
   "metadata": {},
   "outputs": [],
   "source": [
    "# Load required libraries\n",
    "from sklearn import datasets\n",
    "from sklearn.preprocessing import StandardScaler\n",
    "from sklearn.linear_model import Perceptron\n",
    "from sklearn.model_selection import train_test_split\n",
    "from sklearn.metrics import accuracy_score\n",
    "import numpy as np"
   ]
  },
  {
   "cell_type": "code",
   "execution_count": 2,
   "metadata": {},
   "outputs": [],
   "source": [
    "# Load the iris dataset\n",
    "iris = datasets.load_iris()\n",
    "\n",
    "# Create our X and y data\n",
    "X = iris.data\n",
    "y = iris.target"
   ]
  },
  {
   "cell_type": "code",
   "execution_count": 3,
   "metadata": {},
   "outputs": [
    {
     "data": {
      "text/plain": [
       "array([0, 0, 0, 0, 0, 1, 1, 1, 1, 1])"
      ]
     },
     "execution_count": 3,
     "metadata": {},
     "output_type": "execute_result"
    }
   ],
   "source": [
    "# View the ten observations in the set transitioning from type 1 (Label 0) to type 2 (Label 1) \n",
    "y[45:55]"
   ]
  },
  {
   "cell_type": "code",
   "execution_count": 4,
   "metadata": {},
   "outputs": [
    {
     "data": {
      "text/plain": [
       "array([[4.8, 3. , 1.4, 0.3],\n",
       "       [5.1, 3.8, 1.6, 0.2],\n",
       "       [4.6, 3.2, 1.4, 0.2],\n",
       "       [5.3, 3.7, 1.5, 0.2],\n",
       "       [5. , 3.3, 1.4, 0.2],\n",
       "       [7. , 3.2, 4.7, 1.4],\n",
       "       [6.4, 3.2, 4.5, 1.5],\n",
       "       [6.9, 3.1, 4.9, 1.5],\n",
       "       [5.5, 2.3, 4. , 1.3],\n",
       "       [6.5, 2.8, 4.6, 1.5]])"
      ]
     },
     "execution_count": 4,
     "metadata": {},
     "output_type": "execute_result"
    }
   ],
   "source": [
    "# View the corresponding x data.\n",
    "# Notice that there are four independent variables (features)\n",
    "X[45:55]"
   ]
  },
  {
   "cell_type": "code",
   "execution_count": 5,
   "metadata": {},
   "outputs": [
    {
     "name": "stdout",
     "output_type": "stream",
     "text": [
      "Accuracy: 0.76\n",
      "Accuracy: 0.96\n",
      "Accuracy: 0.80\n",
      "Accuracy: 0.96\n",
      "Accuracy: 0.71\n",
      "Accuracy: 0.73\n",
      "Accuracy: 0.76\n",
      "Accuracy: 0.71\n",
      "Accuracy: 0.64\n",
      "Accuracy: 0.62\n",
      "Accuracy: 0.71\n",
      "Accuracy: 0.64\n",
      "Accuracy: 0.53\n",
      "Accuracy: 0.64\n",
      "Accuracy: 0.84\n",
      "Accuracy: 0.78\n",
      "Accuracy: 0.82\n",
      "Accuracy: 0.73\n",
      "Accuracy: 0.56\n",
      "Accuracy: 0.89\n"
     ]
    }
   ],
   "source": [
    "for trial in range(20):\n",
    "    #Splitting the data into train and test\n",
    "    X_train, X_test, y_train, y_test = train_test_split(X, y, test_size=0.3)\n",
    "    #Standarize the values\n",
    "    sc = StandardScaler()\n",
    "    sc.fit(X_train)\n",
    "    #Applying single layer perceptron\n",
    "    ppn = Perceptron(max_iter=40, eta0=0.1, random_state=0)\n",
    "    # Fitting the trained data   \n",
    "    ppn.fit(X_train, y_train)\n",
    "    ## Predicting the values using test set\n",
    "    y_pred = ppn.predict(X_test)\n",
    "    # Printing the accuracy\n",
    "    print('Accuracy: %.2f' % accuracy_score(y_test, y_pred))"
   ]
  },
  {
   "cell_type": "markdown",
   "metadata": {},
   "source": [
    "Notice that a pure random classifier would be expected to be accurate 33% of the time. The linear regression is better than random, but not always and not always by a significant margin "
   ]
  },
  {
   "cell_type": "code",
   "execution_count": null,
   "metadata": {},
   "outputs": [],
   "source": []
  }
 ],
 "metadata": {
  "kernelspec": {
   "display_name": "Python 3",
   "language": "python",
   "name": "python3"
  },
  "language_info": {
   "codemirror_mode": {
    "name": "ipython",
    "version": 3
   },
   "file_extension": ".py",
   "mimetype": "text/x-python",
   "name": "python",
   "nbconvert_exporter": "python",
   "pygments_lexer": "ipython3",
   "version": "3.6.3"
  }
 },
 "nbformat": 4,
 "nbformat_minor": 2
}
