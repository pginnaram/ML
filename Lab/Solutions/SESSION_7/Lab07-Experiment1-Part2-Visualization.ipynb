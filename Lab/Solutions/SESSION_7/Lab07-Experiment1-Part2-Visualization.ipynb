{
 "cells": [
  {
   "cell_type": "markdown",
   "metadata": {},
   "source": [
    "# Foundations of AI & ML\n",
    "## Session 07\n",
    "### Experiment 1 - Part 1\n",
    "### Applying Multi Layer Perceptron"
   ]
  },
  {
   "cell_type": "code",
   "execution_count": 1,
   "metadata": {},
   "outputs": [],
   "source": [
    "# Load required libraries\n",
    "from sklearn import datasets\n",
    "from sklearn.preprocessing import StandardScaler\n",
    "from sklearn.linear_model import Perceptron\n",
    "from sklearn.model_selection import train_test_split\n",
    "from sklearn.metrics import accuracy_score\n",
    "from sklearn.neural_network import MLPClassifier\n",
    "import numpy as np"
   ]
  },
  {
   "cell_type": "code",
   "execution_count": 2,
   "metadata": {},
   "outputs": [],
   "source": [
    "# Load the iris dataset\n",
    "iris = datasets.load_iris()\n",
    "\n",
    "# Create our X and y data\n",
    "X = iris.data\n",
    "y = iris.target"
   ]
  },
  {
   "cell_type": "code",
   "execution_count": 3,
   "metadata": {},
   "outputs": [
    {
     "data": {
      "text/plain": [
       "array([0, 0, 0, 0, 0, 1, 1, 1, 1, 1])"
      ]
     },
     "execution_count": 3,
     "metadata": {},
     "output_type": "execute_result"
    }
   ],
   "source": [
    "# View ten observations of our y data\n",
    "y[45:55]"
   ]
  },
  {
   "cell_type": "code",
   "execution_count": 4,
   "metadata": {},
   "outputs": [
    {
     "data": {
      "text/plain": [
       "array([[4.8, 3. , 1.4, 0.3],\n",
       "       [5.1, 3.8, 1.6, 0.2],\n",
       "       [4.6, 3.2, 1.4, 0.2],\n",
       "       [5.3, 3.7, 1.5, 0.2],\n",
       "       [5. , 3.3, 1.4, 0.2],\n",
       "       [7. , 3.2, 4.7, 1.4],\n",
       "       [6.4, 3.2, 4.5, 1.5],\n",
       "       [6.9, 3.1, 4.9, 1.5],\n",
       "       [5.5, 2.3, 4. , 1.3],\n",
       "       [6.5, 2.8, 4.6, 1.5]])"
      ]
     },
     "execution_count": 4,
     "metadata": {},
     "output_type": "execute_result"
    }
   ],
   "source": [
    "# View the corresponding x data.\n",
    "X[45:55]"
   ]
  },
  {
   "cell_type": "code",
   "execution_count": 5,
   "metadata": {},
   "outputs": [],
   "source": [
    "# Split the data into 70% training data and 30% test data\n",
    "X_train, X_test, y_train, y_test = train_test_split(X, y, test_size=0.3)"
   ]
  },
  {
   "cell_type": "code",
   "execution_count": 6,
   "metadata": {},
   "outputs": [
    {
     "data": {
      "text/plain": [
       "StandardScaler(copy=True, with_mean=True, with_std=True)"
      ]
     },
     "execution_count": 6,
     "metadata": {},
     "output_type": "execute_result"
    }
   ],
   "source": [
    "# Train the scaler, which standarizes all the features to have mean=0 and unit variance\n",
    "sc = StandardScaler()\n",
    "sc.fit(X_train)"
   ]
  },
  {
   "cell_type": "code",
   "execution_count": 7,
   "metadata": {},
   "outputs": [],
   "source": [
    "# Apply the scaler to the X training data\n",
    "X_train_std = sc.transform(X_train)\n",
    "\n",
    "# Apply the SAME scaler to the X test data\n",
    "X_test_std = sc.transform(X_test)"
   ]
  },
  {
   "cell_type": "code",
   "execution_count": 8,
   "metadata": {},
   "outputs": [
    {
     "data": {
      "text/plain": [
       "MLPClassifier(activation='logistic', alpha=1e-05, batch_size=6, beta_1=0.9,\n",
       "       beta_2=0.999, early_stopping=False, epsilon=1e-08,\n",
       "       hidden_layer_sizes=(7, 3), learning_rate='constant',\n",
       "       learning_rate_init=0.001, max_iter=300, momentum=0.9,\n",
       "       nesterovs_momentum=True, power_t=0.5, random_state=1, shuffle=True,\n",
       "       solver='lbfgs', tol=0.0001, validation_fraction=0.1, verbose=False,\n",
       "       warm_start=False)"
      ]
     },
     "execution_count": 8,
     "metadata": {},
     "output_type": "execute_result"
    }
   ],
   "source": [
    "# Applying MultiLayer Perceptron\n",
    "clf = MLPClassifier(activation='logistic', alpha=1e-05, batch_size=6, beta_1=0.9,\n",
    "       beta_2=0.999, early_stopping=False, epsilon=1e-08,\n",
    "       hidden_layer_sizes=(7, 3), learning_rate='constant',\n",
    "       learning_rate_init=0.001, max_iter=300, momentum=0.9,\n",
    "       nesterovs_momentum=True, power_t=0.5, random_state=1, shuffle=True,\n",
    "       solver='lbfgs', tol=0.0001, validation_fraction=0.1, verbose=False,\n",
    "       warm_start=False)\n",
    "#Fitting the train data\n",
    "clf.fit(X_train_std, y_train)"
   ]
  },
  {
   "cell_type": "code",
   "execution_count": 9,
   "metadata": {},
   "outputs": [],
   "source": [
    "# Apply the trained perceptron on the X data to make predicts for the y test data\n",
    "y_pred = clf.predict(X_test_std)"
   ]
  },
  {
   "cell_type": "code",
   "execution_count": 10,
   "metadata": {},
   "outputs": [
    {
     "data": {
      "text/plain": [
       "array([2, 0, 2, 0, 2, 0, 0, 2, 0, 0, 2, 0, 0, 1, 0, 0, 2, 1, 1, 2, 2, 1,\n",
       "       1, 0, 2, 2, 2, 1, 1, 2, 0, 0, 2, 1, 2, 1, 2, 1, 2, 1, 2, 0, 0, 0,\n",
       "       2])"
      ]
     },
     "execution_count": 10,
     "metadata": {},
     "output_type": "execute_result"
    }
   ],
   "source": [
    "y_pred"
   ]
  },
  {
   "cell_type": "code",
   "execution_count": 11,
   "metadata": {},
   "outputs": [
    {
     "name": "stdout",
     "output_type": "stream",
     "text": [
      "Accuracy: 0.93\n"
     ]
    }
   ],
   "source": [
    "# View the accuracy of the model, which is: 1 - (observations predicted wrong / total observations)\n",
    "print('Accuracy: %.2f' % accuracy_score(y_test, y_pred))"
   ]
  },
  {
   "cell_type": "code",
   "execution_count": 12,
   "metadata": {},
   "outputs": [
    {
     "data": {
      "text/plain": [
       "[array([[  1.29458531,   4.98746376,   5.47030832,   9.91359737,\n",
       "           1.90094638,   1.75972313,  -2.53580239],\n",
       "        [ -7.7125774 , -14.89935984,  -1.95022746, -14.07331349,\n",
       "           3.36273311,  -0.33799509,   4.10992206],\n",
       "        [  2.56768765,   8.61585906,   7.68377003,  14.7178647 ,\n",
       "           1.66774445,  -6.44843837,  -2.83693497],\n",
       "        [  1.95854903,   6.04572013,   8.3983895 ,  13.55645778,\n",
       "           3.45539356,  -7.95356804,  -3.18047811]]),\n",
       " array([[  0.38257352,  -1.54510543,   2.68262261],\n",
       "        [ -3.15359587,  -5.55237223,   8.12449512],\n",
       "        [  7.11162205,   6.75360502,  -0.61224275],\n",
       "        [ -4.21328962, -10.26837149,  11.296111  ],\n",
       "        [  8.20266171,   6.12080048,  -3.86347002],\n",
       "        [  3.37285412,  29.36236396, -10.26754141],\n",
       "        [  7.21030322,  17.07010208, -10.92184673]]),\n",
       " array([[ -4.25744735,  -3.3805652 ,   7.31039886],\n",
       "        [  6.81924001,   7.46848695, -14.68183941],\n",
       "        [-37.2646782 ,  12.11062767,  25.40171337]])]"
      ]
     },
     "execution_count": 12,
     "metadata": {},
     "output_type": "execute_result"
    }
   ],
   "source": [
    "clf.coefs_"
   ]
  },
  {
   "cell_type": "code",
   "execution_count": 13,
   "metadata": {},
   "outputs": [
    {
     "data": {
      "text/plain": [
       "array([0, 1, 2])"
      ]
     },
     "execution_count": 13,
     "metadata": {},
     "output_type": "execute_result"
    }
   ],
   "source": [
    "clf.classes_"
   ]
  },
  {
   "cell_type": "code",
   "execution_count": 14,
   "metadata": {},
   "outputs": [
    {
     "name": "stdout",
     "output_type": "stream",
     "text": [
      "[1 2 2 1 0 1 2 0 0 0 1 1 0 1 0 1 2 1 0 0 1 0 1 2 2 0 0 0 2 0 1 1 2 1 1 2 1\n",
      " 2 0 1 0 2 1 0 1]\n",
      "Accuracy: 0.96\n",
      "[2 0 2 1 1 0 1 0 2 2 1 0 2 2 0 0 0 2 1 1 0 0 1 2 2 1 0 0 1 0 2 2 0 2 2 1 1\n",
      " 2 2 2 1 2 2 0 0]\n",
      "Accuracy: 0.98\n",
      "[1 0 0 1 1 1 0 1 2 2 1 0 1 2 1 2 0 2 1 2 1 0 0 1 2 0 0 0 1 0 1 2 0 1 0 0 1\n",
      " 1 0 2 2 1 2 2 1]\n",
      "Accuracy: 0.98\n",
      "[1 2 1 2 0 0 2 2 0 1 0 0 2 0 0 2 2 0 1 0 2 2 2 0 2 0 0 0 1 1 2 1 2 2 0 0 2\n",
      " 1 1 2 0 1 2 2 0]\n",
      "Accuracy: 0.93\n",
      "[0 1 1 1 1 1 0 0 1 0 2 2 2 2 1 1 2 1 0 1 2 1 0 2 1 2 1 0 1 1 0 2 0 2 1 2 0\n",
      " 2 1 2 2 2 0 0 1]\n",
      "Accuracy: 0.91\n",
      "[0 0 0 0 0 0 1 1 2 1 0 0 0 0 2 2 1 0 1 0 0 1 0 2 1 0 2 2 1 0 0 2 0 2 1 1 2\n",
      " 1 0 1 2 1 2 0 2]\n",
      "Accuracy: 0.91\n",
      "[0 0 1 1 0 2 2 1 2 1 0 0 1 2 0 1 1 0 2 0 1 0 1 0 0 2 0 2 2 1 2 0 0 2 0 1 1\n",
      " 1 1 1 1 0 2 0 1]\n",
      "Accuracy: 0.98\n",
      "[1 0 2 1 0 0 2 0 0 1 2 2 2 2 1 0 1 1 0 1 0 2 2 1 2 0 2 0 0 2 1 1 1 1 0 2 2\n",
      " 2 2 2 2 2 0 2 1]\n",
      "Accuracy: 0.96\n",
      "[1 1 2 0 2 2 0 1 0 0 1 1 0 2 1 1 2 2 0 1 0 1 0 1 1 1 2 2 0 0 0 2 1 2 2 2 1\n",
      " 2 0 2 0 2 0 0 2]\n",
      "Accuracy: 0.96\n",
      "[0 2 1 2 0 2 0 0 0 2 0 1 2 1 0 1 1 1 1 1 2 1 0 0 1 1 2 1 0 2 2 2 1 2 0 0 2\n",
      " 0 0 0 1 0 1 2 0]\n",
      "Accuracy: 0.96\n",
      "[2 0 2 2 2 1 0 1 2 2 0 0 0 0 0 1 1 0 1 1 2 0 0 0 2 2 1 2 0 0 0 1 2 0 2 2 2\n",
      " 1 2 0 0 1 0 1 2]\n",
      "Accuracy: 0.91\n",
      "[1 0 1 2 1 1 0 0 2 1 1 0 1 1 1 2 2 0 0 2 2 2 1 0 1 1 0 0 2 1 2 1 0 2 2 0 1\n",
      " 0 0 1 0 1 1 1 2]\n",
      "Accuracy: 0.93\n",
      "[1 1 1 1 1 1 0 2 2 0 2 2 2 0 0 1 0 1 1 2 0 1 2 0 0 2 2 0 2 1 1 1 1 0 2 0 0\n",
      " 2 2 2 0 0 1 0 1]\n",
      "Accuracy: 0.89\n",
      "[1 0 1 2 1 1 1 0 0 0 2 0 2 2 1 1 2 0 2 1 0 0 0 0 2 1 0 1 2 2 2 1 0 1 2 2 1\n",
      " 1 2 1 1 1 0 2 0]\n",
      "Accuracy: 0.98\n",
      "[0 0 1 2 0 0 1 1 2 1 1 0 1 1 2 2 2 1 1 2 0 0 1 2 0 1 2 0 1 1 0 0 1 1 1 0 0\n",
      " 1 2 2 1 1 1 2 1]\n",
      "Accuracy: 0.96\n",
      "[0 2 2 2 1 2 0 0 0 0 1 2 1 0 0 1 2 1 2 1 0 1 0 2 0 2 2 1 2 0 1 1 1 1 2 2 1\n",
      " 1 0 2 1 2 0 1 1]\n",
      "Accuracy: 0.98\n",
      "[0 0 0 0 0 1 1 2 2 1 1 1 2 2 0 2 0 0 2 2 2 1 1 0 1 1 0 2 0 0 0 2 1 1 2 2 0\n",
      " 1 0 1 1 2 1 1 2]\n",
      "Accuracy: 0.96\n",
      "[2 2 2 1 0 0 1 0 2 2 1 0 2 1 1 0 0 2 0 2 0 0 0 0 2 1 0 1 1 1 2 0 2 1 2 1 1\n",
      " 0 2 1 1 1 1 2 2]\n",
      "Accuracy: 0.91\n",
      "[1 2 1 2 1 0 2 1 0 0 1 1 2 0 2 2 2 0 0 1 0 0 0 2 2 1 1 2 2 2 2 1 0 0 1 0 2\n",
      " 0 2 2 1 2 0 1 1]\n",
      "Accuracy: 0.93\n",
      "[1 2 0 2 2 1 1 1 0 1 2 2 1 2 2 1 1 0 0 2 1 2 1 0 1 1 2 2 0 0 1 2 2 0 0 0 2\n",
      " 0 1 0 1 0 0 0 1]\n",
      "Accuracy: 0.98\n"
     ]
    }
   ],
   "source": [
    "for trial in range(20):\n",
    "    X_train, X_test, y_train, y_test = train_test_split(X, y, test_size=0.3)\n",
    "    sc = StandardScaler()\n",
    "    sc.fit(X_train)\n",
    "    X_train_std = sc.transform(X_train)\n",
    "    X_test_std = sc.transform(X_test)\n",
    "    clf = MLPClassifier(activation='logistic', alpha=1e-05, batch_size=6, beta_1=0.9,\n",
    "       beta_2=0.999, early_stopping=False, epsilon=1e-08,\n",
    "       hidden_layer_sizes=(7, ), learning_rate='constant',\n",
    "       learning_rate_init=0.001, max_iter=300, momentum=0.9,\n",
    "       nesterovs_momentum=True, power_t=0.5, random_state=1, shuffle=True,\n",
    "       solver='lbfgs', tol=0.0001, validation_fraction=0.1, verbose=False,\n",
    "       warm_start=False)\n",
    "    clf.fit(X_train_std, y_train)\n",
    "    y_pred = clf.predict(X_test_std)\n",
    "    print(y_pred)\n",
    "    print('Accuracy: %.2f' % accuracy_score(y_test, y_pred))"
   ]
  },
  {
   "cell_type": "markdown",
   "metadata": {},
   "source": [
    "As you can see this is performing much better; however a few times the neural netweok is getting caught in the local minima"
   ]
  },
  {
   "cell_type": "code",
   "execution_count": 15,
   "metadata": {},
   "outputs": [],
   "source": [
    "xx, yy, zz, aa = np.mgrid[-0:10:0.5, 0:10:0.5, 0:10:0.5, 0:10:0.5]\n",
    "grid = np.c_[xx.ravel(), yy.ravel(), zz.ravel(), aa.ravel()]\n",
    "probs = clf.predict_proba(grid)[:, 1].reshape(xx.shape)"
   ]
  },
  {
   "cell_type": "code",
   "execution_count": 16,
   "metadata": {},
   "outputs": [
    {
     "data": {
      "text/plain": [
       "<Figure size 800x600 with 2 Axes>"
      ]
     },
     "metadata": {},
     "output_type": "display_data"
    }
   ],
   "source": [
    "import matplotlib.pyplot as plt\n",
    "f, ax = plt.subplots(figsize=(8, 6))\n",
    "xx, yy = np.mgrid[-0:10:0.5, 0:10:0.5]\n",
    "contour = ax.contourf(xx, yy, probs[:,:, 0, 0].reshape(20,20), 25, cmap=\"RdYlBu\",\n",
    "                      vmin=0, vmax=1)\n",
    "ax_c = f.colorbar(contour)\n",
    "ax_c.set_label(\"$P(y = 1)$\")\n",
    "ax_c.set_ticks([0, .25, .5, .75, 1])\n",
    "\n",
    "ax.scatter(X_train[:,1], X_train[:, 2], c=y_train[:], s=50,\n",
    "           cmap=\"RdYlBu\", vmin=-.2, vmax=1.2,\n",
    "           edgecolor=\"white\", linewidth=1)\n",
    "plt.show()"
   ]
  },
  {
   "cell_type": "code",
   "execution_count": 17,
   "metadata": {},
   "outputs": [
    {
     "data": {
      "image/png": "[encoded data removed]",
      "text/plain": [
       "<Figure size 576x432 with 1 Axes>"
      ]
     },
     "metadata": {},
     "output_type": "display_data"
    }
   ],
   "source": [
    "import numpy as np\n",
    "import matplotlib.pyplot as plt\n",
    "from sklearn import svm, datasets\n",
    "from utils import *\n",
    "\n",
    "# Take the first two features. TODO - Try combinations of two features\n",
    "X = iris.data[:, :2]\n",
    "y = iris.target\n",
    "\n",
    "# we create an instance of MLP and fit out data. We do not scale our\n",
    "# data since we want to plot the vectors\n",
    "models = [clf]\n",
    "models = [clf.fit(X, y) for clf in models]\n",
    "\n",
    "# title for the plots\n",
    "titles = 'Classification with MLP'\n",
    "\n",
    "# Set-up 2x2 grid for plotting.\n",
    "\n",
    "X0, X1 = X[:, 0], X[:, 1]\n",
    "xx, yy = make_meshgrid(X0, X1)\n",
    "\n",
    "import matplotlib.pyplot as plt\n",
    "f, ax = plt.subplots(figsize=(8, 6))\n",
    "\n",
    "plot_contours(ax, clf, xx, yy, cmap=plt.cm.coolwarm, alpha=0.8)\n",
    "ax.scatter(X0, X1, c=y, cmap=plt.cm.coolwarm, s=20, edgecolors='k')\n",
    "ax.set_xlim(xx.min(), xx.max())\n",
    "ax.set_ylim(yy.min(), yy.max())\n",
    "ax.set_xlabel('Sepal length')\n",
    "ax.set_ylabel('Sepal width')\n",
    "ax.set_xticks(())\n",
    "ax.set_yticks(())\n",
    "ax.set_title(titles)\n",
    "\n",
    "plt.show()"
   ]
  },
  {
   "cell_type": "code",
   "execution_count": null,
   "metadata": {},
   "outputs": [],
   "source": []
  },
  {
   "cell_type": "code",
   "execution_count": null,
   "metadata": {},
   "outputs": [],
   "source": []
  }
 ],
 "metadata": {
  "kernelspec": {
   "display_name": "Python 3",
   "language": "python",
   "name": "python3"
  },
  "language_info": {
   "codemirror_mode": {
    "name": "ipython",
    "version": 3
   },
   "file_extension": ".py",
   "mimetype": "text/x-python",
   "name": "python",
   "nbconvert_exporter": "python",
   "pygments_lexer": "ipython3",
   "version": "3.6.3"
  }
 },
 "nbformat": 4,
 "nbformat_minor": 2
}
