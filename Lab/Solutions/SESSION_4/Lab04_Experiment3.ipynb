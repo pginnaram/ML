{
 "cells": [
  {
   "cell_type": "markdown",
   "metadata": {},
   "source": [
    "# Foundations of AI/ML by IIIT-Hyderabad & Talent Sprint\n",
    "# Lab04 Experiment 3"
   ]
  },
  {
   "cell_type": "markdown",
   "metadata": {},
   "source": [
    "# SPEECH RECOGNITION"
   ]
  },
  {
   "cell_type": "markdown",
   "metadata": {},
   "source": [
    "Speech has been one of the most widely used mode of communication. One of the part of our day-today communication is to give and receive commands/instructions. Making a machine understand these instructions to perform certain activities can be a boon for a host of applications.\n",
    "\n",
    "In this experiment we will work on recognizing speech into 30 commands.\n",
    "\n",
    "- Firstly, we will explore and visualize audio features for speech.\n",
    "\n",
    "\n",
    "- We will then use these features to train different classifiers, to classify them into 30 different classes:\n",
    "    - kNN classifier with MFCC features\n",
    "    - kNN classifier with Deep features\n",
    "    - Naive Bayes classifier with MFCC features\n",
    "    - Naive Bayes classifier with Deep features\n",
    "    - Multi-class linear classifier with MFCC features\n",
    "    - Multi-class linear classifier with Deep features\n",
    "\n",
    "\n",
    "- Lastly, we will use different evaluation measures to compare the performances of our classifiers."
   ]
  },
  {
   "cell_type": "code",
   "execution_count": null,
   "metadata": {},
   "outputs": [],
   "source": [
    "#!pip install librosa      #required library for experiment\n"
   ]
  },
  {
   "cell_type": "code",
   "execution_count": null,
   "metadata": {},
   "outputs": [],
   "source": [
    "import os\n",
    "\n",
    "import warnings\n",
    "warnings.filterwarnings(\"ignore\")\n",
    "\n",
    "# Math\n",
    "import numpy as np\n",
    "from scipy import signal\n",
    "from scipy.io import wavfile\n",
    "import librosa\n",
    "\n",
    "# Visualization\n",
    "import matplotlib.pyplot as plt\n",
    "import librosa.display\n",
    "\n",
    "from matplotlib.pyplot import *\n",
    "%matplotlib inline\n",
    "\n",
    "from classifiers import *"
   ]
  },
  {
   "cell_type": "markdown",
   "metadata": {},
   "source": [
    "# Dataset\n",
    "\n",
    "For this exercise we will use TensorFlow’s Speech Commands Datasets which includes 65,000 one second-long utterances of 30 short commands. This dataset has been curated using thousands of people and is opensource under a Creative Commons BY 4.0 license.\n",
    "\n",
    "Example commands: 'Yes', 'No', 'Up', 'Down', 'Left', etc."
   ]
  },
  {
   "cell_type": "code",
   "execution_count": null,
   "metadata": {},
   "outputs": [],
   "source": [
    "unique_classes = np.array(['bed', 'bird', 'cat', 'dog', 'down', 'eight', 'five', 'four', 'go', 'happy',\n",
    "                           'house', 'left', 'marvin', 'nine', 'no', 'off', 'on', 'one', 'right', 'seven',\n",
    "                           'sheila', 'six', 'stop', 'three', 'tree', 'two', 'up', 'wow', 'yes', 'zero'])"
   ]
  },
  {
   "cell_type": "markdown",
   "metadata": {},
   "source": [
    "Let us read a sample audio file from this dataset: "
   ]
  },
  {
   "cell_type": "code",
   "execution_count": null,
   "metadata": {},
   "outputs": [],
   "source": [
    "audio_file_path = '../Datasets'\n",
    "filename = '/5e1b34a6_nohash_0.wav'\n",
    "sample_rate, samples = wavfile.read(str(audio_file_path) + filename)\n",
    "print(sample_rate)"
   ]
  },
  {
   "cell_type": "markdown",
   "metadata": {},
   "source": [
    "# 1. MFCC features"
   ]
  },
  {
   "cell_type": "markdown",
   "metadata": {},
   "source": [
    "##  1.1. Amplitude\n",
    "\n",
    "Speech is a temporal signal, where the amplitude of the signal varies with time.\n",
    "\n",
    "The amplitude v/s time graph of the audio file we read is:"
   ]
  },
  {
   "cell_type": "code",
   "execution_count": null,
   "metadata": {},
   "outputs": [],
   "source": [
    "fig = plt.figure(figsize=(14, 8))\n",
    "plt.plot(np.linspace(0, sample_rate/len(samples), sample_rate), samples)\n",
    "plt.gca().set_title('Raw wave of ' + filename)\n",
    "plt.gca().set_ylabel('Amplitude')\n",
    "plt.grid(\"on\")"
   ]
  },
  {
   "cell_type": "markdown",
   "metadata": {},
   "source": [
    "## 1.2 Log Spectrogram\n",
    "\n",
    "The same speech signal could be interpreted as made up of several frequencies of waves. A visualization of the power, i.e. energy per unit time in each frequency v/s time is called the Spectrogram.\n",
    "\n",
    "Usually, the log of this energy is considered a better parameter. This is because the power in sound is synonymous with volume (loudness) of the sound, and the human ears are more sensitive to smaller volumes than larger volumes. So it is more convenient to observe the log of the volume rather than the volume itself. The log of sound power is measured in deciBels (dB). (You might be familiar with dB as a unit of sound volume). Hence, we shall consider the Log Spectrogram instead of just the spectrogram.\n",
    "\n",
    "Let us cmpute the Log Spectrogram of the audio file we read:"
   ]
  },
  {
   "cell_type": "code",
   "execution_count": null,
   "metadata": {},
   "outputs": [],
   "source": [
    "def log_specgram(audio, sample_rate, window_size=20, step_size=10, eps=1e-10):\n",
    "    \n",
    "    # Number of samples per window/segment\n",
    "    nperseg = int(round(window_size * sample_rate / 1e3))\n",
    "    \n",
    "    # Number of overlapping samples\n",
    "    noverlap = int(round(step_size * sample_rate / 1e3))\n",
    "    \n",
    "    # Compute the spectrogram\n",
    "    freqs, times, spec = signal.spectrogram(audio,\n",
    "                                            fs=sample_rate,\n",
    "                                            window='hann',\n",
    "                                            nperseg=nperseg,\n",
    "                                            noverlap=noverlap,\n",
    "                                            detrend=False)\n",
    "    \n",
    "    # Return log of the spectrogram values, with time axis in columns and frequencies in rows\n",
    "    return freqs, times, np.log(spec.T.astype(np.float32) + eps)"
   ]
  },
  {
   "cell_type": "code",
   "execution_count": null,
   "metadata": {},
   "outputs": [],
   "source": [
    "freqs, times, spectrogram = log_specgram(samples, sample_rate)"
   ]
  },
  {
   "cell_type": "markdown",
   "metadata": {},
   "source": [
    "Let us plot the log spectrogram:"
   ]
  },
  {
   "cell_type": "code",
   "execution_count": null,
   "metadata": {
    "scrolled": true
   },
   "outputs": [],
   "source": [
    "fig = plt.figure(figsize=(14, 4))\n",
    "plt.imshow(spectrogram.T, aspect='auto', origin='lower', \n",
    "           extent=[times.min(), times.max(), freqs.min(), freqs.max()])\n",
    "plt.gca().set_yticks(freqs[::16])\n",
    "plt.gca().set_xticks(times[9::10])\n",
    "plt.gca().set_title('Spectrogram of ' + filename)\n",
    "plt.gca().set_ylabel('Frequency in Hz')\n",
    "plt.gca().set_xlabel('Seconds')\n",
    "plt.colorbar()"
   ]
  },
  {
   "cell_type": "markdown",
   "metadata": {},
   "source": [
    "As can be seen from the amplitude v/s time graph, the command is being uttered between 0.4 seconds and 0.6 seconds.\n",
    "\n",
    "As can be seen from the spectrogram, the command is composed more of lower frequencies than higher frequencies. The rest of the time when there is no speech, each frequency has an equal contribution to the sound. This is called \"White Noise\".\n",
    "\n",
    "Notice that the range of frequencies we are observing in the spectrogram is the linear scale between 0 Hz and 8000 Hz."
   ]
  },
  {
   "cell_type": "markdown",
   "metadata": {},
   "source": [
    "## 1.2. Mel Spectrogram\n",
    "\n",
    "Human ears tend to listen to sounds in the log scale. That means, at lower frequencies we can detect small changes, but at higher frequencies our ears become less sensitive to small changes. For example, the difference between 10 Hz and 20 Hz would sound almost the same to us as that between 1000 Hz and 2000 Hz. To observe this logarithmic change, the frequency scale is modified into the [\"mel frequency\" scale](https://en.wikipedia.org/wiki/Mel_scale).\n",
    "\n",
    "Let us compute the Mel Spectrogram using a convenient function in the `librosa` library in Python:"
   ]
  },
  {
   "cell_type": "code",
   "execution_count": null,
   "metadata": {},
   "outputs": [],
   "source": [
    "# From this tutorial\n",
    "# https://github.com/librosa/librosa/blob/master/examples/LibROSA%20demo.ipynb\n",
    "S = librosa.feature.melspectrogram(samples, sr=sample_rate, hop_length=int(0.020*sample_rate), n_mels=128)\n",
    "print(S.shape)"
   ]
  },
  {
   "cell_type": "markdown",
   "metadata": {},
   "source": [
    "As mentioned before, the log of the spectrogram is a better parameter to observe rather than the spectrogram itself. Let us compute this using another convenient function in the `librosa` library:"
   ]
  },
  {
   "cell_type": "code",
   "execution_count": null,
   "metadata": {},
   "outputs": [],
   "source": [
    "# Convert to log scale (dB). We'll use the peak power (max) as reference.\n",
    "log_S = librosa.power_to_db(S, ref=np.max)"
   ]
  },
  {
   "cell_type": "markdown",
   "metadata": {},
   "source": [
    "Let's plot the log Mel spectrogam with the y-axis having frequenies in the mel scale instead of the linear scale: "
   ]
  },
  {
   "cell_type": "code",
   "execution_count": null,
   "metadata": {},
   "outputs": [],
   "source": [
    "plt.figure(figsize=(12, 4))\n",
    "librosa.display.specshow(log_S, sr=sample_rate, x_axis='time', y_axis='mel')\n",
    "plt.title('Log-power Mel spectrogram ')\n",
    "plt.colorbar(format='%+02.0f dB')\n",
    "plt.tight_layout()"
   ]
  },
  {
   "cell_type": "markdown",
   "metadata": {},
   "source": [
    "Observe that the frequencies in the y-axis are not linear in scale. "
   ]
  },
  {
   "cell_type": "markdown",
   "metadata": {},
   "source": [
    "## 1.3 Mel Frequency Cepstral Coefficients (MFCCs)\n",
    "\n",
    "Next, \"Cepstral Coefficients\" are important numbers that describe speech information in audio. By computing these Cepstral Coefficients in the mel scale, we shall obtain Mel Frequency Cepstral Coefficients.\n",
    "\n",
    "For technical details, the procedure to compute MFCCs is:\n",
    "\n",
    "- Take the Discrete Fourier Transform on every sliding window over the audio with some overlap.\n",
    "- Apply `n_mels` triangular Mel-scale filters onto the Fourier power spectrum, and apply logarithm to the outputs.\n",
    "- Apply the Discrete Cosine Transform, and reduce dimensionality to `n_mfcc` dimensions.\n",
    "\n",
    "Let's use a convenient library function called `librosa.feature.mfcc` to compute MFCCs from the spectrogram:"
   ]
  },
  {
   "cell_type": "code",
   "execution_count": null,
   "metadata": {},
   "outputs": [],
   "source": [
    "mfcc = librosa.feature.mfcc(S=log_S, n_mfcc=13)\n",
    "print(mfcc.shape)"
   ]
  },
  {
   "cell_type": "markdown",
   "metadata": {},
   "source": [
    "Let us plot the MFCCs:"
   ]
  },
  {
   "cell_type": "code",
   "execution_count": null,
   "metadata": {},
   "outputs": [],
   "source": [
    "plt.figure(figsize=(12, 3))\n",
    "librosa.display.specshow(mfcc)\n",
    "plt.ylabel('MFCC coeffs')\n",
    "plt.xlabel('Time')\n",
    "plt.title('MFCC')\n",
    "plt.colorbar()\n",
    "plt.tight_layout()"
   ]
  },
  {
   "cell_type": "markdown",
   "metadata": {},
   "source": [
    "## 1.4 Delta MFCCs\n",
    "\n",
    "MFCCs as such are quite powerful features, but even better features are their first-order and second-order derivatives.\n",
    "\n",
    "Let's use a convenient library function called `librosa.feature.mfcc` to compute the second-order delta MFCCs:"
   ]
  },
  {
   "cell_type": "code",
   "execution_count": null,
   "metadata": {},
   "outputs": [],
   "source": [
    "# Find 1st order delta_mfcc\n",
    "delta1_mfcc = librosa.feature.delta(mfcc, order=1)\n",
    "\n",
    "# Find 2nd order delta_mfcc\n",
    "delta2_mfcc = librosa.feature.delta(mfcc, order=2)"
   ]
  },
  {
   "cell_type": "markdown",
   "metadata": {},
   "source": [
    "Let's plot the 2nd order delta MFCCs:"
   ]
  },
  {
   "cell_type": "code",
   "execution_count": null,
   "metadata": {},
   "outputs": [],
   "source": [
    "plt.figure(figsize=(12, 6))\n",
    "\n",
    "plt.subplot(211)\n",
    "librosa.display.specshow(delta1_mfcc)\n",
    "plt.ylabel('1st order Delta MFCC coeffs')\n",
    "plt.xlabel('Time')\n",
    "plt.title('1st order Delta MFCC')\n",
    "plt.colorbar()\n",
    "plt.tight_layout()\n",
    "\n",
    "plt.subplot(212)\n",
    "librosa.display.specshow(delta2_mfcc)\n",
    "plt.ylabel('2nd order Delta MFCC coeffs')\n",
    "plt.xlabel('Time')\n",
    "plt.title('2nd order Delta MFCC')\n",
    "plt.colorbar()\n",
    "plt.tight_layout()"
   ]
  },
  {
   "cell_type": "markdown",
   "metadata": {},
   "source": [
    "# 2. Load the Dataset\n",
    "The dataset is of ~10GB in size and operating directly on it will take a lot of time, therefore we have included that as a Homework Exercise for those who are interested to go into that detail.\n",
    "Our team has instead precomputed the features which can be loaded directly and computed on.\n",
    "\n",
    "# 3. Load MFCC features"
   ]
  },
  {
   "cell_type": "code",
   "execution_count": null,
   "metadata": {},
   "outputs": [],
   "source": [
    "import scipy.io as sio\n",
    "### Load MFCC Features\n",
    "saved_vars = sio.loadmat('../Datasets/audio/mfcc_feats/tf_speech_mfcc_31st_jan18.mat')\n",
    "# print(saved_vars.keys())\n",
    "\n",
    "mfcc_features_train = saved_vars['mfcc_features_train']\n",
    "mfcc_labels_train = saved_vars['mfcc_labels_train']\n",
    "\n",
    "mfcc_features_val = saved_vars['mfcc_features_val']\n",
    "mfcc_labels_val = saved_vars['mfcc_labels_val']\n",
    "print(mfcc_features_train.shape,mfcc_features_val.shape)"
   ]
  },
  {
   "cell_type": "markdown",
   "metadata": {},
   "source": [
    "# 4. Load Deep Features"
   ]
  },
  {
   "cell_type": "code",
   "execution_count": null,
   "metadata": {},
   "outputs": [],
   "source": [
    "deep_features_train = np.squeeze(np.load('../Datasets/audio/deep_feats/train_set.npz'))\n",
    "deep_labels_train = np.load('../Datasets/audio/deep_feats/train_labs.npz')\n",
    "deep_features_val = np.squeeze(np.load('../Datasets/audio/deep_feats/validation_set.npz'))\n",
    "deep_labels_val = np.load('../Datasets/audio/deep_feats/validation_labs.npz')\n",
    "print(deep_features_train.shape, deep_features_val.shape)"
   ]
  },
  {
   "cell_type": "markdown",
   "metadata": {},
   "source": [
    "# 5. Validation\n",
    "\n",
    "We want to choose the best model for speech classification among:\n",
    "\n",
    "- kNN classifier with MFCC features\n",
    "\n",
    "- kNN classifier with Deep features\n",
    "\n",
    "- Naive Bayes classifier with MFCC features\n",
    "\n",
    "- Naive Bayes classifier with Deep features\n",
    "\n",
    "- Multi-class Linear classifier with MFCC features\n",
    "\n",
    "- Multi-class Linear classifier with Deep features\n",
    "\n",
    "To do that, let's find the validation accuracies of each method using MFCC features and deep features.\n",
    "\n",
    "We shall use our familiar convenient function to choose an algorithm, train on training features and labels as inputs, and obtain accuracy on given features and labels."
   ]
  },
  {
   "cell_type": "markdown",
   "metadata": {},
   "source": [
    "## Function to choose algorithm, features and labels to get accuracy\n",
    "\n",
    "We created a convenient function to which you can choose the algorithm you want to use - `'kNN'`, `'NB'` (Naive Bayes), or `'linear'` (multiclass linear classifier) - and input features and labels for training and validation/testing:\n",
    "\n",
    "**`acc = predict_and_find_accuracy(algorithm, train_features, train_labels, given_features, given_labels, k)`**\n",
    "\n",
    "INPUTS:\n",
    "\n",
    "- **`algorithm`** is one of `'kNN'`, `'NB'` (Naive Bayes), and `'linear'`,\n",
    "\n",
    "\n",
    "- **`train_features`** are either `mfcc_features_train` or `deep_features_train`,\n",
    "\n",
    "\n",
    "- **`train_labels`** are either `mfcc_labels_train` or `deep_labels_train`,\n",
    "\n",
    "\n",
    "- **`given_features`** are `XXX_features_val` in case of validation, and `XXX_features_test` in case of testing (`XXX` being either `mfcc` or `deep` depending on what you chose to train the model on),\n",
    "\n",
    "\n",
    "- **`given_labels`** are `XXX_features_val` in case of validation, and `XXX_features_test` in case of testing (`XXX` being either `mfcc` or `deep` depending on what you chose to train the model on),\n",
    "\n",
    "\n",
    "- **`k`** is the value of $k$ to be used _in case_ we are using kNN classifier.\n",
    "\n",
    "OUTPUT:\n",
    "\n",
    "- **acc** is the accuracy of the `algorithm` on `given_features` & `given_labels` after being trained on `train_features` & `train_labels`."
   ]
  },
  {
   "cell_type": "markdown",
   "metadata": {},
   "source": [
    "## 5.1. kNN Classifier\n",
    "\n",
    "We want to choose the value of $k$ based on validation accuracy. Choose $k$ among 1, 3, 7, 15, 51, 101."
   ]
  },
  {
   "cell_type": "code",
   "execution_count": null,
   "metadata": {},
   "outputs": [],
   "source": [
    "values_of_k = [1, 3, 7, 15, 51, 101]"
   ]
  },
  {
   "cell_type": "markdown",
   "metadata": {},
   "source": [
    "## 5.1.1. kNN with MFCC features"
   ]
  },
  {
   "cell_type": "markdown",
   "metadata": {},
   "source": [
    "**Exercise 1: Find the best $k$ using validation accuracy on MFCC features**"
   ]
  },
  {
   "cell_type": "code",
   "execution_count": null,
   "metadata": {},
   "outputs": [],
   "source": [
    "# Your code here\n",
    "best = 0\n",
    "result = 0\n",
    "for k in values_of_k:\n",
    "    mfcc_kNN_acc = predict_and_find_accuracy('kNN', mfcc_features_train, mfcc_labels_train, mfcc_features_val, mfcc_labels_val, k)\n",
    "    if best < mfcc_kNN_acc:\n",
    "        best = mfcc_kNN_acc\n",
    "        result = k\n",
    "\n",
    "best_k_mfcc = result"
   ]
  },
  {
   "cell_type": "code",
   "execution_count": null,
   "metadata": {},
   "outputs": [],
   "source": [
    "print(best_k_mfcc)"
   ]
  },
  {
   "cell_type": "markdown",
   "metadata": {},
   "source": [
    "**Exercise 2: Find the validation accuracy of kNN classifier on MFCC features using best $k$**"
   ]
  },
  {
   "cell_type": "code",
   "execution_count": null,
   "metadata": {},
   "outputs": [],
   "source": [
    "kNN_mfcc_val_acc = predict_and_find_accuracy(\"kNN\", mfcc_features_train, mfcc_labels_train, mfcc_features_val, mfcc_labels_val, best_k_mfcc)\n",
    "print(kNN_mfcc_val_acc)"
   ]
  },
  {
   "cell_type": "markdown",
   "metadata": {},
   "source": [
    "## 5.1.2. kNN with Deep features"
   ]
  },
  {
   "cell_type": "markdown",
   "metadata": {},
   "source": [
    "**Exercise 3: Find the best $k$ using validation accuracy on Deep features**"
   ]
  },
  {
   "cell_type": "code",
   "execution_count": null,
   "metadata": {},
   "outputs": [],
   "source": [
    "deep_k_acc = []\n",
    "\n",
    "for k in values_of_k:\n",
    "    deep_k_acc.append(predict_and_find_accuracy(\"kNN\", deep_features_train, deep_labels_train, deep_features_val, deep_labels_val, k))\n",
    "    \n",
    "best_k_deep = values_of_k[np.argmax(deep_k_acc)]\n",
    "print(best_k_deep)"
   ]
  },
  {
   "cell_type": "code",
   "execution_count": null,
   "metadata": {},
   "outputs": [],
   "source": [
    "print(best_k_deep)"
   ]
  },
  {
   "cell_type": "markdown",
   "metadata": {},
   "source": [
    "**Exercise 4: Find the validation accuracy of kNN classifier on Deep features using best $k$**"
   ]
  },
  {
   "cell_type": "code",
   "execution_count": null,
   "metadata": {},
   "outputs": [],
   "source": [
    "kNN_deep_val_acc = predict_and_find_accuracy(\"kNN\", deep_features_train, deep_labels_train, deep_features_val, deep_labels_val, best_k_deep)\n",
    "print(kNN_deep_val_acc)"
   ]
  },
  {
   "cell_type": "markdown",
   "metadata": {},
   "source": [
    "## 5.2 Naive Bayes classifier\n",
    "\n",
    "Find the validation accuracies with MFCC features and Deep features using Naive Bayes classifier."
   ]
  },
  {
   "cell_type": "markdown",
   "metadata": {},
   "source": [
    "**Exercise 5: Find the validation accuracy of Naive Bayes classifier on MFCC features**"
   ]
  },
  {
   "cell_type": "code",
   "execution_count": null,
   "metadata": {},
   "outputs": [],
   "source": [
    "NB_mfcc_val_acc = predict_and_find_accuracy(\"NB\", mfcc_features_train, mfcc_labels_train, mfcc_features_val, mfcc_labels_val)\n",
    "print(NB_mfcc_val_acc)"
   ]
  },
  {
   "cell_type": "markdown",
   "metadata": {},
   "source": [
    "**Exercise 6: Find the validation accuracy of Naive Bayes classifier on deep features**"
   ]
  },
  {
   "cell_type": "code",
   "execution_count": null,
   "metadata": {},
   "outputs": [],
   "source": [
    "NB_deep_val_acc = predict_and_find_accuracy(\"NB\", deep_features_train, deep_labels_train, deep_features_val, deep_labels_val)\n",
    "print(NB_deep_val_acc)"
   ]
  },
  {
   "cell_type": "markdown",
   "metadata": {},
   "source": [
    "## 5.3 Multi-class linear classifier\n",
    "\n",
    "Find the validation accuracies with MFCC features and Deep features using Multi-class linear classifier."
   ]
  },
  {
   "cell_type": "markdown",
   "metadata": {},
   "source": [
    "**Exercise 7: Find the validation accuracy of Multi-class linear classifier on MFCC features**"
   ]
  },
  {
   "cell_type": "code",
   "execution_count": null,
   "metadata": {},
   "outputs": [],
   "source": [
    "linear_mfcc_val_acc = predict_and_find_accuracy(\"linear\", mfcc_features_train, mfcc_labels_train, mfcc_features_val, mfcc_labels_val)\n",
    "print(linear_mfcc_val_acc)"
   ]
  },
  {
   "cell_type": "markdown",
   "metadata": {},
   "source": [
    "**Exercise 8: Find the validation accuracy of Multi-class linear classifier on Deep features**"
   ]
  },
  {
   "cell_type": "code",
   "execution_count": null,
   "metadata": {},
   "outputs": [],
   "source": [
    "linear_deep_val_acc = predict_and_find_accuracy(\"linear\", deep_features_train, deep_labels_train, deep_features_val, deep_labels_val)\n",
    "print(linear_deep_val_acc)"
   ]
  },
  {
   "cell_type": "markdown",
   "metadata": {},
   "source": [
    "## 5.4 Choose best model\n",
    "\n",
    "Let us compare the validation accuracies of each model:"
   ]
  },
  {
   "cell_type": "code",
   "execution_count": null,
   "metadata": {},
   "outputs": [],
   "source": [
    "print(\"      Model                       Val acc \")\n",
    "print(\"------------------------------------------\")\n",
    "print(\"kNN with MFCC features         :   \", \"{0:.03f}\".format(kNN_mfcc_val_acc))\n",
    "print(\"kNN with Deep features         :   \", \"{0:.03f}\".format(kNN_deep_val_acc))\n",
    "print(\"Naive Bayes with MFCC features :   \", \"{0:.03f}\".format(NB_mfcc_val_acc))\n",
    "print(\"Naive Bayes with Deep features :   \", \"{0:.03f}\".format(NB_deep_val_acc))\n",
    "print(\"Linear with MFCC features      :   \", \"{0:.03f}\".format(linear_mfcc_val_acc))\n",
    "print(\"Linear with Deep features      :   \", \"{0:.03f}\".format(linear_deep_val_acc))"
   ]
  },
  {
   "cell_type": "markdown",
   "metadata": {},
   "source": [
    "**Exercise 9: Which is the best model among the above 6 based on their validation accuracies?**"
   ]
  },
  {
   "cell_type": "markdown",
   "metadata": {},
   "source": [
    "# 6. Testing\n",
    "\n",
    "**Exercise 10: Find the testing accuracies.**"
   ]
  },
  {
   "cell_type": "code",
   "execution_count": null,
   "metadata": {},
   "outputs": [],
   "source": [
    "# Finding Testing accuracies\n",
    "NB_mfcc_test_acc = predict_and_find_accuracy(\"NB\", mfcc_features_train, mfcc_labels_train, mfcc_features_test, mfcc_labels_test)\n",
    "NB_deep_test_acc = predict_and_find_accuracy(\"NB\", deep_features_train, deep_labels_train, deep_features_test, deep_labels_test)\n",
    "kNN_mfcc_test_acc = predict_and_find_accuracy(\"kNN\", mfcc_features_train, mfcc_labels_train, mfcc_features_test, mfcc_labels_test)\n",
    "kNN_deep_test_acc = predict_and_find_accuracy(\"kNN\", deep_features_train, deep_labels_train, deep_features_test, deep_labels_test)\n",
    "linear_mfcc_test_acc = predict_and_find_accuracy(\"linear\", mfcc_features_train, mfcc_labels_train, mfcc_features_test, mfcc_labels_test)\n",
    "linear_deep_test_acc = predict_and_find_accuracy(\"linear\", deep_features_train, deep_labels_train, deep_features_test, deep_labels_test)"
   ]
  },
  {
   "cell_type": "code",
   "execution_count": null,
   "metadata": {},
   "outputs": [],
   "source": [
    "print(\"      Model                       Val acc      Test acc \")\n",
    "print(\"--------------------------------------------------------\")\n",
    "print(\"kNN with MFCC features         :   \", \"{0:.03f}\".format(kNN_mfcc_val_acc), \"      \", \"{0:.03f}\".format(kNN_mfcc_test_acc))\n",
    "print(\"kNN with Deep features         :   \", \"{0:.03f}\".format(kNN_deep_val_acc), \"      \", \"{0:.03f}\".format(kNN_deep_test_acc))\n",
    "print(\"Naive Bayes with MFCC features :   \", \"{0:.03f}\".format(NB_mfcc_val_acc), \"      \", \"{0:.03f}\".format(NB_mfcc_test_acc))\n",
    "print(\"Naive Bayes with Deep features :   \", \"{0:.03f}\".format(NB_deep_val_acc), \"      \", \"{0:.03f}\".format(NB_deep_test_acc))\n",
    "print(\"Linear with MFCC features      :   \", \"{0:.03f}\".format(linear_mfcc_val_acc), \"      \", \"{0:.03f}\".format(linear_mfcc_test_acc))\n",
    "print(\"Linear with Deep features      :   \", \"{0:.03f}\".format(linear_deep_val_acc), \"      \", \"{0:.03f}\".format(linear_deep_test_acc))"
   ]
  },
  {
   "cell_type": "markdown",
   "metadata": {},
   "source": [
    "**Do the validation accuracies estimate the testing accuracies well?**"
   ]
  }
 ],
 "metadata": {
  "kernelspec": {
   "display_name": "Python 3",
   "language": "python",
   "name": "python3"
  },
  "language_info": {
   "codemirror_mode": {
    "name": "ipython",
    "version": 3
   },
   "file_extension": ".py",
   "mimetype": "text/x-python",
   "name": "python",
   "nbconvert_exporter": "python",
   "pygments_lexer": "ipython3",
   "version": "3.5.2"
  }
 },
 "nbformat": 4,
 "nbformat_minor": 2
}
