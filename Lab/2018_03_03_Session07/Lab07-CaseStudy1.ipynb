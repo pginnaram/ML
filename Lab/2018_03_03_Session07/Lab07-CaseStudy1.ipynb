{
 "cells": [
  {
   "cell_type": "markdown",
   "metadata": {},
   "source": [
    "# Foundations of AI & ML\n",
    "## Session 07\n",
    "### CaseStudy 1\n",
    "### Lab\n",
    "\n",
    "**Objectives:** Create a non-linear regression based product rating solution.\n"
   ]
  },
  {
   "cell_type": "code",
   "execution_count": null,
   "metadata": {},
   "outputs": [],
   "source": [
    "import pandas as pd\n",
    "data = pd.read_csv(\"amazon_reviews.csv\")\n",
    "print(data.describe())\n",
    "data = data.dropna()\n",
    "print(data.describe())"
   ]
  },
  {
   "cell_type": "code",
   "execution_count": null,
   "metadata": {},
   "outputs": [],
   "source": [
    "data.head()"
   ]
  },
  {
   "cell_type": "code",
   "execution_count": null,
   "metadata": {},
   "outputs": [],
   "source": [
    "data.tail()"
   ]
  },
  {
   "cell_type": "code",
   "execution_count": null,
   "metadata": {},
   "outputs": [],
   "source": [
    "ratings = data['ratings'].values\n",
    "reviews = data['reviews'].values\n",
    "lengths = [len(r) for r in reviews]"
   ]
  },
  {
   "cell_type": "markdown",
   "metadata": {},
   "source": [
    "#### We first preprocess the data by removing all the incorrect rows (that have missing rating or reviews), unwanted columns, removing stopwords and soon."
   ]
  },
  {
   "cell_type": "code",
   "execution_count": null,
   "metadata": {},
   "outputs": [],
   "source": [
    "import re\n",
    "only_alnum = re.compile(r\"[^a-z0-9]+\")\n",
    "## Replaces one or more occurrence of any characters other than a-z and 0-9 with a space\n",
    "## This automatically replaces multiple spaces by 1 space\n",
    "\n",
    "## The try ... except ensures that if a review is mal-formed then the review is replaced with the word ERROR\n",
    "def cleanUp(s):\n",
    "    return re.sub(only_alnum, \" \", s.lower())"
   ]
  },
  {
   "cell_type": "code",
   "execution_count": null,
   "metadata": {},
   "outputs": [],
   "source": [
    "## We make a set for testing if a word is not useful\n",
    "## sets are way faster than lists for this purpose\n",
    "fluff = set([w.strip() for w in open(\"fluff.txt\")])"
   ]
  },
  {
   "cell_type": "code",
   "execution_count": null,
   "metadata": {},
   "outputs": [],
   "source": [
    "## Replace words like coooooool with cool, amaaaaaazing with amaazing and so on\n",
    "def dedup(s):\n",
    "    return re.sub(r'([a-z])\\1+', r'\\1\\1', s)\n",
    "print(dedup(\"cooooool\"))\n",
    "print(dedup(\"amaaaaaazzzzing\"))\n",
    "print(dedup('cool'))"
   ]
  },
  {
   "cell_type": "code",
   "execution_count": null,
   "metadata": {},
   "outputs": [],
   "source": [
    "def get_useful_words(s):\n",
    "    return [dedup(w) for w in cleanUp(s).split() if len(w) > 2 and w not in fluff]"
   ]
  },
  {
   "cell_type": "code",
   "execution_count": null,
   "metadata": {
    "scrolled": true
   },
   "outputs": [],
   "source": [
    "clean_reviews = [get_useful_words(review) for review in reviews]\n",
    "for i in range(5):\n",
    "    print(\"%4d\" %(len(reviews[i])), reviews[i], \"\\n==>\", clean_reviews[i])"
   ]
  },
  {
   "cell_type": "code",
   "execution_count": null,
   "metadata": {},
   "outputs": [],
   "source": [
    "final_reviews = list(zip(clean_reviews, ratings, lengths))\n",
    "#We look at a Random sample of 10 cleaned data.\n",
    "import random\n",
    "for i in range(10):\n",
    "    r = random.randrange(0, len(final_reviews))\n",
    "    print(final_reviews[r])"
   ]
  },
  {
   "cell_type": "markdown",
   "metadata": {},
   "source": [
    "** Case-Study:** Use the list of substantive words extracted from the Review as well as the length of the original Review. Decide how you would like to Derive a feature set to predict the Rating, which is a float (1.0 to 5.0).\n",
    "\n",
    "Remember to split the Data into training, testing and Validation sets.\n",
    "1. Select 10% of the Data for testing and put it away.\n",
    "2. Select 20% of the Data for Validation and 70% for Training.\n",
    "3. Vary the above ratio between Validation and Testing: 30 - 60, 45 - 45, 60 - 30 and Verify the effect if any on the prediction accuracy.\n",
    "\n",
    "\n",
    "Some Possibilities:\n",
    "\n",
    "1. You can use a single feature namely, the difference between number of Positive & Negative words. \n",
    "\n",
    "2. You can also considering predicting the rating based on the above difference and add the length of the Review as two independent Variables.\n",
    "\n",
    "3. You could consider the Positive Words and Negative Words as two independent Variables rather than treating their difference as single independent Variable, giving you more possibilities.\n"
   ]
  },
  {
   "cell_type": "code",
   "execution_count": null,
   "metadata": {},
   "outputs": [],
   "source": []
  }
 ],
 "metadata": {
  "kernelspec": {
   "display_name": "Python 2",
   "language": "python",
   "name": "python2"
  },
  "language_info": {
   "codemirror_mode": {
    "name": "ipython",
    "version": 2
   },
   "file_extension": ".py",
   "mimetype": "text/x-python",
   "name": "python",
   "nbconvert_exporter": "python",
   "pygments_lexer": "ipython2",
   "version": "2.7.12"
  }
 },
 "nbformat": 4,
 "nbformat_minor": 2
}
