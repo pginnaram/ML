{
 "cells": [
  {
   "cell_type": "markdown",
   "metadata": {
    "deletable": true,
    "editable": true
   },
   "source": [
    "# Foundations of AI & ML\n",
    "## Session 07\n",
    "### Experiment 1 - Part 1\n",
    "### Applying Multi Layer Perceptron"
   ]
  },
  {
   "cell_type": "code",
   "execution_count": 1,
   "metadata": {
    "collapsed": true,
    "deletable": true,
    "editable": true
   },
   "outputs": [],
   "source": [
    "# Load required libraries\n",
    "from sklearn import datasets\n",
    "from sklearn.preprocessing import StandardScaler\n",
    "from sklearn.linear_model import Perceptron\n",
    "from sklearn.model_selection import train_test_split\n",
    "from sklearn.metrics import accuracy_score\n",
    "\n",
    "from sklearn.neural_network import MLPClassifier\n",
    "import numpy as np"
   ]
  },
  {
   "cell_type": "code",
   "execution_count": 2,
   "metadata": {
    "collapsed": true,
    "deletable": true,
    "editable": true
   },
   "outputs": [],
   "source": [
    "# Load the iris dataset\n",
    "iris = datasets.load_iris()\n",
    "\n",
    "# Create our X and y data\n",
    "X = iris.data\n",
    "y = iris.target"
   ]
  },
  {
   "cell_type": "code",
   "execution_count": 3,
   "metadata": {
    "collapsed": false,
    "deletable": true,
    "editable": true
   },
   "outputs": [
    {
     "data": {
      "text/plain": [
       "array([0, 0, 0, 0, 0, 1, 1, 1, 1, 1])"
      ]
     },
     "execution_count": 3,
     "metadata": {},
     "output_type": "execute_result"
    }
   ],
   "source": [
    "# View ten observations of our y data\n",
    "y[45:55]"
   ]
  },
  {
   "cell_type": "code",
   "execution_count": 4,
   "metadata": {
    "collapsed": false,
    "deletable": true,
    "editable": true
   },
   "outputs": [
    {
     "data": {
      "text/plain": [
       "array([[4.8, 3. , 1.4, 0.3],\n",
       "       [5.1, 3.8, 1.6, 0.2],\n",
       "       [4.6, 3.2, 1.4, 0.2],\n",
       "       [5.3, 3.7, 1.5, 0.2],\n",
       "       [5. , 3.3, 1.4, 0.2],\n",
       "       [7. , 3.2, 4.7, 1.4],\n",
       "       [6.4, 3.2, 4.5, 1.5],\n",
       "       [6.9, 3.1, 4.9, 1.5],\n",
       "       [5.5, 2.3, 4. , 1.3],\n",
       "       [6.5, 2.8, 4.6, 1.5]])"
      ]
     },
     "execution_count": 4,
     "metadata": {},
     "output_type": "execute_result"
    }
   ],
   "source": [
    "# View the corresponding x data.\n",
    "X[45:55]"
   ]
  },
  {
   "cell_type": "code",
   "execution_count": 5,
   "metadata": {
    "collapsed": true,
    "deletable": true,
    "editable": true
   },
   "outputs": [],
   "source": [
    "# Split the data into 70% training data and 30% test data\n",
    "X_train, X_test, y_train, y_test = train_test_split(X, y, test_size=0.3)"
   ]
  },
  {
   "cell_type": "code",
   "execution_count": 6,
   "metadata": {
    "collapsed": false,
    "deletable": true,
    "editable": true
   },
   "outputs": [
    {
     "data": {
      "text/plain": [
       "StandardScaler(copy=True, with_mean=True, with_std=True)"
      ]
     },
     "execution_count": 6,
     "metadata": {},
     "output_type": "execute_result"
    }
   ],
   "source": [
    "# Train the scaler, which standarizes all the features to have mean=0 and unit variance\n",
    "sc = StandardScaler()\n",
    "sc.fit(X_train)"
   ]
  },
  {
   "cell_type": "code",
   "execution_count": 7,
   "metadata": {
    "collapsed": true,
    "deletable": true,
    "editable": true
   },
   "outputs": [],
   "source": [
    "# Apply the scaler to the X training data\n",
    "X_train_std = sc.transform(X_train)\n",
    "\n",
    "# Apply the SAME scaler to the X test data\n",
    "X_test_std = sc.transform(X_test)"
   ]
  },
  {
   "cell_type": "code",
   "execution_count": 8,
   "metadata": {
    "collapsed": false,
    "deletable": true,
    "editable": true
   },
   "outputs": [
    {
     "data": {
      "text/plain": [
       "MLPClassifier(activation='logistic', alpha=1e-05, batch_size=6, beta_1=0.9,\n",
       "       beta_2=0.999, early_stopping=False, epsilon=1e-08,\n",
       "       hidden_layer_sizes=(7, 3), learning_rate='constant',\n",
       "       learning_rate_init=0.001, max_iter=300, momentum=0.9,\n",
       "       nesterovs_momentum=True, power_t=0.5, random_state=1, shuffle=True,\n",
       "       solver='lbfgs', tol=0.0001, validation_fraction=0.1, verbose=False,\n",
       "       warm_start=False)"
      ]
     },
     "execution_count": 8,
     "metadata": {},
     "output_type": "execute_result"
    }
   ],
   "source": [
    "clf = MLPClassifier(activation='logistic', alpha=1e-05, batch_size=6, beta_1=0.9,\n",
    "       beta_2=0.999, early_stopping=False, epsilon=1e-08,\n",
    "       hidden_layer_sizes=(7, 3), learning_rate='constant',\n",
    "       learning_rate_init=0.001, max_iter=300, momentum=0.9,\n",
    "       nesterovs_momentum=True, power_t=0.5, random_state=1, shuffle=True,\n",
    "       solver='lbfgs', tol=0.0001, validation_fraction=0.1, verbose=False,\n",
    "       warm_start=False)\n",
    "clf.fit(X_train_std, y_train)"
   ]
  },
  {
   "cell_type": "code",
   "execution_count": 9,
   "metadata": {
    "collapsed": true,
    "deletable": true,
    "editable": true
   },
   "outputs": [],
   "source": [
    "# Apply the trained perceptron on the X data to make predicts for the y test data\n",
    "y_pred = clf.predict(X_test_std)"
   ]
  },
  {
   "cell_type": "code",
   "execution_count": 10,
   "metadata": {
    "collapsed": false,
    "deletable": true,
    "editable": true
   },
   "outputs": [
    {
     "data": {
      "text/plain": [
       "array([0, 0, 2, 1, 2, 1, 0, 0, 1, 0, 0, 0, 2, 2, 0, 2, 0, 1, 0, 1, 1, 1,\n",
       "       2, 2, 2, 0, 2, 1, 0, 0, 1, 1, 0, 1, 1, 1, 2, 2, 2, 1, 0, 1, 1, 1,\n",
       "       1])"
      ]
     },
     "execution_count": 10,
     "metadata": {},
     "output_type": "execute_result"
    }
   ],
   "source": [
    "y_pred"
   ]
  },
  {
   "cell_type": "code",
   "execution_count": 11,
   "metadata": {
    "collapsed": false,
    "deletable": true,
    "editable": true
   },
   "outputs": [
    {
     "name": "stdout",
     "output_type": "stream",
     "text": [
      "Accuracy: 0.93\n"
     ]
    }
   ],
   "source": [
    "# View the accuracy of the model, which is: 1 - (observations predicted wrong / total observations)\n",
    "print('Accuracy: %.2f' % accuracy_score(y_test, y_pred))"
   ]
  },
  {
   "cell_type": "code",
   "execution_count": 12,
   "metadata": {
    "collapsed": false,
    "deletable": true,
    "editable": true
   },
   "outputs": [
    {
     "data": {
      "text/plain": [
       "[array([[ 0.1749205 ,  3.29721751,  3.85171704,  7.03638205,  2.01867347,\n",
       "         -0.03644856, -1.92735742],\n",
       "        [-5.24030332, -9.48818078, -0.52043254, -9.08333695,  2.09960465,\n",
       "          0.87061755,  2.48751972],\n",
       "        [ 0.72529691,  5.91137141,  4.75892063, 10.2412869 ,  1.30890402,\n",
       "         -4.61135399, -3.21313064],\n",
       "        [ 0.15596747,  3.96606734,  5.52306078,  9.68592763,  2.2323723 ,\n",
       "         -8.1367411 , -4.44786476]]),\n",
       " array([[ 0.0286701 , -1.00980171,  2.54788001],\n",
       "        [-2.68394958, -3.98572948,  7.55824683],\n",
       "        [ 8.47498247,  3.33241787,  1.12471938],\n",
       "        [-3.3865144 , -7.17252564,  9.61868062],\n",
       "        [ 5.73285448,  3.81094599, -1.92193264],\n",
       "        [-1.94894751, 22.11467919, -7.79754961],\n",
       "        [ 1.78579251, 12.53410017, -8.57182336]]),\n",
       " array([[  0.9300695 ,  -2.05235284,   0.79463921],\n",
       "        [  6.77294322,   8.17782571, -15.344918  ],\n",
       "        [-28.73779816,   9.02317499,  19.96230902]])]"
      ]
     },
     "execution_count": 12,
     "metadata": {},
     "output_type": "execute_result"
    }
   ],
   "source": [
    "clf.coefs_"
   ]
  },
  {
   "cell_type": "code",
   "execution_count": 13,
   "metadata": {
    "collapsed": false,
    "deletable": true,
    "editable": true
   },
   "outputs": [
    {
     "data": {
      "text/plain": [
       "array([0, 1, 2])"
      ]
     },
     "execution_count": 13,
     "metadata": {},
     "output_type": "execute_result"
    }
   ],
   "source": [
    "clf.classes_"
   ]
  },
  {
   "cell_type": "code",
   "execution_count": 14,
   "metadata": {
    "collapsed": false,
    "deletable": true,
    "editable": true
   },
   "outputs": [
    {
     "name": "stdout",
     "output_type": "stream",
     "text": [
      "[1 0 0 1 0 1 1 2 1 0 1 0 1 1 2 2 2 0 0 1 2 2 0 1 0 1 1 2 0 0 1 2 0 1 2 2 0\n",
      " 0 1 1 2 0 1 1 2]\n",
      "Accuracy: 0.93\n",
      "[1 2 1 0 2 0 1 1 1 0 1 2 1 2 2 0 1 2 1 2 2 1 0 1 0 1 1 1 2 1 2 0 0 1 2 2 0\n",
      " 2 1 1 1 0 2 1 0]\n",
      "Accuracy: 0.96\n",
      "[2 2 1 0 1 2 1 2 1 0 0 1 1 2 2 0 2 0 0 2 1 1 2 1 0 1 0 1 1 1 0 1 0 0 2 1 0\n",
      " 0 2 0 1 1 0 2 1]\n",
      "Accuracy: 0.91\n",
      "[2 1 2 0 1 0 1 0 1 2 0 2 0 0 0 0 2 1 1 1 2 0 1 0 0 2 2 2 0 1 0 0 0 2 0 1 0\n",
      " 2 2 1 2 0 0 0 2]\n",
      "Accuracy: 0.91\n",
      "[2 2 0 0 0 0 2 2 2 1 2 2 0 2 2 1 0 1 2 1 1 2 1 1 0 1 1 0 1 1 2 0 1 0 1 0 0\n",
      " 1 1 1 1 2 0 0 1]\n",
      "Accuracy: 0.96\n",
      "[1 0 1 1 2 0 0 0 2 2 1 1 2 1 2 2 1 0 2 2 1 0 1 2 1 0 1 1 2 0 0 0 1 2 1 2 1\n",
      " 2 0 2 2 1 0 2 2]\n",
      "Accuracy: 0.96\n",
      "[0 2 2 1 1 1 0 1 1 1 1 2 0 2 1 1 0 2 1 1 2 2 1 1 2 2 2 0 0 2 1 0 0 0 1 2 0\n",
      " 2 1 1 0 0 1 2 0]\n",
      "Accuracy: 0.91\n",
      "[0 1 0 0 0 1 2 1 2 1 2 0 2 1 1 2 2 0 0 1 1 0 2 1 1 0 1 2 2 1 1 2 2 2 1 2 0\n",
      " 0 0 2 0 0 2 1 2]\n",
      "Accuracy: 0.98\n",
      "[2 2 1 0 2 2 1 0 0 1 2 1 2 2 1 0 2 0 0 1 2 0 0 0 0 0 1 1 1 0 2 0 2 0 2 1 2\n",
      " 1 2 1 2 2 2 0 0]\n",
      "Accuracy: 0.96\n",
      "[2 1 1 1 1 1 1 0 0 2 0 2 0 1 0 2 1 0 2 2 2 1 0 2 1 1 1 2 1 0 1 1 2 1 2 2 1\n",
      " 2 1 0 2 2 1 0 0]\n",
      "Accuracy: 0.93\n",
      "[2 0 2 0 0 1 0 0 0 1 2 1 2 2 1 2 2 1 1 1 0 2 2 2 0 0 0 1 2 0 1 2 1 2 2 2 2\n",
      " 0 1 1 1 2 2 1 0]\n",
      "Accuracy: 0.91\n",
      "[0 2 2 0 1 1 2 2 0 2 2 2 2 2 1 2 2 0 1 0 1 0 0 1 1 1 1 0 0 1 0 2 1 0 2 0 1\n",
      " 0 1 0 2 1 2 0 1]\n",
      "Accuracy: 0.96\n",
      "[0 1 0 2 0 2 1 1 0 2 2 1 0 1 1 0 1 2 0 2 1 1 0 2 2 1 0 0 2 1 1 1 1 2 1 2 1\n",
      " 1 0 0 0 0 2 2 0]\n",
      "Accuracy: 0.98\n",
      "[2 2 1 0 0 0 1 0 1 0 0 2 0 2 2 1 2 2 0 1 0 1 1 2 1 1 0 1 0 0 2 0 1 2 1 1 1\n",
      " 1 2 0 2 0 1 2 2]\n",
      "Accuracy: 0.96\n",
      "[0 2 1 2 1 1 2 2 2 0 2 0 1 1 2 2 2 0 0 1 1 1 0 1 0 0 0 0 0 1 2 0 2 0 1 1 2\n",
      " 1 0 2 2 2 2 2 2]\n",
      "Accuracy: 0.98\n",
      "[2 0 0 0 1 0 1 0 0 1 1 2 2 0 0 0 1 1 0 1 2 1 0 0 2 2 2 1 2 2 2 0 2 0 2 2 0\n",
      " 1 2 1 1 0 0 2 1]\n",
      "Accuracy: 0.96\n",
      "[2 2 1 2 2 0 0 0 2 1 0 0 2 1 1 0 2 0 2 0 2 1 0 1 1 1 2 0 1 2 0 1 1 0 2 2 0\n",
      " 0 2 2 2 0 2 0 1]\n",
      "Accuracy: 1.00\n",
      "[2 0 0 2 1 2 1 1 1 1 2 2 0 0 2 2 1 2 1 0 0 1 0 2 1 1 2 0 0 0 2 0 1 0 0 1 1\n",
      " 0 1 2 2 2 2 1 1]\n",
      "Accuracy: 0.96\n",
      "[0 2 2 2 2 0 2 0 1 2 2 2 0 2 2 0 2 0 0 2 0 2 1 1 2 1 1 2 1 1 0 1 2 2 2 0 1\n",
      " 0 2 0 1 1 0 2 0]\n",
      "Accuracy: 0.93\n",
      "[2 0 2 2 1 0 2 2 2 1 0 2 2 2 2 0 1 1 2 1 0 1 2 1 0 0 0 1 2 1 2 1 2 2 0 2 2\n",
      " 1 0 0 0 1 1 1 1]\n",
      "Accuracy: 0.96\n"
     ]
    }
   ],
   "source": [
    "for trial in range(20):\n",
    "    X_train, X_test, y_train, y_test = train_test_split(X, y, test_size=0.3)\n",
    "    sc = StandardScaler()\n",
    "    sc.fit(X_train)\n",
    "    X_train_std = sc.transform(X_train)\n",
    "    X_test_std = sc.transform(X_test)\n",
    "    clf = MLPClassifier(activation='logistic', alpha=1e-05, batch_size=6, beta_1=0.9,\n",
    "       beta_2=0.999, early_stopping=False, epsilon=1e-08,\n",
    "       hidden_layer_sizes=(7, ), learning_rate='constant',\n",
    "       learning_rate_init=0.001, max_iter=300, momentum=0.9,\n",
    "       nesterovs_momentum=True, power_t=0.5, random_state=1, shuffle=True,\n",
    "       solver='lbfgs', tol=0.0001, validation_fraction=0.1, verbose=False,\n",
    "       warm_start=False)\n",
    "    clf.fit(X_train_std, y_train)\n",
    "    y_pred = clf.predict(X_test_std)\n",
    "    print(y_pred)\n",
    "    print('Accuracy: %.2f' % accuracy_score(y_test, y_pred))"
   ]
  },
  {
   "cell_type": "markdown",
   "metadata": {
    "deletable": true,
    "editable": true
   },
   "source": [
    "As you can see this is performing much better; however a few times the neural netweok is getting caught in the local minima"
   ]
  },
  {
   "cell_type": "code",
   "execution_count": 15,
   "metadata": {
    "collapsed": false,
    "deletable": true,
    "editable": true
   },
   "outputs": [],
   "source": [
    "xx, yy, zz, aa = np.mgrid[-0:10:0.5, 0:10:0.5, 0:10:0.5, 0:10:0.5]\n",
    "grid = np.c_[xx.ravel(), yy.ravel(), zz.ravel(), aa.ravel()]\n",
    "probs = clf.predict_proba(grid)[:, 1].reshape(xx.shape)"
   ]
  },
  {
   "cell_type": "code",
   "execution_count": 16,
   "metadata": {
    "collapsed": false
   },
   "outputs": [
    {
     "data": {
      "image/png": "[encoded data removed]",
      "text/plain": [
       "<matplotlib.figure.Figure at 0x7f56c0ec99b0>"
      ]
     },
     "metadata": {},
     "output_type": "display_data"
    }
   ],
   "source": [
    "import matplotlib.pyplot as plt\n",
    "f, ax = plt.subplots(figsize=(8, 6))\n",
    "xx, yy = np.mgrid[-0:10:0.5, 0:10:0.5]\n",
    "contour = ax.contourf(xx, yy, probs[:,:, 0, 0].reshape(20,20), 25, cmap=\"RdYlBu\",\n",
    "                      vmin=0, vmax=1)\n",
    "ax_c = f.colorbar(contour)\n",
    "ax_c.set_label(\"$P(y = 1)$\")\n",
    "ax_c.set_ticks([0, .25, .5, .75, 1])\n",
    "\n",
    "ax.scatter(X_train[:,1], X_train[:, 2], c=y_train[:], s=50,\n",
    "           cmap=\"RdYlBu\", vmin=-.2, vmax=1.2,\n",
    "           edgecolor=\"white\", linewidth=1)\n",
    "plt.show()"
   ]
  },
  {
   "cell_type": "code",
   "execution_count": 19,
   "metadata": {
    "collapsed": false
   },
   "outputs": [
    {
     "data": {
      "image/png": "[encoded data removed]",
      "text/plain": [
       "<matplotlib.figure.Figure at 0x7f56be3e7c50>"
      ]
     },
     "metadata": {},
     "output_type": "display_data"
    }
   ],
   "source": [
    "import numpy as np\n",
    "import matplotlib.pyplot as plt\n",
    "from sklearn import svm, datasets\n",
    "from utils import *\n",
    "\n",
    "# Take the first two features. TODO - Try combinations of two features\n",
    "X = iris.data[:, :2]\n",
    "y = iris.target\n",
    "\n",
    "# we create an instance of MLP and fit out data. We do not scale our\n",
    "# data since we want to plot the vectors\n",
    "models = [clf]\n",
    "models = [clf.fit(X, y) for clf in models]\n",
    "\n",
    "# title for the plots\n",
    "titles = 'Classification with MLP'\n",
    "\n",
    "# Set-up 2x2 grid for plotting.\n",
    "\n",
    "X0, X1 = X[:, 0], X[:, 1]\n",
    "xx, yy = make_meshgrid(X0, X1)\n",
    "\n",
    "import matplotlib.pyplot as plt\n",
    "f, ax = plt.subplots(figsize=(8, 6))\n",
    "\n",
    "plot_contours(ax, clf, xx, yy, cmap=plt.cm.coolwarm, alpha=0.8)\n",
    "ax.scatter(X0, X1, c=y, cmap=plt.cm.coolwarm, s=20, edgecolors='k')\n",
    "ax.set_xlim(xx.min(), xx.max())\n",
    "ax.set_ylim(yy.min(), yy.max())\n",
    "ax.set_xlabel('Sepal length')\n",
    "ax.set_ylabel('Sepal width')\n",
    "ax.set_xticks(())\n",
    "ax.set_yticks(())\n",
    "ax.set_title(titles)\n",
    "\n",
    "plt.show()"
   ]
  },
  {
   "cell_type": "code",
   "execution_count": null,
   "metadata": {
    "collapsed": true
   },
   "outputs": [],
   "source": []
  },
  {
   "cell_type": "code",
   "execution_count": null,
   "metadata": {
    "collapsed": true
   },
   "outputs": [],
   "source": []
  }
 ],
 "metadata": {
  "kernelspec": {
   "display_name": "Python 3",
   "language": "python",
   "name": "python3"
  },
  "language_info": {
   "codemirror_mode": {
    "name": "ipython",
    "version": 3
   },
   "file_extension": ".py",
   "mimetype": "text/x-python",
   "name": "python",
   "nbconvert_exporter": "python",
   "pygments_lexer": "ipython3",
   "version": "3.5.4"
  }
 },
 "nbformat": 4,
 "nbformat_minor": 2
}
