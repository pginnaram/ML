{
 "cells": [
  {
   "cell_type": "markdown",
   "metadata": {},
   "source": [
    "# Foundations of AI & ML\n",
    "## Session 05\n",
    "### HomeWork\n",
    "### Lab\n",
    "\n",
    "**Objectives:** Using the training data estimate the regression coefficients using maximum likelihood.\n",
    "Refer http://www.machinegurning.com/rstats/logreg_math/ for detailed Problem Description.\n",
    "\n",
    "**DataSet Description** This data approach student achievement in secondary education of two Portuguese schools. The data attributes include student grades, demographic, social and school related features) and it was collected by using school reports and questionnaires. We are going to work on the Maths DataSet.\n",
    "\n",
    "**Attribute Information**\n",
    "\n",
    "1 school - student's school (binary: 'GP' - Gabriel Pereira or 'MS' - Mousinho da Silveira) \n",
    "\n",
    "2 sex - student's sex (binary: 'F' - female or 'M' - male) \n",
    "\n",
    "3 age - student's age (numeric: from 15 to 22) \n",
    "\n",
    "4 address - student's home address type (binary: 'U' - urban or 'R' - rural) \n",
    "\n",
    "5 famsize - family size (binary: 'LE3' - less or equal to 3 or 'GT3' - greater than 3) \n",
    "\n",
    "6 Pstatus - parent's cohabitation status (binary: 'T' - living together or 'A' - apart) \n",
    "\n",
    "7 Medu - mother's education (numeric: 0 - none, 1 - primary education (4th grade), 2 â€“ 5th to 9th grade, 3 â€“ secondary education or 4 â€“ higher education) \n",
    "\n",
    "8 Fedu - father's education (numeric: 0 - none, 1 - primary education (4th grade), 2 â€“ 5th to 9th grade, 3 â€“ secondary education or 4 â€“ higher education) \n",
    "\n",
    "9 Mjob - mother's job (nominal: 'teacher', 'health' care related, civil 'services' (e.g. administrative or police), 'at_home' or 'other') \n",
    "\n",
    "10 Fjob - father's job (nominal: 'teacher', 'health' care related, civil 'services' (e.g. administrative or police), 'at_home' or 'other') \n",
    "\n",
    "11 reason - reason to choose this school (nominal: close to 'home', school 'reputation', 'course' preference or 'other') \n",
    "\n",
    "12 guardian - student's guardian (nominal: 'mother', 'father' or 'other') \n",
    "\n",
    "13 traveltime - home to school travel time (numeric: 1 - <15 min., 2 - 15 to 30 min., 3 - 30 min. to 1 hour, or 4 - >1 hour) \n",
    "\n",
    "14 studytime - weekly study time (numeric: 1 - <2 hours, 2 - 2 to 5 hours, 3 - 5 to 10 hours, or 4 - >10 hours)\n",
    "\n",
    "15 failures - number of past class failures (numeric: n if 1<=n<3, else 4) \n",
    "\n",
    "16 schoolsup - extra educational support (binary: yes or no) \n",
    "\n",
    "17 famsup - family educational support (binary: yes or no) \n",
    "\n",
    "18 paid - extra paid classes within the course subject (Math) (binary: yes or no) \n",
    "\n",
    "19 activities - extra-curricular activities (binary: yes or no) \n",
    "\n",
    "20 nursery - attended nursery school (binary: yes or no) \n",
    "\n",
    "21 higher - wants to take higher education (binary: yes or no) \n",
    "\n",
    "22 internet - Internet access at home (binary: yes or no) \n",
    "\n",
    "23 romantic - with a romantic relationship (binary: yes or no) \n",
    "\n",
    "24 famrel - quality of family relationships (numeric: from 1 - very bad to 5 - excellent) \n",
    "\n",
    "25 freetime - free time after school (numeric: from 1 - very low to 5 - very high) \n",
    "\n",
    "26 goout - going out with friends (numeric: from 1 - very low to 5 - very high) \n",
    "\n",
    "27 Dalc - workday alcohol consumption (numeric: from 1 - very low to 5 - very high) \n",
    "\n",
    "28 Walc - weekend alcohol consumption (numeric: from 1 - very low to 5 - very high) \n",
    "\n",
    "29 health - current health status (numeric: from 1 - very bad to 5 - very good) \n",
    "\n",
    "30 absences - number of school absences (numeric: from 0 to 93) \n",
    "\n",
    "31 G1 - first period grade (numeric: from 0 to 20) \n",
    "\n",
    "32 G2 - second period grade (numeric: from 0 to 20) \n",
    "\n",
    "32 G3 - final grade (numeric: from 0 to 20, output target)"
   ]
  },
  {
   "cell_type": "code",
   "execution_count": null,
   "metadata": {},
   "outputs": [],
   "source": [
    "import pandas as pd"
   ]
  },
  {
   "cell_type": "code",
   "execution_count": null,
   "metadata": {},
   "outputs": [],
   "source": [
    "def convert(s):\n",
    "    value = s.strip().lower()\n",
    "    if value in [\"gp\", \"f\", \"u\", \"gt3\",\"a\",\"mother\",\"yes\",\"at_home\",\"pass\"]:\n",
    "        return 1\n",
    "    if value in [\"ms\", \"m\", \"r\", \"le3\",\"t\",\"father\",\"no\",\"services\",\"fail\"]:\n",
    "        return 0\n",
    "    if value in [\"health\",\"course\"]:\n",
    "        return 2\n",
    "    if value in [\"teacher\",\"reputation\"]:\n",
    "        return 3\n",
    "    return -1\n",
    "\n",
    "data = pd.read_csv(\"newstudentdata.csv\",converters={'school':convert, 'sex':convert, 'address':convert, 'famsize':convert, 'Pstatus':convert,\n",
    "       'Mjob':convert, 'Fjob':convert, 'reason':convert, 'guardian':convert,\n",
    "       'schoolsup':convert, 'famsup':convert, 'paid':convert, 'activities':convert,\n",
    "       'nursery':convert, 'higher':convert, 'internet':convert, 'romantic':convert,'grade':convert})"
   ]
  },
  {
   "cell_type": "code",
   "execution_count": null,
   "metadata": {},
   "outputs": [],
   "source": [
    "data.head()"
   ]
  },
  {
   "cell_type": "markdown",
   "metadata": {},
   "source": [
    "split into training and test"
   ]
  },
  {
   "cell_type": "code",
   "execution_count": null,
   "metadata": {},
   "outputs": [],
   "source": [
    "import numpy as np\n",
    "import random\n",
    "TRAIN_TEST_RATIO = 0.85\n",
    "picker = list(range(data.shape[0]))\n",
    "# random.shuffle(picker)       ### randomly shuffle the data\n",
    "trainMax = int(len(picker) * TRAIN_TEST_RATIO)\n",
    "train_data = []\n",
    "test_data = []\n",
    "train_labels = []\n",
    "test_labels = []\n",
    "for pick in picker[:trainMax]:\n",
    "    train_data.append(list(data.values[pick][1:-1]))         ### select 80% of data to be used as training set\n",
    "    train_labels.append((data.values[pick][-1]))\n",
    "for pick in picker[trainMax:]:\n",
    "    test_data.append(list(data.values[pick][1:-1]))       ### select 20% of data to be used as test set\n",
    "    test_labels.append((data.values[pick][-1]))\n",
    "num_feat = len(train_data[0])    ## number of features to train\n",
    "\n",
    "train_data=np.array(train_data)\n",
    "train_labels=np.array(train_labels)\n",
    "train_labels = np.reshape(train_labels,(train_data.shape[0],1))\n",
    "test_data=np.array(test_data)\n",
    "test_labels=np.array(test_labels)\n",
    "test_labels=np.reshape(test_labels,(test_data.shape[0],1))\n",
    "print(num_feat)\n",
    "print(train_data.shape, train_labels.shape)\n",
    "print(train_data[0])\n",
    "print(train_labels[0])\n"
   ]
  },
  {
   "cell_type": "markdown",
   "metadata": {},
   "source": [
    "define logistic function and sgd"
   ]
  },
  {
   "cell_type": "code",
   "execution_count": null,
   "metadata": {},
   "outputs": [],
   "source": [
    "import numpy as np\n",
    "def logf(a, x):\n",
    "    return 1.0 / (1.0 + np.exp(-((x @ a))))\n",
    "\n",
    "def dlogf(a, x):\n",
    "    return logf(a, x) * (1 - logf(a, x))\n",
    "##\n",
    "## The derivative of the logistic function is f * (1 - f)\n",
    "##\n",
    "def one_step(x, y, a, eta):\n",
    "    x=np.hstack( (x,np.ones((x.shape[0],1))) )\n",
    "    ypred = logf(a, x)\n",
    "    error = np.asscalar(sum((y - ypred)**2))\n",
    "    delta_a = sum((y - ypred) * ypred * (1 - ypred) * x)\n",
    "    delta_a = np.reshape(delta_a, (delta_a.shape[0],1))\n",
    "    a = a + (delta_a * eta)\n",
    "    return a, error/y.shape[0]"
   ]
  },
  {
   "cell_type": "markdown",
   "metadata": {},
   "source": [
    "do batch gradient descent to estimate coefficients"
   ]
  },
  {
   "cell_type": "code",
   "execution_count": null,
   "metadata": {},
   "outputs": [],
   "source": [
    "a = np.zeros((num_feat+1,1))\n",
    "eta = 0.002\n",
    "for times in range(50000):\n",
    "    a, error = one_step(train_data, train_labels, a, eta)\n",
    "    if times%1000==0:\n",
    "        print(error)"
   ]
  },
  {
   "cell_type": "markdown",
   "metadata": {},
   "source": [
    "get accuracy "
   ]
  },
  {
   "cell_type": "code",
   "execution_count": null,
   "metadata": {},
   "outputs": [],
   "source": [
    "test_data_append=np.hstack( (test_data,np.ones((test_data.shape[0],1))) )\n",
    "pred_labels = np.round(logf(a,test_data_append))\n",
    "print(pred_labels.shape, test_labels.shape)\n",
    "#print((pred_labels[:,0]==test_labels[:,0]))"
   ]
  },
  {
   "cell_type": "code",
   "execution_count": null,
   "metadata": {},
   "outputs": [],
   "source": [
    "results = []\n",
    "for i in range(len(pred_labels)):\n",
    "    results.append(pred_labels[i]==test_labels[i])"
   ]
  },
  {
   "cell_type": "code",
   "execution_count": null,
   "metadata": {},
   "outputs": [],
   "source": [
    "results.count(True)/len(pred_labels)"
   ]
  },
  {
   "cell_type": "markdown",
   "metadata": {},
   "source": [
    "**Excerise 1 :**  Plot the Precision-Recall Curve."
   ]
  },
  {
   "cell_type": "markdown",
   "metadata": {},
   "source": [
    "**Excerise 2:** Vary the above ratio between Training and Testing.Verify the effect if any on the prediction accuracy."
   ]
  },
  {
   "cell_type": "code",
   "execution_count": null,
   "metadata": {},
   "outputs": [],
   "source": []
  }
 ],
 "metadata": {
  "kernelspec": {
   "display_name": "Python 3",
   "language": "python",
   "name": "python3"
  },
  "language_info": {
   "codemirror_mode": {
    "name": "ipython",
    "version": 3
   },
   "file_extension": ".py",
   "mimetype": "text/x-python",
   "name": "python",
   "nbconvert_exporter": "python",
   "pygments_lexer": "ipython3",
   "version": "3.6.4"
  }
 },
 "nbformat": 4,
 "nbformat_minor": 2
}
