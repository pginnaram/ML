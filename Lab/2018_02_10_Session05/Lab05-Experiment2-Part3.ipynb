{
 "cells": [
  {
   "cell_type": "markdown",
   "metadata": {},
   "source": [
    "# Foundations of AI & ML\n",
    "## Session 05\n",
    "### Experiment 2 - Part 3\n",
    "## LOGISTIC REGRESSION\n",
    "\n",
    "**Objectives:** This Experiment shows how to derive Conclusions from the DataSet after applying Logistic Regression. We have taken a sample data showing the relation between number of Hours Spent studying and Pass/ Fail status. We will plot a graph showing Probability of passing the exam vs Hours of Studying.\n",
    "\n",
    "**Expected Time:** This Experiment should take around 15 mins"
   ]
  },
  {
   "cell_type": "code",
   "execution_count": 1,
   "metadata": {},
   "outputs": [],
   "source": [
    "import pandas as pd\n",
    "import numpy as np\n",
    "import matplotlib.pyplot as plt "
   ]
  },
  {
   "cell_type": "markdown",
   "metadata": {},
   "source": [
    "### Reading  the data"
   ]
  },
  {
   "cell_type": "code",
   "execution_count": 2,
   "metadata": {},
   "outputs": [
    {
     "data": {
      "text/html": [
       "<div>\n",
       "<style>\n",
       "    .dataframe thead tr:only-child th {\n",
       "        text-align: right;\n",
       "    }\n",
       "\n",
       "    .dataframe thead th {\n",
       "        text-align: left;\n",
       "    }\n",
       "\n",
       "    .dataframe tbody tr th {\n",
       "        vertical-align: top;\n",
       "    }\n",
       "</style>\n",
       "<table border=\"1\" class=\"dataframe\">\n",
       "  <thead>\n",
       "    <tr style=\"text-align: right;\">\n",
       "      <th></th>\n",
       "      <th>Hours</th>\n",
       "      <th>Pass</th>\n",
       "    </tr>\n",
       "  </thead>\n",
       "  <tbody>\n",
       "    <tr>\n",
       "      <th>0</th>\n",
       "      <td>0.50</td>\n",
       "      <td>0</td>\n",
       "    </tr>\n",
       "    <tr>\n",
       "      <th>1</th>\n",
       "      <td>0.75</td>\n",
       "      <td>0</td>\n",
       "    </tr>\n",
       "    <tr>\n",
       "      <th>2</th>\n",
       "      <td>1.00</td>\n",
       "      <td>0</td>\n",
       "    </tr>\n",
       "    <tr>\n",
       "      <th>3</th>\n",
       "      <td>1.25</td>\n",
       "      <td>0</td>\n",
       "    </tr>\n",
       "    <tr>\n",
       "      <th>4</th>\n",
       "      <td>1.50</td>\n",
       "      <td>0</td>\n",
       "    </tr>\n",
       "    <tr>\n",
       "      <th>5</th>\n",
       "      <td>1.75</td>\n",
       "      <td>0</td>\n",
       "    </tr>\n",
       "    <tr>\n",
       "      <th>6</th>\n",
       "      <td>1.75</td>\n",
       "      <td>1</td>\n",
       "    </tr>\n",
       "    <tr>\n",
       "      <th>7</th>\n",
       "      <td>2.00</td>\n",
       "      <td>0</td>\n",
       "    </tr>\n",
       "    <tr>\n",
       "      <th>8</th>\n",
       "      <td>2.25</td>\n",
       "      <td>1</td>\n",
       "    </tr>\n",
       "    <tr>\n",
       "      <th>9</th>\n",
       "      <td>2.50</td>\n",
       "      <td>0</td>\n",
       "    </tr>\n",
       "    <tr>\n",
       "      <th>10</th>\n",
       "      <td>2.75</td>\n",
       "      <td>1</td>\n",
       "    </tr>\n",
       "    <tr>\n",
       "      <th>11</th>\n",
       "      <td>3.00</td>\n",
       "      <td>0</td>\n",
       "    </tr>\n",
       "    <tr>\n",
       "      <th>12</th>\n",
       "      <td>3.25</td>\n",
       "      <td>1</td>\n",
       "    </tr>\n",
       "    <tr>\n",
       "      <th>13</th>\n",
       "      <td>3.50</td>\n",
       "      <td>0</td>\n",
       "    </tr>\n",
       "    <tr>\n",
       "      <th>14</th>\n",
       "      <td>4.00</td>\n",
       "      <td>1</td>\n",
       "    </tr>\n",
       "    <tr>\n",
       "      <th>15</th>\n",
       "      <td>4.25</td>\n",
       "      <td>1</td>\n",
       "    </tr>\n",
       "    <tr>\n",
       "      <th>16</th>\n",
       "      <td>4.50</td>\n",
       "      <td>1</td>\n",
       "    </tr>\n",
       "    <tr>\n",
       "      <th>17</th>\n",
       "      <td>4.75</td>\n",
       "      <td>1</td>\n",
       "    </tr>\n",
       "    <tr>\n",
       "      <th>18</th>\n",
       "      <td>5.00</td>\n",
       "      <td>1</td>\n",
       "    </tr>\n",
       "    <tr>\n",
       "      <th>19</th>\n",
       "      <td>5.50</td>\n",
       "      <td>1</td>\n",
       "    </tr>\n",
       "  </tbody>\n",
       "</table>\n",
       "</div>"
      ],
      "text/plain": [
       "    Hours  Pass\n",
       "0    0.50     0\n",
       "1    0.75     0\n",
       "2    1.00     0\n",
       "3    1.25     0\n",
       "4    1.50     0\n",
       "5    1.75     0\n",
       "6    1.75     1\n",
       "7    2.00     0\n",
       "8    2.25     1\n",
       "9    2.50     0\n",
       "10   2.75     1\n",
       "11   3.00     0\n",
       "12   3.25     1\n",
       "13   3.50     0\n",
       "14   4.00     1\n",
       "15   4.25     1\n",
       "16   4.50     1\n",
       "17   4.75     1\n",
       "18   5.00     1\n",
       "19   5.50     1"
      ]
     },
     "execution_count": 2,
     "metadata": {},
     "output_type": "execute_result"
    }
   ],
   "source": [
    "data = pd.read_csv('Hours.csv', header=0,  names=['Hours', 'Pass'])\n",
    "data"
   ]
  },
  {
   "cell_type": "code",
   "execution_count": 3,
   "metadata": {},
   "outputs": [
    {
     "name": "stdout",
     "output_type": "stream",
     "text": [
      "20 [ 0.5   0.75  1.    1.25  1.5   1.75  1.75  2.    2.25  2.5   2.75  3.\n",
      "  3.25  3.5   4.    4.25  4.5   4.75  5.    5.5 ]\n",
      "20 [0 0 0 0 0 0 1 0 1 0 1 0 1 0 1 1 1 1 1 1]\n"
     ]
    }
   ],
   "source": [
    "x = data['Hours'].values\n",
    "y = data['Pass'].values\n",
    "print(len(x), x)\n",
    "print(len(y), y)"
   ]
  },
  {
   "cell_type": "markdown",
   "metadata": {},
   "source": [
    "### Now let us calculate the logistic function"
   ]
  },
  {
   "cell_type": "code",
   "execution_count": 4,
   "metadata": {},
   "outputs": [],
   "source": [
    "def logf(a, b, x):\n",
    "    return 1.0 / (1.0 + np.exp(-a * x - b))\n",
    "\n",
    "def dlogf(a, b, x):\n",
    "    return logf(a, b, x) * (1 - logf(a, b, x))\n",
    "##\n",
    "## The derivative of the logistic function is f * (1 - f)\n",
    "##\n",
    "def one_step(x, y, a, b, eta):\n",
    "    ycalc = logf(a, b, x)\n",
    "    delta_a = sum((y - ycalc) * ycalc * (1 - ycalc) * x)\n",
    "    delta_b = sum((y - ycalc) * ycalc * (1 - ycalc))\n",
    "    a = a + delta_a * eta\n",
    "    b = b + delta_b * eta\n",
    "    error = sum((y - ycalc)**2)\n",
    "    return a, b, error"
   ]
  },
  {
   "cell_type": "markdown",
   "metadata": {},
   "source": [
    "### $eta$ = 0.001"
   ]
  },
  {
   "cell_type": "code",
   "execution_count": 6,
   "metadata": {},
   "outputs": [
    {
     "name": "stdout",
     "output_type": "stream",
     "text": [
      "0.999245047505 0.999389032719 8.52388950718\n",
      "0.617913952055 -1.49798441565 3.0849571055\n",
      "0.857584387911 -2.2513911088 2.79787087538\n",
      "0.972873726092 -2.60670512553 2.73255205452\n",
      "1.03963986911 -2.81109211086 2.71003370568\n",
      "1.08217356793 -2.9408902089 2.70052422046\n",
      "1.11089006731 -3.02837365061 2.69599241593\n",
      "1.13106258431 -3.0897654382 2.69364920593\n",
      "1.14565532934 -3.13414696414 2.69236284151\n",
      "1.15645752742 -3.16698560418 2.6916228694\n",
      "1.16460607027 -3.19174945635 2.69118064639\n",
      "1.17085188366 -3.21072655349 2.69090770144\n",
      "1.17570623937 -3.22547343108 2.69073445572\n",
      "1.17952588434 -3.23707553389 2.69062173342\n",
      "1.18256486932 -3.24630549844 2.69054673854\n",
      "1.18500727577 -3.25372297769 2.6904958223\n",
      "1.18698850829 -3.25973952855 2.69046060431\n",
      "1.18860949776 -3.26466186445 2.69043582157\n",
      "1.1899463782 -3.26872130787 2.69041810063\n",
      "1.19105720097 -3.27209421713 2.69040523833\n"
     ]
    }
   ],
   "source": [
    "a, b = 1, 1\n",
    "eta = 0.001\n",
    "for times in range(100000):\n",
    "    a, b, error = one_step(x, y, a, b, eta)\n",
    "    if times % 1000 == 0:\n",
    "        eta = max(0.00001, eta * 0.99)\n",
    "        if times % 5000 == 0:\n",
    "            print(a, b, error)"
   ]
  },
  {
   "cell_type": "markdown",
   "metadata": {},
   "source": [
    "### We will plot data and observe how logistic regression work"
   ]
  },
  {
   "cell_type": "code",
   "execution_count": 7,
   "metadata": {},
   "outputs": [
    {
     "data": {
      "image/png": "[encoded data removed]",
      "text/plain": [
       "<matplotlib.figure.Figure at 0x7fde71446208>"
      ]
     },
     "metadata": {},
     "output_type": "display_data"
    }
   ],
   "source": [
    "import matplotlib.pyplot as plt\n",
    "plt.plot(data.Hours, data.Pass, \"o\")\n",
    "plt.xlabel(\"Hours Studying\")\n",
    "plt.ylabel(\"Probability of passing the exam\")\n",
    "plt.title(\"Probability of passing the exam vs Hours of Studying \")\n",
    "\n",
    "ycalc = logf(a, b, x)\n",
    "plt.plot(x, ycalc)\n",
    "plt.plot(x, y, \"bo\")\n",
    "plt.grid(True)\n",
    "plt.show()"
   ]
  },
  {
   "cell_type": "code",
   "execution_count": null,
   "metadata": {},
   "outputs": [],
   "source": []
  }
 ],
 "metadata": {
  "kernelspec": {
   "display_name": "Python 3",
   "language": "python",
   "name": "python3"
  },
  "language_info": {
   "codemirror_mode": {
    "name": "ipython",
    "version": 3
   },
   "file_extension": ".py",
   "mimetype": "text/x-python",
   "name": "python",
   "nbconvert_exporter": "python",
   "pygments_lexer": "ipython3",
   "version": "3.5.2"
  }
 },
 "nbformat": 4,
 "nbformat_minor": 2
}
